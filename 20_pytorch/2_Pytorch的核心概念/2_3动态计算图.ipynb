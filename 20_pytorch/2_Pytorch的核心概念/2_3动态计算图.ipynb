{
 "cells": [
  {
   "cell_type": "markdown",
   "id": "8418234e-5a2d-42d0-bb88-6905e197820c",
   "metadata": {},
   "source": [
    "### 1. 计算图的正向传播是立即执行的 "
   ]
  },
  {
   "cell_type": "code",
   "execution_count": 1,
   "id": "4ff23a8c-aa50-4b89-af56-7748e74c2083",
   "metadata": {},
   "outputs": [],
   "source": [
    "import torch"
   ]
  },
  {
   "cell_type": "code",
   "execution_count": 2,
   "id": "f13508ce-513f-4922-a908-540b3d821645",
   "metadata": {},
   "outputs": [
    {
     "name": "stdout",
     "output_type": "stream",
     "text": [
      "tensor([[3., 1.]], requires_grad=True) 2\n"
     ]
    }
   ],
   "source": [
    "w = torch.tensor([[3.0, 1.0]], requires_grad = True)\n",
    "print(w, w.dim())"
   ]
  },
  {
   "cell_type": "code",
   "execution_count": 4,
   "id": "2e864512-0fec-48ea-bca0-9ed33a330583",
   "metadata": {},
   "outputs": [
    {
     "name": "stdout",
     "output_type": "stream",
     "text": [
      "tensor([[-1.0225,  0.8705],\n",
      "        [-1.0744,  0.3900],\n",
      "        [-1.6546, -0.6132],\n",
      "        [-0.1766,  0.7379],\n",
      "        [ 1.6862, -1.5031],\n",
      "        [ 0.3034,  0.2811],\n",
      "        [-0.8615, -1.0708],\n",
      "        [-0.8512,  0.7998],\n",
      "        [-0.3452, -0.7666],\n",
      "        [ 0.9913,  0.5325]]) 2\n"
     ]
    }
   ],
   "source": [
    "b = torch.tensor([[3.0]], requires_grad = True)\n",
    "x = torch.randn(10, 2)\n",
    "print(x, x.dim())"
   ]
  },
  {
   "cell_type": "code",
   "execution_count": 5,
   "id": "e2e33143-54fc-4af0-a5bb-fc21b879f121",
   "metadata": {},
   "outputs": [
    {
     "name": "stdout",
     "output_type": "stream",
     "text": [
      "tensor([[ 0.6094],\n",
      "        [-1.0475],\n",
      "        [-0.7576],\n",
      "        [ 0.8444],\n",
      "        [ 0.8226],\n",
      "        [-0.9716],\n",
      "        [ 1.0400],\n",
      "        [-0.7278],\n",
      "        [ 1.7263],\n",
      "        [-1.3268]]) 2\n"
     ]
    }
   ],
   "source": [
    "y = torch.randn(10, 1)\n",
    "print(y, y.dim())"
   ]
  },
  {
   "cell_type": "code",
   "execution_count": 6,
   "id": "f4d3784a-aec2-45f6-ae6d-fd3d62d144cd",
   "metadata": {},
   "outputs": [
    {
     "name": "stdout",
     "output_type": "stream",
     "text": [
      "tensor([[ 0.8030],\n",
      "        [ 0.1666],\n",
      "        [-2.5769],\n",
      "        [ 3.2081],\n",
      "        [ 6.5555],\n",
      "        [ 4.1915],\n",
      "        [-0.6554],\n",
      "        [ 1.2462],\n",
      "        [ 1.1977],\n",
      "        [ 6.5063]], grad_fn=<AddBackward0>)\n"
     ]
    }
   ],
   "source": [
    "y_hat = x @ w.t() + b\n",
    "print(y_hat)"
   ]
  },
  {
   "cell_type": "code",
   "execution_count": 7,
   "id": "d5cb0e78-22a4-43cc-b7cd-8a880a511fc3",
   "metadata": {},
   "outputs": [
    {
     "name": "stdout",
     "output_type": "stream",
     "text": [
      "tensor([[ 0.8030],\n",
      "        [ 0.1666],\n",
      "        [-2.5769],\n",
      "        [ 3.2081],\n",
      "        [ 6.5555],\n",
      "        [ 4.1915],\n",
      "        [-0.6554],\n",
      "        [ 1.2462],\n",
      "        [ 1.1977],\n",
      "        [ 6.5063]])\n"
     ]
    }
   ],
   "source": [
    "print(y_hat.data)"
   ]
  },
  {
   "cell_type": "code",
   "execution_count": 9,
   "id": "135f9322-33ec-4295-aec8-8562fca967a2",
   "metadata": {},
   "outputs": [
    {
     "name": "stdout",
     "output_type": "stream",
     "text": [
      "tensor(13.8340)\n"
     ]
    }
   ],
   "source": [
    "loss = torch.mean(torch.pow((y_hat - y), 2))\n",
    "print(loss.data)"
   ]
  },
  {
   "cell_type": "markdown",
   "id": "ea13e76a-80cd-424e-92da-a1bc76f9a1c1",
   "metadata": {},
   "source": [
    "### 2. 计算图在反向传播后立即销毁"
   ]
  },
  {
   "cell_type": "code",
   "execution_count": 10,
   "id": "bf97579b-89d4-47ed-b7a4-fa6805d86e4f",
   "metadata": {},
   "outputs": [],
   "source": [
    "import torch"
   ]
  },
  {
   "cell_type": "code",
   "execution_count": 11,
   "id": "494277a3-7991-4723-b0f5-8361ef50e176",
   "metadata": {},
   "outputs": [
    {
     "name": "stdout",
     "output_type": "stream",
     "text": [
      "tensor([[3., 1.]])\n"
     ]
    }
   ],
   "source": [
    "w = torch.tensor([[3.0, 1.0]], requires_grad = True)\n",
    "print(w.data)"
   ]
  },
  {
   "cell_type": "code",
   "execution_count": 16,
   "id": "6a51fe3f-86f0-49ad-85e6-2887c58f830a",
   "metadata": {},
   "outputs": [
    {
     "name": "stdout",
     "output_type": "stream",
     "text": [
      "\n",
      "\n",
      "计算图在反向传播之后会立即的注销，如果要保留计算图，需要设置retain_graph = True\n"
     ]
    }
   ],
   "source": [
    "b = torch.tensor([[3.0]], requires_grad = True)\n",
    "x = torch.randn(10, 2)\n",
    "y = torch.randn(10, 1)\n",
    "y_hat = x @ w.t() + b\n",
    "loss = torch.mean(torch.pow((y_hat - y), 2))\n",
    "print('\\n')\n",
    "print('计算图在反向传播之后会立即的注销，如果要保留计算图，需要设置retain_graph = True')\n",
    "loss.backward() # loss.backward(retain_graph = True)\n",
    "#print('导数为:', x_grad)\n",
    "# loss.backward() # 如果需要再次执行反向传播将报错"
   ]
  },
  {
   "cell_type": "markdown",
   "id": "34c11d25-3f0a-4ac7-bc22-3710332b5040",
   "metadata": {},
   "source": [
    " ### 3. 计算图中的Function"
   ]
  },
  {
   "cell_type": "code",
   "execution_count": 1,
   "id": "1cc160fa-79e1-4adb-825a-0d6031fd9324",
   "metadata": {},
   "outputs": [],
   "source": [
    "import torch"
   ]
  },
  {
   "cell_type": "code",
   "execution_count": 2,
   "id": "86e648b1-6f26-48ae-b959-630bcb2e4e09",
   "metadata": {},
   "outputs": [],
   "source": [
    "class MyRelu(torch.autograd.Function):\n",
    "    \n",
    "    # 正向传播 \n",
    "    def forward(ctx, input):\n",
    "        # ctx.save_for_backward方法用于存储在forward()此期间生成的值，稍后将在执行时需要此值backward()。可以backward()在ctx.saved_tensors属性期间访问保存的值。\n",
    "        ctx.save_for_backward(input)\n",
    "        return input.clamp(min = 0)\n",
    "    \n",
    "    \n",
    "    # 反向传播\n",
    "    def backward(ctx, grad_output):\n",
    "        input, = ctx.saved_tensors\n",
    "        grad_output = grad_output.clone()\n",
    "        grad_output[input < 0] = 0\n",
    "        return grad_output"
   ]
  },
  {
   "cell_type": "code",
   "execution_count": 4,
   "id": "8bf7271c-39d6-4f7b-8a3e-752be0876a10",
   "metadata": {},
   "outputs": [
    {
     "name": "stdout",
     "output_type": "stream",
     "text": [
      "tensor([[3., 1.]]) 2 torch.Size([1, 2])\n"
     ]
    }
   ],
   "source": [
    "w = torch.tensor([[3.0, 1.0]], requires_grad = True)\n",
    "print(w.data, w.dim(), w.size())"
   ]
  },
  {
   "cell_type": "code",
   "execution_count": 13,
   "id": "8808a23a-c1cc-49f9-9e0a-aa8d13521ac2",
   "metadata": {},
   "outputs": [],
   "source": [
    "b = torch.tensor([[3.0]],  requires_grad = True)\n",
    "x = torch.tensor([[-1.0, -1.0], [1.0, 1.0]])\n",
    "y = torch.tensor([[2.0, 3.0]])"
   ]
  },
  {
   "cell_type": "code",
   "execution_count": 14,
   "id": "4a0dd1c9-c61d-4b3b-ad4b-5e3fab141d63",
   "metadata": {},
   "outputs": [],
   "source": [
    "relu = MyRelu.apply # relu现在也具有正向传播和反向传播功能"
   ]
  },
  {
   "cell_type": "code",
   "execution_count": 17,
   "id": "e7264e2a-e358-4314-b15d-d7099cd7f6c1",
   "metadata": {},
   "outputs": [
    {
     "data": {
      "text/plain": [
       "<function MyRelu.apply>"
      ]
     },
     "execution_count": 17,
     "metadata": {},
     "output_type": "execute_result"
    }
   ],
   "source": [
    "relu"
   ]
  },
  {
   "cell_type": "code",
   "execution_count": 18,
   "id": "3b220ec4-3eec-48c9-a048-69a758a47e8b",
   "metadata": {},
   "outputs": [
    {
     "data": {
      "text/plain": [
       "tensor([[3.],\n",
       "        [7.]], grad_fn=<AddBackward0>)"
      ]
     },
     "execution_count": 18,
     "metadata": {},
     "output_type": "execute_result"
    }
   ],
   "source": [
    "y_hat = relu(x @ w.t()) + b\n",
    "y_hat"
   ]
  },
  {
   "cell_type": "code",
   "execution_count": 19,
   "id": "39237efc-77fe-4bce-845f-bbc6fc940363",
   "metadata": {},
   "outputs": [
    {
     "data": {
      "text/plain": [
       "tensor(10.5000, grad_fn=<MeanBackward0>)"
      ]
     },
     "execution_count": 19,
     "metadata": {},
     "output_type": "execute_result"
    }
   ],
   "source": [
    "loss = torch.mean(torch.pow(y_hat - y, 2))\n",
    "loss"
   ]
  },
  {
   "cell_type": "code",
   "execution_count": 20,
   "id": "6110f2a1-a400-49ae-b6a6-b9910607605a",
   "metadata": {},
   "outputs": [],
   "source": [
    "loss.backward()"
   ]
  },
  {
   "cell_type": "code",
   "execution_count": 21,
   "id": "ad187205-21f9-4ca4-933c-3d810ed1afe7",
   "metadata": {},
   "outputs": [
    {
     "name": "stdout",
     "output_type": "stream",
     "text": [
      "对w求导数： tensor([[4.5000, 4.5000]])\n",
      "对b求导数： tensor([[5.]])\n"
     ]
    }
   ],
   "source": [
    "print('对w求导数：', w.grad)\n",
    "print('对b求导数：', b.grad)"
   ]
  },
  {
   "cell_type": "code",
   "execution_count": 23,
   "id": "90560da2-a977-499e-adf9-12b89dafd449",
   "metadata": {},
   "outputs": [
    {
     "name": "stdout",
     "output_type": "stream",
     "text": [
      "<AddBackward0 object at 0x00000228FEF709D0>\n"
     ]
    }
   ],
   "source": [
    "print(y_hat.grad_fn) # y_hat的梯度函数即是我们自己所定义的MyRelu.backward"
   ]
  },
  {
   "cell_type": "markdown",
   "id": "f5f4734c-1e9f-4905-b442-10c0c6aa9a70",
   "metadata": {},
   "source": [
    "### 4. 计算图与反向传播"
   ]
  },
  {
   "cell_type": "code",
   "execution_count": 24,
   "id": "6a15df4b-6741-4464-8791-56e14adfd6f7",
   "metadata": {},
   "outputs": [],
   "source": [
    "import torch"
   ]
  },
  {
   "cell_type": "code",
   "execution_count": 26,
   "id": "5f2d66d8-8b70-4cff-b4de-f5061aff11f4",
   "metadata": {},
   "outputs": [
    {
     "name": "stdout",
     "output_type": "stream",
     "text": [
      "tensor(3., requires_grad=True)\n"
     ]
    }
   ],
   "source": [
    "x = torch.tensor(3.0, requires_grad = True)\n",
    "print(x)"
   ]
  },
  {
   "cell_type": "code",
   "execution_count": 27,
   "id": "d858b74a-d823-4c68-b31e-c796b7979d76",
   "metadata": {},
   "outputs": [
    {
     "name": "stdout",
     "output_type": "stream",
     "text": [
      "tensor(4., grad_fn=<AddBackward0>)\n"
     ]
    }
   ],
   "source": [
    "y1 = x + 1\n",
    "print(y1)"
   ]
  },
  {
   "cell_type": "code",
   "execution_count": 28,
   "id": "cbedcc5a-fa10-42f5-a502-edbcdf74ff8a",
   "metadata": {},
   "outputs": [
    {
     "name": "stdout",
     "output_type": "stream",
     "text": [
      "tensor(6., grad_fn=<MulBackward0>)\n"
     ]
    }
   ],
   "source": [
    "y2 = 2 * x\n",
    "print(y2)"
   ]
  },
  {
   "cell_type": "code",
   "execution_count": 29,
   "id": "a0713c41-c9f9-4e5b-9064-69e76a9a0be7",
   "metadata": {},
   "outputs": [
    {
     "name": "stdout",
     "output_type": "stream",
     "text": [
      "tensor(4., grad_fn=<PowBackward0>)\n"
     ]
    }
   ],
   "source": [
    "loss = (y1 - y2) ** 2\n",
    "print(loss)"
   ]
  },
  {
   "cell_type": "code",
   "execution_count": 30,
   "id": "0ff26cd1-32b9-4731-85d8-b3f365301cd5",
   "metadata": {},
   "outputs": [],
   "source": [
    "loss.backward()"
   ]
  },
  {
   "cell_type": "code",
   "execution_count": 33,
   "id": "770c5945-0b8b-481f-acbf-4891536927d2",
   "metadata": {},
   "outputs": [
    {
     "name": "stdout",
     "output_type": "stream",
     "text": [
      "<AddBackward0 object at 0x00000228FF39BA90>\n"
     ]
    }
   ],
   "source": [
    "print(y1.grad_fn)"
   ]
  },
  {
   "cell_type": "markdown",
   "id": "831a8ca1-ebb1-4f73-8976-ed1df6da724f",
   "metadata": {},
   "source": [
    " ### 5. 叶子节点和非叶子节点"
   ]
  },
  {
   "cell_type": "code",
   "execution_count": 35,
   "id": "11175036-86d5-41b7-8c4a-189996b3e99e",
   "metadata": {},
   "outputs": [
    {
     "name": "stdout",
     "output_type": "stream",
     "text": [
      "叶子节点需要满足两个条件\n",
      "1. 叶子节点张量是由用户直接创建的张量，而非由某个Function通过计算得到的张量\n",
      "2. 叶子节点张量的requires_grad必须为True\n",
      "这样设计的好处：节约内存或者小村空间，因为几乎所有的时候，用户只关心他自己直接创建的张量的梯度\n"
     ]
    }
   ],
   "source": [
    "print('叶子节点需要满足两个条件')\n",
    "print('1. 叶子节点张量是由用户直接创建的张量，而非由某个Function通过计算得到的张量')\n",
    "print('2. 叶子节点张量的requires_grad必须为True')\n",
    "print('这样设计的好处：节约内存或者小村空间，因为几乎所有的时候，用户只关心他自己直接创建的张量的梯度')"
   ]
  },
  {
   "cell_type": "code",
   "execution_count": 36,
   "id": "7e3a12c4-82b8-478e-ad50-cbab17f1d03e",
   "metadata": {},
   "outputs": [],
   "source": [
    "import torch"
   ]
  },
  {
   "cell_type": "code",
   "execution_count": 37,
   "id": "cee0fa84-d574-464d-a453-6640e8461fec",
   "metadata": {},
   "outputs": [],
   "source": [
    "x = torch.tensor(3.0, requires_grad = True)\n",
    "y1 = x + 1\n",
    "y2 = 2 * x\n",
    "loss = (y1 - y2) ** 2"
   ]
  },
  {
   "cell_type": "code",
   "execution_count": 38,
   "id": "b94c92e3-fa49-4009-b6ac-3d05af3dc177",
   "metadata": {},
   "outputs": [
    {
     "name": "stdout",
     "output_type": "stream",
     "text": [
      "loss.grad: None\n",
      "y1.grad: None\n",
      "y2.grad: None\n",
      "x.grad: tensor(4.)\n"
     ]
    },
    {
     "name": "stderr",
     "output_type": "stream",
     "text": [
      "C:\\Users\\lzf\\AppData\\Roaming\\Python\\Python38\\site-packages\\torch\\_tensor.py:1013: UserWarning: The .grad attribute of a Tensor that is not a leaf Tensor is being accessed. Its .grad attribute won't be populated during autograd.backward(). If you indeed want the .grad field to be populated for a non-leaf Tensor, use .retain_grad() on the non-leaf Tensor. If you access the non-leaf Tensor by mistake, make sure you access the leaf Tensor instead. See github.com/pytorch/pytorch/pull/30531 for more informations. (Triggered internally at  aten\\src\\ATen/core/TensorBody.h:417.)\n",
      "  return self._grad\n"
     ]
    }
   ],
   "source": [
    "loss.backward()\n",
    "print('loss.grad:', loss.grad)\n",
    "print('y1.grad:', y1.grad)\n",
    "print('y2.grad:', y2.grad)\n",
    "print('x.grad:', x.grad)"
   ]
  },
  {
   "cell_type": "code",
   "execution_count": 40,
   "id": "c7300515-2913-482c-889b-7b0d44b3283d",
   "metadata": {},
   "outputs": [
    {
     "name": "stdout",
     "output_type": "stream",
     "text": [
      "打印看是否为叶子节点:\n",
      "x是否为叶子节点： True\n",
      "y1是否为叶子节点： False\n",
      "y2是否为叶子节点： False\n",
      "loss是否为叶子节点 False\n"
     ]
    }
   ],
   "source": [
    "print('打印看是否为叶子节点:')\n",
    "print('x是否为叶子节点：', x.is_leaf)\n",
    "print('y1是否为叶子节点：', y1.is_leaf)\n",
    "print('y2是否为叶子节点：', y2.is_leaf)\n",
    "print('loss是否为叶子节点', loss.is_leaf)"
   ]
  },
  {
   "cell_type": "code",
   "execution_count": 41,
   "id": "1e43af88-655d-4902-a833-50891de309df",
   "metadata": {},
   "outputs": [
    {
     "name": "stdout",
     "output_type": "stream",
     "text": [
      "利用retain_grad可以保留非叶子节点的梯度，利用register_hook可以查看非叶子节点的梯度值\n"
     ]
    }
   ],
   "source": [
    "print('利用retain_grad可以保留非叶子节点的梯度，利用register_hook可以查看非叶子节点的梯度值')"
   ]
  },
  {
   "cell_type": "code",
   "execution_count": 42,
   "id": "a223d1b9-b5d8-44ae-8a09-74f376ad8f5d",
   "metadata": {},
   "outputs": [],
   "source": [
    "import torch\n",
    "x = torch.tensor(3.0, requires_grad = True)\n",
    "y1 = x + 1\n",
    "y2 = 2 * x\n",
    "loss = (y1 - y2) ** 2"
   ]
  },
  {
   "cell_type": "code",
   "execution_count": 43,
   "id": "706940cd-99b8-4926-8cc8-fbeb4d8f988d",
   "metadata": {},
   "outputs": [
    {
     "name": "stdout",
     "output_type": "stream",
     "text": [
      "非叶子节点梯度显示控制\n"
     ]
    }
   ],
   "source": [
    "print('非叶子节点梯度显示控制')\n",
    "y1.register_hook(lambda grad: print('y1 grad:', grad))\n",
    "y2.register_hook(lambda grad: print('y2 grad:', grad))\n",
    "loss.retain_grad()"
   ]
  },
  {
   "cell_type": "code",
   "execution_count": 44,
   "id": "8b85e891-94af-46a2-ad21-26ac2fc48b62",
   "metadata": {},
   "outputs": [
    {
     "name": "stdout",
     "output_type": "stream",
     "text": [
      "y2 grad: tensor(4.)\n",
      "y1 grad: tensor(-4.)\n",
      "loss.grad: tensor(1.)\n",
      "x.grad: tensor(4.)\n"
     ]
    }
   ],
   "source": [
    "loss.backward()\n",
    "print('loss.grad:', loss.grad)\n",
    "print('x.grad:', x.grad)"
   ]
  },
  {
   "cell_type": "markdown",
   "id": "c7882bde-0ae5-45a7-9b08-9e1e9c7af6da",
   "metadata": {},
   "source": [
    "### 6. 计算图在TensoBoard中的可视化"
   ]
  },
  {
   "cell_type": "code",
   "execution_count": 45,
   "id": "effbe224-34a4-41c3-8b90-da4678b019ca",
   "metadata": {},
   "outputs": [],
   "source": [
    "from torch import nn"
   ]
  },
  {
   "cell_type": "code",
   "execution_count": 46,
   "id": "5dfca1c3-a402-4b80-b9b6-8be8a86c3777",
   "metadata": {},
   "outputs": [
    {
     "data": {
      "text/plain": [
       "tensor([[-0.6050],\n",
       "        [ 0.9749]])"
      ]
     },
     "execution_count": 46,
     "metadata": {},
     "output_type": "execute_result"
    }
   ],
   "source": [
    "torch.randn(2, 1)"
   ]
  },
  {
   "cell_type": "code",
   "execution_count": 47,
   "id": "cc2c897d-4384-4cf7-9e37-7f2b4a7786bd",
   "metadata": {},
   "outputs": [
    {
     "data": {
      "text/plain": [
       "tensor([[0.]])"
      ]
     },
     "execution_count": 47,
     "metadata": {},
     "output_type": "execute_result"
    }
   ],
   "source": [
    "torch.zeros(1, 1)"
   ]
  },
  {
   "cell_type": "code",
   "execution_count": 48,
   "id": "429f301d-1331-4c85-a383-2537d959c1f5",
   "metadata": {},
   "outputs": [],
   "source": [
    "class Net(nn.Module):\n",
    "    def __init__(self):\n",
    "        super(Net, self).__init__()\n",
    "        self.w = nn.Parameter(torch.randn(2, 1))\n",
    "        self.b = nn.Parameter(torch.zeros(1, 1))\n",
    "\n",
    "    def forward(self, x):\n",
    "        y = x @ self.w + self.b\n",
    "        return y\n",
    "    \n",
    "net = Net()"
   ]
  },
  {
   "cell_type": "code",
   "execution_count": 49,
   "id": "4e38172d-0c0f-449c-b40a-863ab6dd2102",
   "metadata": {},
   "outputs": [
    {
     "data": {
      "text/plain": [
       "Net()"
      ]
     },
     "execution_count": 49,
     "metadata": {},
     "output_type": "execute_result"
    }
   ],
   "source": [
    "net"
   ]
  },
  {
   "cell_type": "code",
   "execution_count": 50,
   "id": "8c1c37ed-f7be-4e38-ac64-f1acd8c1538d",
   "metadata": {},
   "outputs": [],
   "source": [
    "from torch.utils.tensorboard import SummaryWriter"
   ]
  },
  {
   "cell_type": "code",
   "execution_count": 51,
   "id": "bff83e39-77af-43c8-8bd2-d3fd8b7bb29b",
   "metadata": {},
   "outputs": [],
   "source": [
    "writer = SummaryWriter('./data/tensorboard')\n",
    "writer.add_graph(net, input_to_model = torch.randn(10, 2))\n",
    "writer.close()"
   ]
  },
  {
   "cell_type": "code",
   "execution_count": 52,
   "id": "68d76f4a-b73f-4b3f-aa2f-0e1802aaba69",
   "metadata": {},
   "outputs": [],
   "source": [
    "from tensorboard import notebook"
   ]
  },
  {
   "cell_type": "code",
   "execution_count": 53,
   "id": "4636083d-72c5-47ee-86f6-cf46e06488ce",
   "metadata": {},
   "outputs": [
    {
     "name": "stdout",
     "output_type": "stream",
     "text": [
      "No known TensorBoard instances running.\n"
     ]
    }
   ],
   "source": [
    "notebook.list()"
   ]
  },
  {
   "cell_type": "code",
   "execution_count": 55,
   "id": "cb1e5cd8-afc0-4395-bafc-84f03f0569ee",
   "metadata": {},
   "outputs": [
    {
     "name": "stdout",
     "output_type": "stream",
     "text": [
      "在tensorboard中查看模型\n"
     ]
    },
    {
     "data": {
      "text/plain": [
       "Reusing TensorBoard on port 6006 (pid 20000), started 0:01:42 ago. (Use '!kill 20000' to kill it.)"
      ]
     },
     "metadata": {},
     "output_type": "display_data"
    },
    {
     "data": {
      "text/html": [
       "\n",
       "      <iframe id=\"tensorboard-frame-b0926af7b80c043a\" width=\"100%\" height=\"800\" frameborder=\"0\">\n",
       "      </iframe>\n",
       "      <script>\n",
       "        (function() {\n",
       "          const frame = document.getElementById(\"tensorboard-frame-b0926af7b80c043a\");\n",
       "          const url = new URL(\"/\", window.location);\n",
       "          const port = 6006;\n",
       "          if (port) {\n",
       "            url.port = port;\n",
       "          }\n",
       "          frame.src = url;\n",
       "        })();\n",
       "      </script>\n",
       "    "
      ],
      "text/plain": [
       "<IPython.core.display.HTML object>"
      ]
     },
     "metadata": {},
     "output_type": "display_data"
    }
   ],
   "source": [
    "print('在tensorboard中查看模型')\n",
    "notebook.start('--logdir ./data/tensorboard')"
   ]
  },
  {
   "cell_type": "code",
   "execution_count": null,
   "id": "8c665a0f-495a-449d-ad05-9281c42c5d90",
   "metadata": {},
   "outputs": [],
   "source": []
  }
 ],
 "metadata": {
  "kernelspec": {
   "display_name": "Python 3 (ipykernel)",
   "language": "python",
   "name": "python3"
  },
  "language_info": {
   "codemirror_mode": {
    "name": "ipython",
    "version": 3
   },
   "file_extension": ".py",
   "mimetype": "text/x-python",
   "name": "python",
   "nbconvert_exporter": "python",
   "pygments_lexer": "ipython3",
   "version": "3.8.8"
  }
 },
 "nbformat": 4,
 "nbformat_minor": 5
}
