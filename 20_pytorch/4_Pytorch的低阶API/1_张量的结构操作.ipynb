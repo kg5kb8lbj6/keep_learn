{
 "cells": [
  {
   "cell_type": "code",
   "execution_count": 1,
   "metadata": {},
   "outputs": [
    {
     "name": "stdout",
     "output_type": "stream",
     "text": [
      "张量的操作包括:结构操作和数学运算\n",
      "结构操作包括：创建,索引切片,维度变换,合并分割\n",
      "数学运算包括: 标量运算,向量运算,矩阵运算\n"
     ]
    }
   ],
   "source": [
    "print('张量的操作包括:结构操作和数学运算')\n",
    "print('结构操作包括：创建,索引切片,维度变换,合并分割')\n",
    "print('数学运算包括: 标量运算,向量运算,矩阵运算')"
   ]
  },
  {
   "cell_type": "markdown",
   "metadata": {},
   "source": [
    "### 1. 创建张量"
   ]
  },
  {
   "cell_type": "code",
   "execution_count": 3,
   "metadata": {},
   "outputs": [
    {
     "name": "stdout",
     "output_type": "stream",
     "text": [
      "张量的创建的许多方法和numpy中的创建array的方法很像\n"
     ]
    }
   ],
   "source": [
    "print('张量的创建的许多方法和numpy中的创建array的方法很像')"
   ]
  },
  {
   "cell_type": "code",
   "execution_count": 4,
   "metadata": {},
   "outputs": [],
   "source": [
    "import numpy as np\n",
    "import torch"
   ]
  },
  {
   "cell_type": "code",
   "execution_count": 5,
   "metadata": {},
   "outputs": [
    {
     "name": "stdout",
     "output_type": "stream",
     "text": [
      "tensor([1., 2., 3.]) <class 'torch.Tensor'> torch.Size([3])\n"
     ]
    }
   ],
   "source": [
    "a = torch.tensor([1, 2, 3], dtype = torch.float)\n",
    "print(a, type(a), a.shape)"
   ]
  },
  {
   "cell_type": "code",
   "execution_count": 7,
   "metadata": {},
   "outputs": [
    {
     "name": "stdout",
     "output_type": "stream",
     "text": [
      "tensor([1, 3, 5, 7, 9])\n",
      "tensor([1, 3, 5, 7, 9])\n"
     ]
    }
   ],
   "source": [
    "b = torch.arange(1, 10, step = 2)\n",
    "print(b)\n",
    "print(b.data)"
   ]
  },
  {
   "cell_type": "code",
   "execution_count": 8,
   "metadata": {},
   "outputs": [
    {
     "name": "stdout",
     "output_type": "stream",
     "text": [
      "tensor([0.0000, 0.6978, 1.3956, 2.0933, 2.7911, 3.4889, 4.1867, 4.8844, 5.5822,\n",
      "        6.2800])\n"
     ]
    }
   ],
   "source": [
    "c = torch.linspace(0.0, 2 * 3.14, 10) # 每次加的是相同的数，范围是[a,b]\n",
    "print(c)"
   ]
  },
  {
   "cell_type": "code",
   "execution_count": 9,
   "metadata": {},
   "outputs": [
    {
     "data": {
      "text/plain": [
       "tensor([[0., 0., 0.],\n",
       "        [0., 0., 0.],\n",
       "        [0., 0., 0.]])"
      ]
     },
     "execution_count": 9,
     "metadata": {},
     "output_type": "execute_result"
    }
   ],
   "source": [
    "d = torch.zeros((3, 3))\n",
    "d"
   ]
  },
  {
   "cell_type": "code",
   "execution_count": 14,
   "metadata": {},
   "outputs": [
    {
     "name": "stdout",
     "output_type": "stream",
     "text": [
      "tensor([[1, 1, 1],\n",
      "        [1, 1, 1],\n",
      "        [1, 1, 1]], dtype=torch.int32) torch.int32\n"
     ]
    }
   ],
   "source": [
    "a = torch.ones((3, 3), dtype = torch.int)\n",
    "print(a, a.dtype)"
   ]
  },
  {
   "cell_type": "code",
   "execution_count": 13,
   "metadata": {},
   "outputs": [
    {
     "name": "stdout",
     "output_type": "stream",
     "text": [
      "tensor([[0., 0., 0.],\n",
      "        [0., 0., 0.],\n",
      "        [0., 0., 0.]]) torch.float32\n"
     ]
    }
   ],
   "source": [
    "b = torch.zeros_like(a, dtype = torch.float)\n",
    "print(b, b.dtype)"
   ]
  },
  {
   "cell_type": "code",
   "execution_count": 15,
   "metadata": {},
   "outputs": [
    {
     "name": "stdout",
     "output_type": "stream",
     "text": [
      "tensor([[5., 5., 5.],\n",
      "        [5., 5., 5.],\n",
      "        [5., 5., 5.]])\n"
     ]
    }
   ],
   "source": [
    "torch.fill_(b, 5)\n",
    "print(b)"
   ]
  },
  {
   "cell_type": "code",
   "execution_count": 16,
   "metadata": {},
   "outputs": [
    {
     "data": {
      "text/plain": [
       "tensor([0.9876, 0.6890, 0.9795, 0.0151, 0.0380])"
      ]
     },
     "execution_count": 16,
     "metadata": {},
     "output_type": "execute_result"
    }
   ],
   "source": [
    "torch.rand([5])"
   ]
  },
  {
   "cell_type": "code",
   "execution_count": 18,
   "metadata": {},
   "outputs": [
    {
     "name": "stdout",
     "output_type": "stream",
     "text": [
      "均匀随机分布\n",
      "均匀随机分布值为:\n",
      " tensor([4.9626, 7.6822, 0.8848, 1.3203, 3.0742])\n"
     ]
    }
   ],
   "source": [
    "print('均匀随机分布')\n",
    "torch.manual_seed(0)\n",
    "min, max = 0, 10\n",
    "a = min + (max - min) * torch.rand([5])\n",
    "print('均匀随机分布值为:\\n', a)"
   ]
  },
  {
   "cell_type": "code",
   "execution_count": 19,
   "metadata": {},
   "outputs": [
    {
     "name": "stdout",
     "output_type": "stream",
     "text": [
      "正太分布随机\n"
     ]
    },
    {
     "data": {
      "text/plain": [
       "tensor([[ 0.5507,  0.2704,  0.6472],\n",
       "        [ 0.2490, -0.3354,  0.4564],\n",
       "        [-0.6255,  0.4539, -1.3740]])"
      ]
     },
     "execution_count": 19,
     "metadata": {},
     "output_type": "execute_result"
    }
   ],
   "source": [
    "print('正太分布随机')\n",
    "b = torch.normal(mean = torch.zeros(3, 3), std = torch.ones(3, 3))\n",
    "b"
   ]
  },
  {
   "cell_type": "code",
   "execution_count": 21,
   "metadata": {},
   "outputs": [
    {
     "data": {
      "text/plain": [
       "tensor([[0., 0., 0.],\n",
       "        [0., 0., 0.],\n",
       "        [0., 0., 0.]])"
      ]
     },
     "execution_count": 21,
     "metadata": {},
     "output_type": "execute_result"
    }
   ],
   "source": [
    "torch.zeros(3, 3)"
   ]
  },
  {
   "cell_type": "code",
   "execution_count": 22,
   "metadata": {},
   "outputs": [
    {
     "data": {
      "text/plain": [
       "tensor([[ 2.8474, -0.7322,  0.3833],\n",
       "        [ 1.1000, -0.0877,  0.4154],\n",
       "        [ 0.6426, -2.1881,  0.8920]])"
      ]
     },
     "execution_count": 22,
     "metadata": {},
     "output_type": "execute_result"
    }
   ],
   "source": [
    "torch.randn((3, 3))"
   ]
  },
  {
   "cell_type": "code",
   "execution_count": 23,
   "metadata": {},
   "outputs": [
    {
     "name": "stdout",
     "output_type": "stream",
     "text": [
      "正太分布随机\n"
     ]
    },
    {
     "data": {
      "text/plain": [
       "tensor([[ 5.7277,  0.7698,  6.2558],\n",
       "        [ 0.2491, 10.4405, -8.7873],\n",
       "        [-4.9637,  0.1947, 11.3698]])"
      ]
     },
     "execution_count": 23,
     "metadata": {},
     "output_type": "execute_result"
    }
   ],
   "source": [
    "print('正太分布随机')\n",
    "mean, std = 2, 5\n",
    "c = std * torch.randn(3, 3) + mean\n",
    "c"
   ]
  },
  {
   "cell_type": "code",
   "execution_count": 27,
   "metadata": {},
   "outputs": [
    {
     "name": "stdout",
     "output_type": "stream",
     "text": [
      "整数随机排列, 从0到19中,20个数随机打乱\n"
     ]
    },
    {
     "data": {
      "text/plain": [
       "tensor([ 7,  2, 17,  6,  1, 12, 13,  3,  9, 11,  0, 18,  5,  4, 15,  8, 16, 14,\n",
       "        10, 19])"
      ]
     },
     "execution_count": 27,
     "metadata": {},
     "output_type": "execute_result"
    }
   ],
   "source": [
    "print('整数随机排列, 从0到19中,20个数随机打乱')\n",
    "d = torch.randperm(20)\n",
    "d"
   ]
  },
  {
   "cell_type": "code",
   "execution_count": 28,
   "metadata": {},
   "outputs": [
    {
     "name": "stdout",
     "output_type": "stream",
     "text": [
      "单位矩阵\n"
     ]
    },
    {
     "data": {
      "text/plain": [
       "tensor([[1., 0., 0.],\n",
       "        [0., 1., 0.],\n",
       "        [0., 0., 1.]])"
      ]
     },
     "execution_count": 28,
     "metadata": {},
     "output_type": "execute_result"
    }
   ],
   "source": [
    "print('单位矩阵')\n",
    "i = torch.eye(3, 3) # 单位矩阵\n",
    "i"
   ]
  },
  {
   "cell_type": "code",
   "execution_count": 29,
   "metadata": {},
   "outputs": [
    {
     "name": "stdout",
     "output_type": "stream",
     "text": [
      "对角矩阵\n"
     ]
    },
    {
     "data": {
      "text/plain": [
       "tensor([[1, 0, 0],\n",
       "        [0, 2, 0],\n",
       "        [0, 0, 3]])"
      ]
     },
     "execution_count": 29,
     "metadata": {},
     "output_type": "execute_result"
    }
   ],
   "source": [
    "print('对角矩阵')\n",
    "t = torch.diag(torch.tensor([1, 2, 3]))\n",
    "t"
   ]
  },
  {
   "cell_type": "markdown",
   "metadata": {},
   "source": [
    "### 2. 索引切片"
   ]
  },
  {
   "cell_type": "code",
   "execution_count": 31,
   "metadata": {},
   "outputs": [
    {
     "name": "stdout",
     "output_type": "stream",
     "text": [
      "张量的索引切片方式和numpy几乎是一样的.切片时支持省略参数和省略号\n",
      "可以通过索引和切片对部分元素进行修改\n"
     ]
    }
   ],
   "source": [
    "print('张量的索引切片方式和numpy几乎是一样的.切片时支持省略参数和省略号')\n",
    "print('可以通过索引和切片对部分元素进行修改')"
   ]
  },
  {
   "cell_type": "code",
   "execution_count": 34,
   "metadata": {},
   "outputs": [
    {
     "name": "stdout",
     "output_type": "stream",
     "text": [
      "均匀随机分布\n"
     ]
    },
    {
     "data": {
      "text/plain": [
       "tensor([[-12, -12,  -3,  -5,   8],\n",
       "        [  6,  -4, -22,   3,  -2],\n",
       "        [ 14,   2,   1,   8,  -2],\n",
       "        [ -2,  -7,  12,  20,   0],\n",
       "        [  6,  -5,  -9, -24,  -2]], dtype=torch.int32)"
      ]
     },
     "execution_count": 34,
     "metadata": {},
     "output_type": "execute_result"
    }
   ],
   "source": [
    "print('均匀随机分布')\n",
    "# torch.floor()方法返回一个新的张量\n",
    "torch.manual_seed(0)\n",
    "min, max = 0, 10\n",
    "t = torch.floor(min + (max - min) * torch.randn([5, 5])).int()\n",
    "t"
   ]
  },
  {
   "cell_type": "code",
   "execution_count": 35,
   "metadata": {},
   "outputs": [
    {
     "name": "stdout",
     "output_type": "stream",
     "text": [
      "第0行的元素为:tensor([-12, -12,  -3,  -5,   8], dtype=torch.int32)\n"
     ]
    }
   ],
   "source": [
    "print('第0行的元素为:{}'.format(t[0]))"
   ]
  },
  {
   "cell_type": "code",
   "execution_count": 37,
   "metadata": {},
   "outputs": [
    {
     "name": "stdout",
     "output_type": "stream",
     "text": [
      "倒数第1行的元素为:tensor([  6,  -5,  -9, -24,  -2], dtype=torch.int32)\n"
     ]
    }
   ],
   "source": [
    "print('倒数第1行的元素为:{}'.format(t[-1]))"
   ]
  },
  {
   "cell_type": "code",
   "execution_count": 39,
   "metadata": {},
   "outputs": [
    {
     "name": "stdout",
     "output_type": "stream",
     "text": [
      "第一种写法:第1行第3列的值为:3\n",
      "第二种写法:第1行第3列的值为:3\n"
     ]
    }
   ],
   "source": [
    "print('第一种写法:第1行第3列的值为:{}'.format(t[1, 3]))\n",
    "print('第二种写法:第1行第3列的值为:{}'.format(t[1][3]))"
   ]
  },
  {
   "cell_type": "code",
   "execution_count": 41,
   "metadata": {},
   "outputs": [
    {
     "name": "stdout",
     "output_type": "stream",
     "text": [
      "第1行到第3行的值为:\n",
      "tensor([[  6,  -4, -22,   3,  -2],\n",
      "        [ 14,   2,   1,   8,  -2],\n",
      "        [ -2,  -7,  12,  20,   0]], dtype=torch.int32)\n"
     ]
    }
   ],
   "source": [
    "print('第1行到第3行的值为:\\n{}'.format(t[1:4, :]))"
   ]
  },
  {
   "cell_type": "code",
   "execution_count": 42,
   "metadata": {},
   "outputs": [
    {
     "name": "stdout",
     "output_type": "stream",
     "text": [
      "第1行到最后一行,第0列到最后一列每隔2列取一列:\n",
      "tensor([[-12,  -3,   8],\n",
      "        [  6, -22,  -2],\n",
      "        [ 14,   1,  -2],\n",
      "        [ -2,  12,   0],\n",
      "        [  6,  -9,  -2]], dtype=torch.int32)\n"
     ]
    }
   ],
   "source": [
    "print('第1行到最后一行,第0列到最后一列每隔2列取一列:\\n{}'.format(t[:, ::2]))"
   ]
  },
  {
   "cell_type": "code",
   "execution_count": 43,
   "metadata": {},
   "outputs": [
    {
     "name": "stdout",
     "output_type": "stream",
     "text": [
      "可以使用索引和切片修改部分元素:\n"
     ]
    },
    {
     "data": {
      "text/plain": [
       "tensor([[1., 2.],\n",
       "        [3., 4.]], requires_grad=True)"
      ]
     },
     "execution_count": 43,
     "metadata": {},
     "output_type": "execute_result"
    }
   ],
   "source": [
    "print('可以使用索引和切片修改部分元素:')\n",
    "x = torch.tensor([[1, 2], [3, 4]], dtype = torch.float32, requires_grad = True)\n",
    "x"
   ]
  },
  {
   "cell_type": "code",
   "execution_count": 44,
   "metadata": {},
   "outputs": [
    {
     "data": {
      "text/plain": [
       "tensor([[1., 2.],\n",
       "        [0., 0.]], requires_grad=True)"
      ]
     },
     "execution_count": 44,
     "metadata": {},
     "output_type": "execute_result"
    }
   ],
   "source": [
    "x.data[1, :] = torch.tensor([0.0, 0.0])\n",
    "x"
   ]
  },
  {
   "cell_type": "code",
   "execution_count": 45,
   "metadata": {},
   "outputs": [
    {
     "data": {
      "text/plain": [
       "tensor([[[ 0,  1,  2],\n",
       "         [ 3,  4,  5],\n",
       "         [ 6,  7,  8]],\n",
       "\n",
       "        [[ 9, 10, 11],\n",
       "         [12, 13, 14],\n",
       "         [15, 16, 17]],\n",
       "\n",
       "        [[18, 19, 20],\n",
       "         [21, 22, 23],\n",
       "         [24, 25, 26]]])"
      ]
     },
     "execution_count": 45,
     "metadata": {},
     "output_type": "execute_result"
    }
   ],
   "source": [
    "a = torch.arange(27).reshape(3, 3, 3)\n",
    "a"
   ]
  },
  {
   "cell_type": "code",
   "execution_count": 46,
   "metadata": {},
   "outputs": [
    {
     "name": "stdout",
     "output_type": "stream",
     "text": [
      "省略号可以表示多个冒号\n",
      "tensor([[ 1,  4,  7],\n",
      "        [10, 13, 16],\n",
      "        [19, 22, 25]])\n"
     ]
    }
   ],
   "source": [
    "print('省略号可以表示多个冒号')\n",
    "print(a[..., 1])"
   ]
  },
  {
   "cell_type": "code",
   "execution_count": 47,
   "metadata": {},
   "outputs": [
    {
     "name": "stdout",
     "output_type": "stream",
     "text": [
      "以上的切片方式都是相对规则的\n",
      "对于不规则的切片提取可以使用torch.index_selct, torch.take, torch.gather, torch.masked_select\n"
     ]
    }
   ],
   "source": [
    "print('以上的切片方式都是相对规则的')\n",
    "print('对于不规则的切片提取可以使用torch.index_selct, torch.take, torch.gather, torch.masked_select')"
   ]
  },
  {
   "cell_type": "code",
   "execution_count": 48,
   "metadata": {},
   "outputs": [
    {
     "name": "stdout",
     "output_type": "stream",
     "text": [
      "考试的成绩册,有4个班级,每个班级10个学生,每个学生有7门科目成绩,可以使用一个4 * 10 * 7的张量来表示\n"
     ]
    }
   ],
   "source": [
    "print('考试的成绩册,有4个班级,每个班级10个学生,每个学生有7门科目成绩,可以使用一个4 * 10 * 7的张量来表示')"
   ]
  },
  {
   "cell_type": "code",
   "execution_count": 49,
   "metadata": {},
   "outputs": [
    {
     "data": {
      "text/plain": [
       "tensor([[[24, 58,  3, 13, 24, 81, 79],\n",
       "         [27, 48, 81, 99, 69, 56, 83],\n",
       "         [20, 59, 11, 15, 24, 72, 70],\n",
       "         [20, 65, 77, 43, 51, 61, 81],\n",
       "         [98, 11, 31, 69, 91, 93, 94],\n",
       "         [59,  6, 54, 18,  3, 94, 88],\n",
       "         [ 0, 59, 41, 41, 27, 69, 20],\n",
       "         [68, 75, 85, 68,  0, 17, 74],\n",
       "         [60, 10, 21, 97, 83, 28, 37],\n",
       "         [ 2, 49, 12, 11, 47, 57, 29]],\n",
       "\n",
       "        [[79, 19, 95, 84,  7, 37, 52],\n",
       "         [57, 61, 69, 52, 25, 73,  2],\n",
       "         [20, 37, 25, 32,  9, 39, 60],\n",
       "         [17, 47, 85, 44, 51, 45, 60],\n",
       "         [81, 97, 81, 97, 46,  5, 26],\n",
       "         [84, 49, 25, 11,  3,  7, 39],\n",
       "         [77, 77,  1, 81, 10, 39, 29],\n",
       "         [40, 40,  5,  6, 42, 50, 27],\n",
       "         [68,  4, 46, 93, 29, 95, 68],\n",
       "         [ 4, 81, 44, 27, 89,  9, 55]],\n",
       "\n",
       "        [[39, 85, 63, 74, 67, 37, 39],\n",
       "         [ 8, 77, 89, 84, 14, 52, 14],\n",
       "         [22, 20, 67, 20, 48, 52, 82],\n",
       "         [12, 15, 20, 84, 32, 92, 68],\n",
       "         [56, 49, 40, 56, 38, 49, 56],\n",
       "         [10, 23, 90,  9, 46, 99, 68],\n",
       "         [51,  6, 74, 14, 35, 33, 42],\n",
       "         [50, 91, 56, 94, 80, 18, 72],\n",
       "         [14, 28, 64, 66, 87, 33, 50],\n",
       "         [75,  1, 86,  8, 50, 41, 23]],\n",
       "\n",
       "        [[56, 91, 35, 20, 31,  0, 72],\n",
       "         [25, 16, 21, 78, 76, 88, 68],\n",
       "         [33, 36, 64, 91, 63, 26, 26],\n",
       "         [ 2, 60, 21,  5, 93, 17, 44],\n",
       "         [64, 51, 16,  9, 89, 58, 91],\n",
       "         [33, 64, 38, 47, 19, 66, 65],\n",
       "         [48, 38, 19, 84, 12, 70, 33],\n",
       "         [25, 58, 24, 61, 59, 12, 58],\n",
       "         [71, 69, 43,  9, 42, 67, 31],\n",
       "         [68, 83, 23, 50, 70, 53, 54]]], dtype=torch.int32)"
      ]
     },
     "execution_count": 49,
     "metadata": {},
     "output_type": "execute_result"
    }
   ],
   "source": [
    "min = 0\n",
    "max = 100\n",
    "scores = torch.floor(min + (max - min) * torch.rand([4, 10, 7])).int()\n",
    "scores"
   ]
  },
  {
   "cell_type": "code",
   "execution_count": 50,
   "metadata": {},
   "outputs": [
    {
     "name": "stdout",
     "output_type": "stream",
     "text": [
      "抽取每个班级的第0个学生,第5个学生,第9个学生的全部成绩\n"
     ]
    },
    {
     "data": {
      "text/plain": [
       "tensor([[[24, 58,  3, 13, 24, 81, 79],\n",
       "         [59,  6, 54, 18,  3, 94, 88],\n",
       "         [ 2, 49, 12, 11, 47, 57, 29]],\n",
       "\n",
       "        [[79, 19, 95, 84,  7, 37, 52],\n",
       "         [84, 49, 25, 11,  3,  7, 39],\n",
       "         [ 4, 81, 44, 27, 89,  9, 55]],\n",
       "\n",
       "        [[39, 85, 63, 74, 67, 37, 39],\n",
       "         [10, 23, 90,  9, 46, 99, 68],\n",
       "         [75,  1, 86,  8, 50, 41, 23]],\n",
       "\n",
       "        [[56, 91, 35, 20, 31,  0, 72],\n",
       "         [33, 64, 38, 47, 19, 66, 65],\n",
       "         [68, 83, 23, 50, 70, 53, 54]]], dtype=torch.int32)"
      ]
     },
     "execution_count": 50,
     "metadata": {},
     "output_type": "execute_result"
    }
   ],
   "source": [
    "print('抽取每个班级的第0个学生,第5个学生,第9个学生的全部成绩')\n",
    "torch.index_select(scores, dim = 1, index = torch.tensor([0, 5, 9]))"
   ]
  },
  {
   "cell_type": "code",
   "execution_count": 54,
   "metadata": {},
   "outputs": [
    {
     "name": "stdout",
     "output_type": "stream",
     "text": [
      "抽取每个班级第0个学生,第5个学生,第9个学生的第1门课程,第3门课程,第6门课程成绩\n"
     ]
    },
    {
     "data": {
      "text/plain": [
       "tensor([[[58, 13, 79],\n",
       "         [ 6, 18, 88],\n",
       "         [49, 11, 29]],\n",
       "\n",
       "        [[19, 84, 52],\n",
       "         [49, 11, 39],\n",
       "         [81, 27, 55]],\n",
       "\n",
       "        [[85, 74, 39],\n",
       "         [23,  9, 68],\n",
       "         [ 1,  8, 23]],\n",
       "\n",
       "        [[91, 20, 72],\n",
       "         [64, 47, 65],\n",
       "         [83, 50, 54]]], dtype=torch.int32)"
      ]
     },
     "execution_count": 54,
     "metadata": {},
     "output_type": "execute_result"
    }
   ],
   "source": [
    "print('抽取每个班级第0个学生,第5个学生,第9个学生的第1门课程,第3门课程,第6门课程成绩')\n",
    "q = torch.index_select(torch.index_select(scores, dim = 1, index = torch.tensor([0, 5, 9])), dim = 2, index = torch.tensor([1, 3, 6]))\n",
    "q"
   ]
  },
  {
   "cell_type": "code",
   "execution_count": 57,
   "metadata": {},
   "outputs": [
    {
     "name": "stdout",
     "output_type": "stream",
     "text": [
      "抽取第0个班级第0个学生的第0门课程, 第2个班级的第4个学生的第1门课程,第3个班级的第9个学生的第6门课程成绩\n"
     ]
    },
    {
     "data": {
      "text/plain": [
       "tensor([24, 49, 54], dtype=torch.int32)"
      ]
     },
     "execution_count": 57,
     "metadata": {},
     "output_type": "execute_result"
    }
   ],
   "source": [
    "print('抽取第0个班级第0个学生的第0门课程, 第2个班级的第4个学生的第1门课程,第3个班级的第9个学生的第6门课程成绩')\n",
    "# s = torch.take(scores, torch.tensor([0 * 10 * 7 + 0, 2 * 10 * 7 + 4 * 7 + 1 + 3 * 10 * 7 + 9 * 7 + 6]))\n",
    "# s\n",
    "#take将输入看成一维数组，输出和index同形状\n",
    "s = torch.take(scores,torch.tensor([0*10*7+0,2*10*7+4*7+1,3*10*7+9*7+6]))\n",
    "s"
   ]
  },
  {
   "cell_type": "code",
   "execution_count": 58,
   "metadata": {},
   "outputs": [
    {
     "name": "stdout",
     "output_type": "stream",
     "text": [
      "抽取分数大于等于80分的分数(布尔索引)\n",
      "结果是1维张量\n"
     ]
    }
   ],
   "source": [
    "print('抽取分数大于等于80分的分数(布尔索引)')\n",
    "print('结果是1维张量')"
   ]
  },
  {
   "cell_type": "code",
   "execution_count": 59,
   "metadata": {},
   "outputs": [
    {
     "data": {
      "text/plain": [
       "tensor([81, 81, 99, 83, 81, 98, 91, 93, 94, 94, 88, 85, 97, 83, 95, 84, 85, 81,\n",
       "        97, 81, 97, 84, 81, 93, 95, 81, 89, 85, 89, 84, 82, 84, 92, 90, 99, 91,\n",
       "        94, 87, 86, 91, 88, 91, 93, 89, 91, 84, 83], dtype=torch.int32)"
      ]
     },
     "execution_count": 59,
     "metadata": {},
     "output_type": "execute_result"
    }
   ],
   "source": [
    "g = torch.masked_select(scores, scores > 80)\n",
    "g"
   ]
  },
  {
   "cell_type": "code",
   "execution_count": 60,
   "metadata": {},
   "outputs": [
    {
     "name": "stdout",
     "output_type": "stream",
     "text": [
      "以上只能提取元素,不能修该元素,下面就进行元素的修改\n"
     ]
    }
   ],
   "source": [
    "print('以上只能提取元素,不能修该元素,下面就进行元素的修改')"
   ]
  },
  {
   "cell_type": "code",
   "execution_count": 61,
   "metadata": {},
   "outputs": [
    {
     "name": "stdout",
     "output_type": "stream",
     "text": [
      "torch.index_fill的选取元素的逻辑和torch.index_select相同\n",
      "torch.masked_fill的选取元素的逻辑和torch.mask_select相同\n"
     ]
    }
   ],
   "source": [
    "print('torch.index_fill的选取元素的逻辑和torch.index_select相同')\n",
    "print('torch.masked_fill的选取元素的逻辑和torch.mask_select相同')"
   ]
  },
  {
   "cell_type": "code",
   "execution_count": 62,
   "metadata": {},
   "outputs": [
    {
     "name": "stdout",
     "output_type": "stream",
     "text": [
      "如果分数大于60分,赋值为1,否则为0\n"
     ]
    },
    {
     "data": {
      "text/plain": [
       "tensor([[[0, 0, 0, 0, 0, 1, 1],\n",
       "         [0, 0, 1, 1, 1, 0, 1],\n",
       "         [0, 0, 0, 0, 0, 1, 1],\n",
       "         [0, 1, 1, 0, 0, 1, 1],\n",
       "         [1, 0, 0, 1, 1, 1, 1],\n",
       "         [0, 0, 0, 0, 0, 1, 1],\n",
       "         [0, 0, 0, 0, 0, 1, 0],\n",
       "         [1, 1, 1, 1, 0, 0, 1],\n",
       "         [0, 0, 0, 1, 1, 0, 0],\n",
       "         [0, 0, 0, 0, 0, 0, 0]],\n",
       "\n",
       "        [[1, 0, 1, 1, 0, 0, 0],\n",
       "         [0, 1, 1, 0, 0, 1, 0],\n",
       "         [0, 0, 0, 0, 0, 0, 0],\n",
       "         [0, 0, 1, 0, 0, 0, 0],\n",
       "         [1, 1, 1, 1, 0, 0, 0],\n",
       "         [1, 0, 0, 0, 0, 0, 0],\n",
       "         [1, 1, 0, 1, 0, 0, 0],\n",
       "         [0, 0, 0, 0, 0, 0, 0],\n",
       "         [1, 0, 0, 1, 0, 1, 1],\n",
       "         [0, 1, 0, 0, 1, 0, 0]],\n",
       "\n",
       "        [[0, 1, 1, 1, 1, 0, 0],\n",
       "         [0, 1, 1, 1, 0, 0, 0],\n",
       "         [0, 0, 1, 0, 0, 0, 1],\n",
       "         [0, 0, 0, 1, 0, 1, 1],\n",
       "         [0, 0, 0, 0, 0, 0, 0],\n",
       "         [0, 0, 1, 0, 0, 1, 1],\n",
       "         [0, 0, 1, 0, 0, 0, 0],\n",
       "         [0, 1, 0, 1, 1, 0, 1],\n",
       "         [0, 0, 1, 1, 1, 0, 0],\n",
       "         [1, 0, 1, 0, 0, 0, 0]],\n",
       "\n",
       "        [[0, 1, 0, 0, 0, 0, 1],\n",
       "         [0, 0, 0, 1, 1, 1, 1],\n",
       "         [0, 0, 1, 1, 1, 0, 0],\n",
       "         [0, 0, 0, 0, 1, 0, 0],\n",
       "         [1, 0, 0, 0, 1, 0, 1],\n",
       "         [0, 1, 0, 0, 0, 1, 1],\n",
       "         [0, 0, 0, 1, 0, 1, 0],\n",
       "         [0, 0, 0, 1, 0, 0, 0],\n",
       "         [1, 1, 0, 0, 0, 1, 0],\n",
       "         [1, 1, 0, 0, 1, 0, 0]]])"
      ]
     },
     "execution_count": 62,
     "metadata": {},
     "output_type": "execute_result"
    }
   ],
   "source": [
    "print('如果分数大于60分,赋值为1,否则为0')\n",
    "ifpass = torch.where(scores > 60, torch.tensor(1), torch.tensor(0))\n",
    "ifpass"
   ]
  },
  {
   "cell_type": "code",
   "execution_count": 63,
   "metadata": {},
   "outputs": [
    {
     "name": "stdout",
     "output_type": "stream",
     "text": [
      "将每个班级的第0个学生,第5个学生,第9个学生的全部成绩赋值为100\n"
     ]
    },
    {
     "data": {
      "text/plain": [
       "tensor([[[100, 100, 100, 100, 100, 100, 100],\n",
       "         [ 27,  48,  81,  99,  69,  56,  83],\n",
       "         [ 20,  59,  11,  15,  24,  72,  70],\n",
       "         [ 20,  65,  77,  43,  51,  61,  81],\n",
       "         [ 98,  11,  31,  69,  91,  93,  94],\n",
       "         [100, 100, 100, 100, 100, 100, 100],\n",
       "         [  0,  59,  41,  41,  27,  69,  20],\n",
       "         [ 68,  75,  85,  68,   0,  17,  74],\n",
       "         [ 60,  10,  21,  97,  83,  28,  37],\n",
       "         [100, 100, 100, 100, 100, 100, 100]],\n",
       "\n",
       "        [[100, 100, 100, 100, 100, 100, 100],\n",
       "         [ 57,  61,  69,  52,  25,  73,   2],\n",
       "         [ 20,  37,  25,  32,   9,  39,  60],\n",
       "         [ 17,  47,  85,  44,  51,  45,  60],\n",
       "         [ 81,  97,  81,  97,  46,   5,  26],\n",
       "         [100, 100, 100, 100, 100, 100, 100],\n",
       "         [ 77,  77,   1,  81,  10,  39,  29],\n",
       "         [ 40,  40,   5,   6,  42,  50,  27],\n",
       "         [ 68,   4,  46,  93,  29,  95,  68],\n",
       "         [100, 100, 100, 100, 100, 100, 100]],\n",
       "\n",
       "        [[100, 100, 100, 100, 100, 100, 100],\n",
       "         [  8,  77,  89,  84,  14,  52,  14],\n",
       "         [ 22,  20,  67,  20,  48,  52,  82],\n",
       "         [ 12,  15,  20,  84,  32,  92,  68],\n",
       "         [ 56,  49,  40,  56,  38,  49,  56],\n",
       "         [100, 100, 100, 100, 100, 100, 100],\n",
       "         [ 51,   6,  74,  14,  35,  33,  42],\n",
       "         [ 50,  91,  56,  94,  80,  18,  72],\n",
       "         [ 14,  28,  64,  66,  87,  33,  50],\n",
       "         [100, 100, 100, 100, 100, 100, 100]],\n",
       "\n",
       "        [[100, 100, 100, 100, 100, 100, 100],\n",
       "         [ 25,  16,  21,  78,  76,  88,  68],\n",
       "         [ 33,  36,  64,  91,  63,  26,  26],\n",
       "         [  2,  60,  21,   5,  93,  17,  44],\n",
       "         [ 64,  51,  16,   9,  89,  58,  91],\n",
       "         [100, 100, 100, 100, 100, 100, 100],\n",
       "         [ 48,  38,  19,  84,  12,  70,  33],\n",
       "         [ 25,  58,  24,  61,  59,  12,  58],\n",
       "         [ 71,  69,  43,   9,  42,  67,  31],\n",
       "         [100, 100, 100, 100, 100, 100, 100]]], dtype=torch.int32)"
      ]
     },
     "execution_count": 63,
     "metadata": {},
     "output_type": "execute_result"
    }
   ],
   "source": [
    "print('将每个班级的第0个学生,第5个学生,第9个学生的全部成绩赋值为100')\n",
    "torch.index_fill(scores, dim = 1, index = torch.tensor([0, 5, 9]), value = 100)\n",
    "# 等价于scores.index_fill(scores, dim = 1, index = torch.tensor([0, 5, 9]), value = 100)"
   ]
  },
  {
   "cell_type": "code",
   "execution_count": 64,
   "metadata": {},
   "outputs": [
    {
     "name": "stdout",
     "output_type": "stream",
     "text": [
      "将分数小于60分的分数赋值成60分\n"
     ]
    },
    {
     "data": {
      "text/plain": [
       "tensor([[[60, 60, 60, 60, 60, 81, 79],\n",
       "         [60, 60, 81, 99, 69, 60, 83],\n",
       "         [60, 60, 60, 60, 60, 72, 70],\n",
       "         [60, 65, 77, 60, 60, 61, 81],\n",
       "         [98, 60, 60, 69, 91, 93, 94],\n",
       "         [60, 60, 60, 60, 60, 94, 88],\n",
       "         [60, 60, 60, 60, 60, 69, 60],\n",
       "         [68, 75, 85, 68, 60, 60, 74],\n",
       "         [60, 60, 60, 97, 83, 60, 60],\n",
       "         [60, 60, 60, 60, 60, 60, 60]],\n",
       "\n",
       "        [[79, 60, 95, 84, 60, 60, 60],\n",
       "         [60, 61, 69, 60, 60, 73, 60],\n",
       "         [60, 60, 60, 60, 60, 60, 60],\n",
       "         [60, 60, 85, 60, 60, 60, 60],\n",
       "         [81, 97, 81, 97, 60, 60, 60],\n",
       "         [84, 60, 60, 60, 60, 60, 60],\n",
       "         [77, 77, 60, 81, 60, 60, 60],\n",
       "         [60, 60, 60, 60, 60, 60, 60],\n",
       "         [68, 60, 60, 93, 60, 95, 68],\n",
       "         [60, 81, 60, 60, 89, 60, 60]],\n",
       "\n",
       "        [[60, 85, 63, 74, 67, 60, 60],\n",
       "         [60, 77, 89, 84, 60, 60, 60],\n",
       "         [60, 60, 67, 60, 60, 60, 82],\n",
       "         [60, 60, 60, 84, 60, 92, 68],\n",
       "         [60, 60, 60, 60, 60, 60, 60],\n",
       "         [60, 60, 90, 60, 60, 99, 68],\n",
       "         [60, 60, 74, 60, 60, 60, 60],\n",
       "         [60, 91, 60, 94, 80, 60, 72],\n",
       "         [60, 60, 64, 66, 87, 60, 60],\n",
       "         [75, 60, 86, 60, 60, 60, 60]],\n",
       "\n",
       "        [[60, 91, 60, 60, 60, 60, 72],\n",
       "         [60, 60, 60, 78, 76, 88, 68],\n",
       "         [60, 60, 64, 91, 63, 60, 60],\n",
       "         [60, 60, 60, 60, 93, 60, 60],\n",
       "         [64, 60, 60, 60, 89, 60, 91],\n",
       "         [60, 64, 60, 60, 60, 66, 65],\n",
       "         [60, 60, 60, 84, 60, 70, 60],\n",
       "         [60, 60, 60, 61, 60, 60, 60],\n",
       "         [71, 69, 60, 60, 60, 67, 60],\n",
       "         [68, 83, 60, 60, 70, 60, 60]]], dtype=torch.int32)"
      ]
     },
     "execution_count": 64,
     "metadata": {},
     "output_type": "execute_result"
    }
   ],
   "source": [
    "print('将分数小于60分的分数赋值成60分')\n",
    "b = torch.masked_fill(scores, scores < 60, 60)\n",
    "# 等价于b = scores.masked_fill(scores, scores < 60, 60)\n",
    "b"
   ]
  },
  {
   "cell_type": "markdown",
   "metadata": {},
   "source": [
    "### 3. 维度变换"
   ]
  },
  {
   "cell_type": "code",
   "execution_count": 66,
   "metadata": {},
   "outputs": [
    {
     "name": "stdout",
     "output_type": "stream",
     "text": [
      "torch.reshape:改变张量的形状\n",
      "torch.squeeze:减少维度\n",
      "torch.unsqueeze:增加维度\n",
      "torch.transpose:交换维度\n"
     ]
    }
   ],
   "source": [
    "print('torch.reshape:改变张量的形状')\n",
    "print('torch.squeeze:减少维度')\n",
    "print('torch.unsqueeze:增加维度')\n",
    "print('torch.transpose:交换维度')"
   ]
  },
  {
   "cell_type": "code",
   "execution_count": 67,
   "metadata": {},
   "outputs": [
    {
     "name": "stdout",
     "output_type": "stream",
     "text": [
      "torch.Size([1, 3, 3, 2])\n",
      "tensor([[[[126, 195],\n",
      "          [ 22,  33],\n",
      "          [ 78, 161]],\n",
      "\n",
      "         [[124, 228],\n",
      "          [116, 161],\n",
      "          [ 88, 102]],\n",
      "\n",
      "         [[  5,  43],\n",
      "          [ 74, 132],\n",
      "          [177, 204]]]], dtype=torch.int32)\n"
     ]
    }
   ],
   "source": [
    "torch.manual_seed(0)\n",
    "min, max = 0, 255\n",
    "a = (min + (max - min) * torch.rand([1, 3, 3, 2])).int()\n",
    "print(a.shape)\n",
    "print(a)"
   ]
  },
  {
   "cell_type": "code",
   "execution_count": 68,
   "metadata": {},
   "outputs": [
    {
     "name": "stdout",
     "output_type": "stream",
     "text": [
      "torch.Size([3, 6])\n",
      "tensor([[126, 195,  22,  33,  78, 161],\n",
      "        [124, 228, 116, 161,  88, 102],\n",
      "        [  5,  43,  74, 132, 177, 204]], dtype=torch.int32)\n"
     ]
    }
   ],
   "source": [
    "b = a.reshape([3, 6])\n",
    "print(b.shape)\n",
    "print(b)"
   ]
  },
  {
   "cell_type": "code",
   "execution_count": 69,
   "metadata": {},
   "outputs": [
    {
     "data": {
      "text/plain": [
       "tensor([[[[126, 195],\n",
       "          [ 22,  33],\n",
       "          [ 78, 161]],\n",
       "\n",
       "         [[124, 228],\n",
       "          [116, 161],\n",
       "          [ 88, 102]],\n",
       "\n",
       "         [[  5,  43],\n",
       "          [ 74, 132],\n",
       "          [177, 204]]]], dtype=torch.int32)"
      ]
     },
     "execution_count": 69,
     "metadata": {},
     "output_type": "execute_result"
    }
   ],
   "source": [
    "c = torch.reshape(b, [1, 3, 3, 2])\n",
    "c"
   ]
  },
  {
   "cell_type": "code",
   "execution_count": 70,
   "metadata": {},
   "outputs": [
    {
     "name": "stdout",
     "output_type": "stream",
     "text": [
      "如果张量在某个维度上只有一个元素,利用torch.squeeze可以消除这个维度,torch.unsqueeze正好相反\n"
     ]
    }
   ],
   "source": [
    "print('如果张量在某个维度上只有一个元素,利用torch.squeeze可以消除这个维度,torch.unsqueeze正好相反')"
   ]
  },
  {
   "cell_type": "code",
   "execution_count": 73,
   "metadata": {},
   "outputs": [
    {
     "name": "stdout",
     "output_type": "stream",
     "text": [
      "tensor([[1., 2.]]) torch.Size([1, 2])\n"
     ]
    }
   ],
   "source": [
    "a = torch.tensor([[1.0, 2.0]])\n",
    "print(a, a.shape)"
   ]
  },
  {
   "cell_type": "code",
   "execution_count": 74,
   "metadata": {},
   "outputs": [
    {
     "name": "stdout",
     "output_type": "stream",
     "text": [
      "tensor([1., 2.]) torch.Size([2])\n"
     ]
    }
   ],
   "source": [
    "s = torch.squeeze(a)\n",
    "print(s, s.shape)"
   ]
  },
  {
   "cell_type": "code",
   "execution_count": 75,
   "metadata": {},
   "outputs": [
    {
     "name": "stdout",
     "output_type": "stream",
     "text": [
      "在第0维插入长度为1的一个维度\n",
      "tensor([[1., 2.]]) torch.Size([1, 2])\n"
     ]
    }
   ],
   "source": [
    "print('在第0维插入长度为1的一个维度')\n",
    "d = torch.unsqueeze(s, axis = 0)\n",
    "print(d, d.shape)"
   ]
  },
  {
   "cell_type": "code",
   "execution_count": 76,
   "metadata": {},
   "outputs": [
    {
     "name": "stdout",
     "output_type": "stream",
     "text": [
      "torch.transpose可以张量的维度,torch.transpose常用于图片存储格式的交换上\n",
      "如果是二维的矩阵,通常会调用矩阵的转置的方法matrix.t(), 等价于torch.transpose(matrix, 0, 1)\n"
     ]
    }
   ],
   "source": [
    "print('torch.transpose可以张量的维度,torch.transpose常用于图片存储格式的交换上')\n",
    "print('如果是二维的矩阵,通常会调用矩阵的转置的方法matrix.t(), 等价于torch.transpose(matrix, 0, 1)')"
   ]
  },
  {
   "cell_type": "code",
   "execution_count": 77,
   "metadata": {},
   "outputs": [
    {
     "name": "stdout",
     "output_type": "stream",
     "text": [
      "torch.Size([100, 256, 256, 4])\n"
     ]
    }
   ],
   "source": [
    "min, max = 0, 255\n",
    "# Batch,Height, Width, Channel\n",
    "data = torch.floor(min + (max - min) * torch.rand([100, 256, 256, 4])).int()\n",
    "print(data.shape)"
   ]
  },
  {
   "cell_type": "code",
   "execution_count": 78,
   "metadata": {},
   "outputs": [
    {
     "name": "stdout",
     "output_type": "stream",
     "text": [
      "torch.Size([100, 4, 256, 256])\n"
     ]
    }
   ],
   "source": [
    "# 转换为Pytorch默认的图片的格式为：Batch, Channel, Height, Width\n",
    "# 需要交换两次\n",
    "data_t = torch.transpose(torch.transpose(data, 1, 2), 1, 3)\n",
    "print(data_t.shape)"
   ]
  },
  {
   "cell_type": "code",
   "execution_count": 79,
   "metadata": {},
   "outputs": [
    {
     "data": {
      "text/plain": [
       "tensor([[1, 2, 3],\n",
       "        [4, 5, 6]])"
      ]
     },
     "execution_count": 79,
     "metadata": {},
     "output_type": "execute_result"
    }
   ],
   "source": [
    "matrix = torch.tensor([[1, 2, 3], [4, 5, 6]])\n",
    "matrix"
   ]
  },
  {
   "cell_type": "code",
   "execution_count": 80,
   "metadata": {},
   "outputs": [
    {
     "data": {
      "text/plain": [
       "tensor([[1, 4],\n",
       "        [2, 5],\n",
       "        [3, 6]])"
      ]
     },
     "execution_count": 80,
     "metadata": {},
     "output_type": "execute_result"
    }
   ],
   "source": [
    "matrix.t()# 等价于torch.transpose(matrix, 0, 1)"
   ]
  },
  {
   "cell_type": "markdown",
   "metadata": {},
   "source": [
    "### 4. 合并分割"
   ]
  },
  {
   "cell_type": "code",
   "execution_count": 82,
   "metadata": {},
   "outputs": [
    {
     "name": "stdout",
     "output_type": "stream",
     "text": [
      "可以用torch.cat和torch.stack将多个张量合并,也可以利用torch.split()把一个张量分割成多个张量\n",
      "torch.cat是连接,不会增加维度, torch.stack是堆叠,会增加维度\n"
     ]
    }
   ],
   "source": [
    "print('可以用torch.cat和torch.stack将多个张量合并,也可以利用torch.split()把一个张量分割成多个张量')\n",
    "print('torch.cat是连接,不会增加维度, torch.stack是堆叠,会增加维度')"
   ]
  },
  {
   "cell_type": "code",
   "execution_count": 83,
   "metadata": {},
   "outputs": [
    {
     "data": {
      "text/plain": [
       "tensor([[1., 2.],\n",
       "        [3., 4.]])"
      ]
     },
     "execution_count": 83,
     "metadata": {},
     "output_type": "execute_result"
    }
   ],
   "source": [
    "a = torch.tensor([[1.0, 2.0], [3.0, 4.0]])\n",
    "b = torch.tensor([[5.0, 6.0], [7.0, 8.0]])\n",
    "c = torch.tensor([[9.0, 10.0], [11.0, 12.0]])\n",
    "a"
   ]
  },
  {
   "cell_type": "code",
   "execution_count": 85,
   "metadata": {},
   "outputs": [
    {
     "name": "stdout",
     "output_type": "stream",
     "text": [
      "tensor([[ 1.,  2.],\n",
      "        [ 3.,  4.],\n",
      "        [ 5.,  6.],\n",
      "        [ 7.,  8.],\n",
      "        [ 9., 10.],\n",
      "        [11., 12.]]) torch.Size([6, 2])\n"
     ]
    }
   ],
   "source": [
    "abc_cat = torch.cat([a, b, c], dim = 0)\n",
    "print(abc_cat, abc_cat.shape)"
   ]
  },
  {
   "cell_type": "code",
   "execution_count": 87,
   "metadata": {},
   "outputs": [
    {
     "name": "stdout",
     "output_type": "stream",
     "text": [
      "tensor([[[ 1.,  2.],\n",
      "         [ 3.,  4.]],\n",
      "\n",
      "        [[ 5.,  6.],\n",
      "         [ 7.,  8.]],\n",
      "\n",
      "        [[ 9., 10.],\n",
      "         [11., 12.]]]) torch.Size([3, 2, 2])\n"
     ]
    }
   ],
   "source": [
    "abc_stack = torch.stack([a, b, c], axis = 0) # torch中dim和axis参数名可以混用\n",
    "print(abc_stack, abc_stack.shape)"
   ]
  },
  {
   "cell_type": "code",
   "execution_count": 89,
   "metadata": {},
   "outputs": [
    {
     "data": {
      "text/plain": [
       "tensor([[ 1.,  2.,  5.,  6.,  9., 10.],\n",
       "        [ 3.,  4.,  7.,  8., 11., 12.]])"
      ]
     },
     "execution_count": 89,
     "metadata": {},
     "output_type": "execute_result"
    }
   ],
   "source": [
    "torch.cat([a, b, c], axis = 1)"
   ]
  },
  {
   "cell_type": "code",
   "execution_count": 90,
   "metadata": {},
   "outputs": [
    {
     "data": {
      "text/plain": [
       "tensor([[[ 1.,  2.],\n",
       "         [ 5.,  6.],\n",
       "         [ 9., 10.]],\n",
       "\n",
       "        [[ 3.,  4.],\n",
       "         [ 7.,  8.],\n",
       "         [11., 12.]]])"
      ]
     },
     "execution_count": 90,
     "metadata": {},
     "output_type": "execute_result"
    }
   ],
   "source": [
    "torch.stack([a, b, c], axis = 1)"
   ]
  },
  {
   "cell_type": "code",
   "execution_count": 91,
   "metadata": {},
   "outputs": [
    {
     "name": "stdout",
     "output_type": "stream",
     "text": [
      "torch.split是torch.cat的逆运算,可以指定分割份数平均分割,也可以通过指定每份的记录数量进行分割\n",
      "tensor([[ 1.,  2.],\n",
      "        [ 3.,  4.],\n",
      "        [ 5.,  6.],\n",
      "        [ 7.,  8.],\n",
      "        [ 9., 10.],\n",
      "        [11., 12.]])\n"
     ]
    }
   ],
   "source": [
    "print('torch.split是torch.cat的逆运算,可以指定分割份数平均分割,也可以通过指定每份的记录数量进行分割')\n",
    "print(abc_cat)"
   ]
  },
  {
   "cell_type": "code",
   "execution_count": 92,
   "metadata": {},
   "outputs": [
    {
     "data": {
      "text/plain": [
       "tensor([[1., 2.],\n",
       "        [3., 4.]])"
      ]
     },
     "execution_count": 92,
     "metadata": {},
     "output_type": "execute_result"
    }
   ],
   "source": [
    "a, b, c = torch.split(abc_cat, split_size_or_sections = 2, dim = 0) # 每份2个进行分割\n",
    "a"
   ]
  },
  {
   "cell_type": "code",
   "execution_count": 93,
   "metadata": {},
   "outputs": [
    {
     "data": {
      "text/plain": [
       "(tensor([[5., 6.],\n",
       "         [7., 8.]]),\n",
       " tensor([[ 9., 10.],\n",
       "         [11., 12.]]))"
      ]
     },
     "execution_count": 93,
     "metadata": {},
     "output_type": "execute_result"
    }
   ],
   "source": [
    "b, c"
   ]
  },
  {
   "cell_type": "code",
   "execution_count": 94,
   "metadata": {},
   "outputs": [
    {
     "data": {
      "text/plain": [
       "tensor([[ 1.,  2.],\n",
       "        [ 3.,  4.],\n",
       "        [ 5.,  6.],\n",
       "        [ 7.,  8.],\n",
       "        [ 9., 10.],\n",
       "        [11., 12.]])"
      ]
     },
     "execution_count": 94,
     "metadata": {},
     "output_type": "execute_result"
    }
   ],
   "source": [
    "abc_cat"
   ]
  },
  {
   "cell_type": "code",
   "execution_count": 99,
   "metadata": {},
   "outputs": [],
   "source": [
    "p, q, r = torch.split(abc_cat, split_size_or_sections = [4, 1, 1], dim = 0) # 每份分别为[4, 1, 1]"
   ]
  },
  {
   "cell_type": "code",
   "execution_count": 100,
   "metadata": {},
   "outputs": [
    {
     "data": {
      "text/plain": [
       "tensor([[1., 2.],\n",
       "        [3., 4.],\n",
       "        [5., 6.],\n",
       "        [7., 8.]])"
      ]
     },
     "execution_count": 100,
     "metadata": {},
     "output_type": "execute_result"
    }
   ],
   "source": [
    "p"
   ]
  },
  {
   "cell_type": "code",
   "execution_count": 101,
   "metadata": {},
   "outputs": [
    {
     "data": {
      "text/plain": [
       "tensor([[ 9., 10.]])"
      ]
     },
     "execution_count": 101,
     "metadata": {},
     "output_type": "execute_result"
    }
   ],
   "source": [
    "q"
   ]
  },
  {
   "cell_type": "code",
   "execution_count": 102,
   "metadata": {},
   "outputs": [
    {
     "data": {
      "text/plain": [
       "tensor([[11., 12.]])"
      ]
     },
     "execution_count": 102,
     "metadata": {},
     "output_type": "execute_result"
    }
   ],
   "source": [
    "r"
   ]
  },
  {
   "cell_type": "code",
   "execution_count": null,
   "metadata": {},
   "outputs": [],
   "source": []
  }
 ],
 "metadata": {
  "interpreter": {
   "hash": "330432424e35d2408c1d0bddfb618b2c3d2fa1435abf072766b9837d32a07414"
  },
  "kernelspec": {
   "display_name": "Python 3.8.8 ('base')",
   "language": "python",
   "name": "python3"
  },
  "language_info": {
   "codemirror_mode": {
    "name": "ipython",
    "version": 3
   },
   "file_extension": ".py",
   "mimetype": "text/x-python",
   "name": "python",
   "nbconvert_exporter": "python",
   "pygments_lexer": "ipython3",
   "version": "3.8.8"
  },
  "orig_nbformat": 4
 },
 "nbformat": 4,
 "nbformat_minor": 2
}
