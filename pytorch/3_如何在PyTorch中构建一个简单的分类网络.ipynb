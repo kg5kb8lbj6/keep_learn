{
 "cells": [
  {
   "cell_type": "code",
   "execution_count": 1,
   "metadata": {},
   "outputs": [],
   "source": [
    "import torch\n",
    "from torch import nn"
   ]
  },
  {
   "cell_type": "code",
   "execution_count": 2,
   "metadata": {},
   "outputs": [
    {
     "data": {
      "text/plain": [
       "'1.9.1+cpu'"
      ]
     },
     "execution_count": 2,
     "metadata": {},
     "output_type": "execute_result"
    }
   ],
   "source": [
    "torch.__version__"
   ]
  },
  {
   "cell_type": "code",
   "execution_count": 3,
   "metadata": {},
   "outputs": [
    {
     "name": "stdout",
     "output_type": "stream",
     "text": [
      "Using cpu device\n"
     ]
    }
   ],
   "source": [
    "device = 'cuda' if torch.cuda.is_available() else 'cpu'\n",
    "print(f\"Using {device} device\")"
   ]
  },
  {
   "cell_type": "code",
   "execution_count": 8,
   "metadata": {},
   "outputs": [
    {
     "name": "stdout",
     "output_type": "stream",
     "text": [
      "torch.Size([3, 28, 28])\n"
     ]
    }
   ],
   "source": [
    "input_inage = torch.rand(3, 28,28)\n",
    "print(input_inage.size())"
   ]
  },
  {
   "cell_type": "code",
   "execution_count": 9,
   "metadata": {},
   "outputs": [
    {
     "data": {
      "text/plain": [
       "Flatten(start_dim=1, end_dim=-1)"
      ]
     },
     "execution_count": 9,
     "metadata": {},
     "output_type": "execute_result"
    }
   ],
   "source": [
    "flatten = nn.Flatten()\n",
    "flatten"
   ]
  },
  {
   "cell_type": "code",
   "execution_count": 10,
   "metadata": {},
   "outputs": [
    {
     "name": "stdout",
     "output_type": "stream",
     "text": [
      "torch.Size([3, 784])\n"
     ]
    }
   ],
   "source": [
    "flat_images = flatten(input_inage)\n",
    "print(flat_images.size())"
   ]
  },
  {
   "cell_type": "code",
   "execution_count": 12,
   "metadata": {},
   "outputs": [
    {
     "data": {
      "text/plain": [
       "tensor([[0.6336, 0.0933, 0.3128,  ..., 0.0794, 0.5117, 0.2342],\n",
       "        [0.1209, 0.6263, 0.6245,  ..., 0.5181, 0.4648, 0.0137],\n",
       "        [0.4101, 0.3314, 0.7162,  ..., 0.6634, 0.5784, 0.8486]])"
      ]
     },
     "execution_count": 12,
     "metadata": {},
     "output_type": "execute_result"
    }
   ],
   "source": [
    "flat_images"
   ]
  },
  {
   "cell_type": "code",
   "execution_count": 23,
   "metadata": {},
   "outputs": [
    {
     "name": "stdout",
     "output_type": "stream",
     "text": [
      "torch.Size([3, 20])\n"
     ]
    }
   ],
   "source": [
    "layer1 = nn.Linear(in_features = 28 *28, out_features = 20)\n",
    "hidden1 = layer1(flat_images)\n",
    "print(hidden1.size())"
   ]
  },
  {
   "cell_type": "code",
   "execution_count": 24,
   "metadata": {},
   "outputs": [
    {
     "data": {
      "text/plain": [
       "tensor([[-0.1927, -0.1566, -0.9026, -0.1495,  0.4793,  0.1761, -0.5902, -0.2361,\n",
       "          0.4247, -0.0660, -0.5540,  0.3544, -0.2516, -0.2190,  0.2476,  0.0837,\n",
       "          0.5029, -0.0915,  0.4970, -0.0328],\n",
       "        [-0.3627,  0.0556, -1.2361, -0.1456,  0.4217, -0.3097, -0.5516,  0.0967,\n",
       "          0.1601, -0.3682, -0.4937,  0.6475,  0.0986,  0.0873,  0.3366,  0.0552,\n",
       "         -0.0048, -0.1957,  0.2750, -0.0193],\n",
       "        [-0.6981, -0.2631, -0.5183, -0.2163,  0.0453, -0.3200, -0.2077,  0.1095,\n",
       "          0.5336,  0.0414, -0.2220,  0.2178,  0.0239, -0.1892,  0.0593,  0.4243,\n",
       "          0.6102, -0.5684,  0.0471,  0.4159]], grad_fn=<AddmmBackward>)"
      ]
     },
     "execution_count": 24,
     "metadata": {},
     "output_type": "execute_result"
    }
   ],
   "source": [
    "hidden1"
   ]
  },
  {
   "cell_type": "code",
   "execution_count": 25,
   "metadata": {},
   "outputs": [
    {
     "data": {
      "text/plain": [
       "tensor([[0.0000, 0.0000, 0.0000, 0.0000, 0.4793, 0.1761, 0.0000, 0.0000, 0.4247,\n",
       "         0.0000, 0.0000, 0.3544, 0.0000, 0.0000, 0.2476, 0.0837, 0.5029, 0.0000,\n",
       "         0.4970, 0.0000],\n",
       "        [0.0000, 0.0556, 0.0000, 0.0000, 0.4217, 0.0000, 0.0000, 0.0967, 0.1601,\n",
       "         0.0000, 0.0000, 0.6475, 0.0986, 0.0873, 0.3366, 0.0552, 0.0000, 0.0000,\n",
       "         0.2750, 0.0000],\n",
       "        [0.0000, 0.0000, 0.0000, 0.0000, 0.0453, 0.0000, 0.0000, 0.1095, 0.5336,\n",
       "         0.0414, 0.0000, 0.2178, 0.0239, 0.0000, 0.0593, 0.4243, 0.6102, 0.0000,\n",
       "         0.0471, 0.4159]], grad_fn=<ReluBackward0>)"
      ]
     },
     "execution_count": 25,
     "metadata": {},
     "output_type": "execute_result"
    }
   ],
   "source": [
    "hidden1 = nn.ReLU()(hidden1)\n",
    "hidden1"
   ]
  },
  {
   "cell_type": "code",
   "execution_count": 26,
   "metadata": {},
   "outputs": [
    {
     "data": {
      "text/plain": [
       "torch.Size([3, 20])"
      ]
     },
     "execution_count": 26,
     "metadata": {},
     "output_type": "execute_result"
    }
   ],
   "source": [
    "hidden1.size()"
   ]
  },
  {
   "cell_type": "code",
   "execution_count": 28,
   "metadata": {},
   "outputs": [],
   "source": [
    "seq_models = nn.Sequential(\n",
    "    flatten,\n",
    "    layer1,\n",
    "    nn.ReLU(),\n",
    "    nn.Linear(20, 10)\n",
    ")"
   ]
  },
  {
   "cell_type": "code",
   "execution_count": 29,
   "metadata": {},
   "outputs": [
    {
     "data": {
      "text/plain": [
       "Sequential(\n",
       "  (0): Flatten(start_dim=1, end_dim=-1)\n",
       "  (1): Linear(in_features=784, out_features=20, bias=True)\n",
       "  (2): ReLU()\n",
       "  (3): Linear(in_features=20, out_features=10, bias=True)\n",
       ")"
      ]
     },
     "execution_count": 29,
     "metadata": {},
     "output_type": "execute_result"
    }
   ],
   "source": [
    "seq_models"
   ]
  },
  {
   "cell_type": "code",
   "execution_count": 30,
   "metadata": {},
   "outputs": [
    {
     "data": {
      "text/plain": [
       "tensor([[ 0.0185, -0.0632, -0.1073,  0.2588,  0.2447, -0.0520, -0.1022,  0.2497,\n",
       "         -0.2631,  0.2393],\n",
       "        [ 0.0666, -0.0804, -0.1754,  0.2452,  0.2329, -0.0418, -0.0703,  0.2197,\n",
       "         -0.2219,  0.2779],\n",
       "        [ 0.0570,  0.0043, -0.1424,  0.2186,  0.1989, -0.2052, -0.0805,  0.1630,\n",
       "         -0.1475,  0.2087]], grad_fn=<AddmmBackward>)"
      ]
     },
     "execution_count": 30,
     "metadata": {},
     "output_type": "execute_result"
    }
   ],
   "source": [
    "input_image = torch.rand(3, 28, 28)\n",
    "logits = seq_models(input_image)\n",
    "logits"
   ]
  },
  {
   "cell_type": "code",
   "execution_count": 31,
   "metadata": {},
   "outputs": [
    {
     "data": {
      "text/plain": [
       "Softmax(dim=1)"
      ]
     },
     "execution_count": 31,
     "metadata": {},
     "output_type": "execute_result"
    }
   ],
   "source": [
    "softmax = nn.Softmax(dim = 1)\n",
    "softmax"
   ]
  },
  {
   "cell_type": "code",
   "execution_count": 32,
   "metadata": {},
   "outputs": [
    {
     "data": {
      "text/plain": [
       "tensor([[0.0961, 0.0885, 0.0847, 0.1222, 0.1205, 0.0895, 0.0851, 0.1211, 0.0725,\n",
       "         0.1198],\n",
       "        [0.1006, 0.0868, 0.0789, 0.1202, 0.1188, 0.0902, 0.0877, 0.1172, 0.0754,\n",
       "         0.1242],\n",
       "        [0.1018, 0.0965, 0.0834, 0.1196, 0.1173, 0.0783, 0.0887, 0.1131, 0.0829,\n",
       "         0.1184]], grad_fn=<SoftmaxBackward>)"
      ]
     },
     "execution_count": 32,
     "metadata": {},
     "output_type": "execute_result"
    }
   ],
   "source": [
    "pred_probab = softmax(logits)\n",
    "pred_probab"
   ]
  },
  {
   "cell_type": "code",
   "execution_count": 34,
   "metadata": {},
   "outputs": [
    {
     "data": {
      "text/plain": [
       "torch.Size([3, 10])"
      ]
     },
     "execution_count": 34,
     "metadata": {},
     "output_type": "execute_result"
    }
   ],
   "source": [
    "pred_probab.size()"
   ]
  },
  {
   "cell_type": "code",
   "execution_count": null,
   "metadata": {},
   "outputs": [],
   "source": []
  }
 ],
 "metadata": {
  "interpreter": {
   "hash": "330432424e35d2408c1d0bddfb618b2c3d2fa1435abf072766b9837d32a07414"
  },
  "kernelspec": {
   "display_name": "Python 3.8.8 ('base')",
   "language": "python",
   "name": "python3"
  },
  "language_info": {
   "codemirror_mode": {
    "name": "ipython",
    "version": 3
   },
   "file_extension": ".py",
   "mimetype": "text/x-python",
   "name": "python",
   "nbconvert_exporter": "python",
   "pygments_lexer": "ipython3",
   "version": "3.8.8"
  },
  "orig_nbformat": 4
 },
 "nbformat": 4,
 "nbformat_minor": 2
}
