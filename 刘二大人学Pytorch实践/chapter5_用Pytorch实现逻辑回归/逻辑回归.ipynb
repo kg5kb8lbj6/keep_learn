{
 "cells": [
  {
   "cell_type": "code",
   "execution_count": 41,
   "metadata": {},
   "outputs": [],
   "source": [
    "import torch\n",
    "from torch import nn"
   ]
  },
  {
   "cell_type": "code",
   "execution_count": 42,
   "metadata": {},
   "outputs": [],
   "source": [
    "x_data = torch.tensor([[1.0], [2.0], [3.0]])\n",
    "y_data = torch.tensor([[2.0], [4.0], [6.0]])"
   ]
  },
  {
   "cell_type": "code",
   "execution_count": 43,
   "metadata": {},
   "outputs": [
    {
     "data": {
      "text/plain": [
       "(tensor([[1.],\n",
       "         [2.],\n",
       "         [3.]]),\n",
       " tensor([[2.],\n",
       "         [4.],\n",
       "         [6.]]))"
      ]
     },
     "execution_count": 43,
     "metadata": {},
     "output_type": "execute_result"
    }
   ],
   "source": [
    "x_data, y_data"
   ]
  },
  {
   "cell_type": "code",
   "execution_count": 44,
   "metadata": {},
   "outputs": [],
   "source": [
    "class LinearModel(nn.Module):\n",
    "    def __init__(self):\n",
    "        super(LinearModel, self).__init__()\n",
    "        self.linear = nn.Linear(1, 1)\n",
    "\n",
    "    def forward(self, x):\n",
    "        y_hat = self.linear(x)\n",
    "        return y_hat\n",
    "model = LinearModel()"
   ]
  },
  {
   "cell_type": "code",
   "execution_count": 45,
   "metadata": {},
   "outputs": [
    {
     "data": {
      "text/plain": [
       "LinearModel(\n",
       "  (linear): Linear(in_features=1, out_features=1, bias=True)\n",
       ")"
      ]
     },
     "execution_count": 45,
     "metadata": {},
     "output_type": "execute_result"
    }
   ],
   "source": [
    "model"
   ]
  },
  {
   "cell_type": "code",
   "execution_count": 46,
   "metadata": {},
   "outputs": [
    {
     "name": "stderr",
     "output_type": "stream",
     "text": [
      "D:\\anconda3\\lib\\site-packages\\torch\\nn\\_reduction.py:42: UserWarning: size_average and reduce args will be deprecated, please use reduction='sum' instead.\n",
      "  warnings.warn(warning.format(ret))\n"
     ]
    },
    {
     "data": {
      "text/plain": [
       "MSELoss()"
      ]
     },
     "execution_count": 46,
     "metadata": {},
     "output_type": "execute_result"
    }
   ],
   "source": [
    "loss = nn.MSELoss(size_average = False)\n",
    "loss"
   ]
  },
  {
   "cell_type": "code",
   "execution_count": 47,
   "metadata": {},
   "outputs": [
    {
     "data": {
      "text/plain": [
       "SGD (\n",
       "Parameter Group 0\n",
       "    dampening: 0\n",
       "    lr: 0.01\n",
       "    momentum: 0\n",
       "    nesterov: False\n",
       "    weight_decay: 0\n",
       ")"
      ]
     },
     "execution_count": 47,
     "metadata": {},
     "output_type": "execute_result"
    }
   ],
   "source": [
    "optimizer = torch.optim.SGD(model.parameters(), lr = 0.01)\n",
    "optimizer"
   ]
  },
  {
   "cell_type": "code",
   "execution_count": 48,
   "metadata": {},
   "outputs": [
    {
     "name": "stdout",
     "output_type": "stream",
     "text": [
      "0 70.6767807006836\n",
      "1 31.549625396728516\n",
      "2 14.130082130432129\n",
      "3 6.374176979064941\n",
      "4 2.9202606678009033\n",
      "5 1.3814893960952759\n",
      "6 0.6952994465827942\n",
      "7 0.38867345452308655\n",
      "8 0.25103455781936646\n",
      "9 0.18864139914512634\n",
      "10 0.1597602665424347\n",
      "11 0.14581401646137238\n",
      "12 0.13853229582309723\n",
      "13 0.13423269987106323\n",
      "14 0.1312757432460785\n",
      "15 0.12893134355545044\n",
      "16 0.1268749237060547\n",
      "17 0.12496078759431839\n",
      "18 0.12312458455562592\n",
      "19 0.12133701890707016\n",
      "20 0.11958521604537964\n",
      "21 0.11786313354969025\n",
      "22 0.11616745591163635\n",
      "23 0.11449728906154633\n",
      "24 0.11285137385129929\n",
      "25 0.11122960597276688\n",
      "26 0.10963080823421478\n",
      "27 0.10805544257164001\n",
      "28 0.10650241374969482\n",
      "29 0.10497184097766876\n",
      "30 0.10346309095621109\n",
      "31 0.10197614878416061\n",
      "32 0.1005106046795845\n",
      "33 0.09906625002622604\n",
      "34 0.0976424440741539\n",
      "35 0.09623917937278748\n",
      "36 0.09485598653554916\n",
      "37 0.09349267184734344\n",
      "38 0.09214910864830017\n",
      "39 0.0908249020576477\n",
      "40 0.08951954543590546\n",
      "41 0.08823290467262268\n",
      "42 0.0869649350643158\n",
      "43 0.08571518212556839\n",
      "44 0.0844833180308342\n",
      "45 0.0832691341638565\n",
      "46 0.0820724293589592\n",
      "47 0.08089279383420944\n",
      "48 0.0797303095459938\n",
      "49 0.07858453691005707\n",
      "50 0.07745511829853058\n",
      "51 0.07634193450212479\n",
      "52 0.07524476945400238\n",
      "53 0.07416338473558426\n",
      "54 0.07309755682945251\n",
      "55 0.07204703986644745\n",
      "56 0.0710115134716034\n",
      "57 0.06999111920595169\n",
      "58 0.06898511946201324\n",
      "59 0.06799372285604477\n",
      "60 0.06701652705669403\n",
      "61 0.06605347990989685\n",
      "62 0.06510414928197861\n",
      "63 0.0641685277223587\n",
      "64 0.06324632465839386\n",
      "65 0.06233730912208557\n",
      "66 0.061441436409950256\n",
      "67 0.06055846065282822\n",
      "68 0.05968816205859184\n",
      "69 0.058830246329307556\n",
      "70 0.057984840124845505\n",
      "71 0.057151369750499725\n",
      "72 0.05633010342717171\n",
      "73 0.05552053824067116\n",
      "74 0.05472278222441673\n",
      "75 0.0539361871778965\n",
      "76 0.05316096916794777\n",
      "77 0.05239708721637726\n",
      "78 0.051644034683704376\n",
      "79 0.050901807844638824\n",
      "80 0.05017022788524628\n",
      "81 0.049449242651462555\n",
      "82 0.048738665878772736\n",
      "83 0.04803817346692085\n",
      "84 0.04734763503074646\n",
      "85 0.046667248010635376\n",
      "86 0.045996569097042084\n",
      "87 0.045335553586483\n",
      "88 0.04468391835689545\n",
      "89 0.04404187947511673\n",
      "90 0.043408870697021484\n",
      "91 0.04278506338596344\n",
      "92 0.04217009246349335\n",
      "93 0.04156406968832016\n",
      "94 0.04096679389476776\n",
      "95 0.04037802666425705\n",
      "96 0.039797671139240265\n",
      "97 0.039225779473781586\n",
      "98 0.03866200894117355\n",
      "99 0.03810644522309303\n",
      "w =  1.87004554271698\n",
      "b =  0.29541683197021484\n"
     ]
    }
   ],
   "source": [
    "loss_list = []\n",
    "epoch_list = []\n",
    "for epoch in range(100):\n",
    "    y_pred = model(x_data) # 预测值\n",
    "    l = loss(y_pred, y_data) # 误差\n",
    "    loss_list.append(l)\n",
    "    epoch_list.append(epoch)\n",
    "    print(epoch, l.item())\n",
    "    optimizer.zero_grad() # 梯度清零\n",
    "    l.backward() # 反向传播\n",
    "    #optimizer.zero_grad() # 梯度清零\n",
    "    optimizer.step() # 更新参数\n",
    "\n",
    "print('w = ', model.linear.weight.item())\n",
    "print('b = ', model.linear.bias.item())"
   ]
  },
  {
   "cell_type": "code",
   "execution_count": 49,
   "metadata": {},
   "outputs": [
    {
     "name": "stdout",
     "output_type": "stream",
     "text": [
      "y_pred =  tensor([7.7756], grad_fn=<AddBackward0>)\n"
     ]
    }
   ],
   "source": [
    "x_test = torch.tensor([4.0])\n",
    "y_test = model(x_test)\n",
    "print('y_pred = ', y_test)"
   ]
  },
  {
   "cell_type": "code",
   "execution_count": 50,
   "metadata": {},
   "outputs": [],
   "source": [
    "import matplotlib.pyplot as plt"
   ]
  },
  {
   "cell_type": "code",
   "execution_count": 54,
   "metadata": {},
   "outputs": [
    {
     "data": {
      "image/png": "[encoded data removed]",
      "text/plain": [
       "<Figure size 432x288 with 1 Axes>"
      ]
     },
     "metadata": {
      "needs_background": "light"
     },
     "output_type": "display_data"
    }
   ],
   "source": [
    "plt.plot(epoch_list, loss_list, c = 'r')\n",
    "plt.xlabel('Epoch')\n",
    "plt.ylabel('Loss', rotation = 0)\n",
    "plt.show()"
   ]
  },
  {
   "cell_type": "code",
   "execution_count": null,
   "metadata": {},
   "outputs": [],
   "source": []
  }
 ],
 "metadata": {
  "interpreter": {
   "hash": "330432424e35d2408c1d0bddfb618b2c3d2fa1435abf072766b9837d32a07414"
  },
  "kernelspec": {
   "display_name": "Python 3.8.8 ('base')",
   "language": "python",
   "name": "python3"
  },
  "language_info": {
   "codemirror_mode": {
    "name": "ipython",
    "version": 3
   },
   "file_extension": ".py",
   "mimetype": "text/x-python",
   "name": "python",
   "nbconvert_exporter": "python",
   "pygments_lexer": "ipython3",
   "version": "3.8.8"
  },
  "orig_nbformat": 4
 },
 "nbformat": 4,
 "nbformat_minor": 2
}
