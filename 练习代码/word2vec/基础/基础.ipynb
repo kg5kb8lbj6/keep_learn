{
 "cells": [
  {
   "cell_type": "code",
   "execution_count": 1,
   "id": "5387c4eb-47ce-4da4-b67a-1709cb8e2e62",
   "metadata": {},
   "outputs": [],
   "source": [
    "import torch\n",
    "import numpy as np\n",
    "import torch.nn as nn\n",
    "import torch.optim as optim\n",
    "import matplotlib.pyplot as plt\n",
    "import torch.utils.data as Data"
   ]
  },
  {
   "cell_type": "code",
   "execution_count": 2,
   "id": "9dcbc08d-70b9-4c1d-a049-d1a1929e75c5",
   "metadata": {},
   "outputs": [
    {
     "data": {
      "text/plain": [
       "torch.FloatTensor"
      ]
     },
     "execution_count": 2,
     "metadata": {},
     "output_type": "execute_result"
    }
   ],
   "source": [
    "dtype = torch.FloatTensor\n",
    "dtype"
   ]
  },
  {
   "cell_type": "code",
   "execution_count": 3,
   "id": "64b9228c-998f-4834-bc67-c0ed1d89177a",
   "metadata": {},
   "outputs": [],
   "source": [
    "device = torch.device('cuda' if torch.cuda.is_available() else 'cpu')"
   ]
  },
  {
   "cell_type": "code",
   "execution_count": 4,
   "id": "c366da2b-2b36-48be-903e-3a854a566ea2",
   "metadata": {},
   "outputs": [
    {
     "data": {
      "text/plain": [
       "device(type='cpu')"
      ]
     },
     "execution_count": 4,
     "metadata": {},
     "output_type": "execute_result"
    }
   ],
   "source": [
    "device"
   ]
  },
  {
   "cell_type": "markdown",
   "id": "38a3d40f-03bd-4e21-90b9-a1f157e9511a",
   "metadata": {},
   "source": [
    "#### 文本预处理"
   ]
  },
  {
   "cell_type": "code",
   "execution_count": 5,
   "id": "4adb2a47-3776-41eb-9ef4-75f09328ee6e",
   "metadata": {},
   "outputs": [
    {
     "data": {
      "text/plain": [
       "(['jack like dog',\n",
       "  'jack like cat',\n",
       "  'jack like animal',\n",
       "  'dog cat animal',\n",
       "  'banana apple cat dog like',\n",
       "  'dog fish milk like',\n",
       "  'dog cat animal like',\n",
       "  'jack like apple',\n",
       "  'apple like',\n",
       "  'jack like banana',\n",
       "  'apple banana jack movie book music like',\n",
       "  'cat dog hate',\n",
       "  'cat dog like'],\n",
       " 13)"
      ]
     },
     "execution_count": 5,
     "metadata": {},
     "output_type": "execute_result"
    }
   ],
   "source": [
    "sentences = [\"jack like dog\", \"jack like cat\", \"jack like animal\",\n",
    "  \"dog cat animal\", \"banana apple cat dog like\", \"dog fish milk like\",\n",
    "  \"dog cat animal like\", \"jack like apple\", \"apple like\", \"jack like banana\",\n",
    "  \"apple banana jack movie book music like\", \"cat dog hate\", \"cat dog like\"]\n",
    "sentences, len(sentences)"
   ]
  },
  {
   "cell_type": "code",
   "execution_count": 6,
   "id": "775f6107-fd9d-4c27-bd13-01e878dfd46d",
   "metadata": {},
   "outputs": [
    {
     "data": {
      "text/plain": [
       "'jack like dogjack like catjack like animaldog cat animalbanana apple cat dog likedog fish milk likedog cat animal likejack like appleapple likejack like bananaapple banana jack movie book music likecat dog hatecat dog like'"
      ]
     },
     "execution_count": 6,
     "metadata": {},
     "output_type": "execute_result"
    }
   ],
   "source": [
    "word_sequence = ''.join(sentences)\n",
    "word_sequence"
   ]
  },
  {
   "cell_type": "code",
   "execution_count": 7,
   "id": "ad90d10a-50dd-494c-ad89-3a49d10f25c4",
   "metadata": {},
   "outputs": [
    {
     "data": {
      "text/plain": [
       "(['jack',\n",
       "  'like',\n",
       "  'dogjack',\n",
       "  'like',\n",
       "  'catjack',\n",
       "  'like',\n",
       "  'animaldog',\n",
       "  'cat',\n",
       "  'animalbanana',\n",
       "  'apple',\n",
       "  'cat',\n",
       "  'dog',\n",
       "  'likedog',\n",
       "  'fish',\n",
       "  'milk',\n",
       "  'likedog',\n",
       "  'cat',\n",
       "  'animal',\n",
       "  'likejack',\n",
       "  'like',\n",
       "  'appleapple',\n",
       "  'likejack',\n",
       "  'like',\n",
       "  'bananaapple',\n",
       "  'banana',\n",
       "  'jack',\n",
       "  'movie',\n",
       "  'book',\n",
       "  'music',\n",
       "  'likecat',\n",
       "  'dog',\n",
       "  'hatecat',\n",
       "  'dog',\n",
       "  'like'],\n",
       " 34)"
      ]
     },
     "execution_count": 7,
     "metadata": {},
     "output_type": "execute_result"
    }
   ],
   "source": [
    "word_sequence = ''.join(sentences).split()\n",
    "word_sequence, len(word_sequence)"
   ]
  },
  {
   "cell_type": "code",
   "execution_count": 8,
   "id": "23764401-0c9d-44e2-af70-4525f167e815",
   "metadata": {},
   "outputs": [
    {
     "data": {
      "text/plain": [
       "(['cat',\n",
       "  'jack',\n",
       "  'dog',\n",
       "  'animaldog',\n",
       "  'music',\n",
       "  'likejack',\n",
       "  'movie',\n",
       "  'animalbanana',\n",
       "  'fish',\n",
       "  'appleapple',\n",
       "  'dogjack',\n",
       "  'apple',\n",
       "  'banana',\n",
       "  'animal',\n",
       "  'milk',\n",
       "  'catjack',\n",
       "  'likecat',\n",
       "  'like',\n",
       "  'bananaapple',\n",
       "  'likedog',\n",
       "  'book',\n",
       "  'hatecat'],\n",
       " 22)"
      ]
     },
     "execution_count": 8,
     "metadata": {},
     "output_type": "execute_result"
    }
   ],
   "source": [
    "vocab = list(set(word_sequence))\n",
    "vocab, len(vocab)"
   ]
  },
  {
   "cell_type": "code",
   "execution_count": 9,
   "id": "fe09506a-10c0-4c42-bfd3-59e0241db0ee",
   "metadata": {},
   "outputs": [
    {
     "data": {
      "text/plain": [
       "{'cat': 0,\n",
       " 'jack': 1,\n",
       " 'dog': 2,\n",
       " 'animaldog': 3,\n",
       " 'music': 4,\n",
       " 'likejack': 5,\n",
       " 'movie': 6,\n",
       " 'animalbanana': 7,\n",
       " 'fish': 8,\n",
       " 'appleapple': 9,\n",
       " 'dogjack': 10,\n",
       " 'apple': 11,\n",
       " 'banana': 12,\n",
       " 'animal': 13,\n",
       " 'milk': 14,\n",
       " 'catjack': 15,\n",
       " 'likecat': 16,\n",
       " 'like': 17,\n",
       " 'bananaapple': 18,\n",
       " 'likedog': 19,\n",
       " 'book': 20,\n",
       " 'hatecat': 21}"
      ]
     },
     "execution_count": 9,
     "metadata": {},
     "output_type": "execute_result"
    }
   ],
   "source": [
    "word2idx = {w: i for i, w in enumerate(vocab)}\n",
    "word2idx"
   ]
  },
  {
   "cell_type": "markdown",
   "id": "a2209770-ee81-4ac7-adfd-c0b48c4e7217",
   "metadata": {},
   "source": [
    "#### 模型参数"
   ]
  },
  {
   "cell_type": "code",
   "execution_count": 10,
   "id": "7879b014-2e46-44fd-b9f3-d9dc14bbaf63",
   "metadata": {},
   "outputs": [],
   "source": [
    "batch_size = 8\n",
    "embedding_size = 2\n",
    "C = 2 # window_size\n",
    "voc_size = len(vocab) # 22"
   ]
  },
  {
   "cell_type": "markdown",
   "id": "a4e0f145-8a84-4c08-a852-1974fe1bfb73",
   "metadata": {},
   "source": [
    "#### 数据预处理"
   ]
  },
  {
   "cell_type": "code",
   "execution_count": 11,
   "id": "70750307-9387-4ad6-9c28-56480b4479ec",
   "metadata": {},
   "outputs": [
    {
     "data": {
      "text/plain": [
       "'dogjack'"
      ]
     },
     "execution_count": 11,
     "metadata": {},
     "output_type": "execute_result"
    }
   ],
   "source": [
    "word_sequence[2]"
   ]
  },
  {
   "cell_type": "code",
   "execution_count": 12,
   "id": "e33c906c-a9ef-4a3c-bc3f-46650f988058",
   "metadata": {},
   "outputs": [],
   "source": [
    "'''\n",
    "功能：\n",
    "    将中心词和在一个窗口的背景词组成一个skip_grams\n",
    "'''\n",
    "skip_grams = []\n",
    "# C为2\n",
    "# word_sequence：单词的个数，34\n",
    "for idx in range(C, len(word_sequence) - C): # 2---31\n",
    "    center = word2idx[word_sequence[idx]]\n",
    "    context_idx = list(range(idx - C, idx)) + list(range(idx + 1, idx + C + 1))\n",
    "    context = [word2idx[word_sequence[i]] for i in context_idx]\n",
    "    for w in context:\n",
    "        skip_grams.append([center, w])"
   ]
  },
  {
   "cell_type": "code",
   "execution_count": 13,
   "id": "8adcb27e-cd73-461f-97de-265b6528a355",
   "metadata": {
    "collapsed": true,
    "jupyter": {
     "outputs_hidden": true
    },
    "tags": []
   },
   "outputs": [
    {
     "data": {
      "text/plain": [
       "[[10, 1],\n",
       " [10, 17],\n",
       " [10, 17],\n",
       " [10, 15],\n",
       " [17, 17],\n",
       " [17, 10],\n",
       " [17, 15],\n",
       " [17, 17],\n",
       " [15, 10],\n",
       " [15, 17],\n",
       " [15, 17],\n",
       " [15, 3],\n",
       " [17, 17],\n",
       " [17, 15],\n",
       " [17, 3],\n",
       " [17, 0],\n",
       " [3, 15],\n",
       " [3, 17],\n",
       " [3, 0],\n",
       " [3, 7],\n",
       " [0, 17],\n",
       " [0, 3],\n",
       " [0, 7],\n",
       " [0, 11],\n",
       " [7, 3],\n",
       " [7, 0],\n",
       " [7, 11],\n",
       " [7, 0],\n",
       " [11, 0],\n",
       " [11, 7],\n",
       " [11, 0],\n",
       " [11, 2],\n",
       " [0, 7],\n",
       " [0, 11],\n",
       " [0, 2],\n",
       " [0, 19],\n",
       " [2, 11],\n",
       " [2, 0],\n",
       " [2, 19],\n",
       " [2, 8],\n",
       " [19, 0],\n",
       " [19, 2],\n",
       " [19, 8],\n",
       " [19, 14],\n",
       " [8, 2],\n",
       " [8, 19],\n",
       " [8, 14],\n",
       " [8, 19],\n",
       " [14, 19],\n",
       " [14, 8],\n",
       " [14, 19],\n",
       " [14, 0],\n",
       " [19, 8],\n",
       " [19, 14],\n",
       " [19, 0],\n",
       " [19, 13],\n",
       " [0, 14],\n",
       " [0, 19],\n",
       " [0, 13],\n",
       " [0, 5],\n",
       " [13, 19],\n",
       " [13, 0],\n",
       " [13, 5],\n",
       " [13, 17],\n",
       " [5, 0],\n",
       " [5, 13],\n",
       " [5, 17],\n",
       " [5, 9],\n",
       " [17, 13],\n",
       " [17, 5],\n",
       " [17, 9],\n",
       " [17, 5],\n",
       " [9, 5],\n",
       " [9, 17],\n",
       " [9, 5],\n",
       " [9, 17],\n",
       " [5, 17],\n",
       " [5, 9],\n",
       " [5, 17],\n",
       " [5, 18],\n",
       " [17, 9],\n",
       " [17, 5],\n",
       " [17, 18],\n",
       " [17, 12],\n",
       " [18, 5],\n",
       " [18, 17],\n",
       " [18, 12],\n",
       " [18, 1],\n",
       " [12, 17],\n",
       " [12, 18],\n",
       " [12, 1],\n",
       " [12, 6],\n",
       " [1, 18],\n",
       " [1, 12],\n",
       " [1, 6],\n",
       " [1, 20],\n",
       " [6, 12],\n",
       " [6, 1],\n",
       " [6, 20],\n",
       " [6, 4],\n",
       " [20, 1],\n",
       " [20, 6],\n",
       " [20, 4],\n",
       " [20, 16],\n",
       " [4, 6],\n",
       " [4, 20],\n",
       " [4, 16],\n",
       " [4, 2],\n",
       " [16, 20],\n",
       " [16, 4],\n",
       " [16, 2],\n",
       " [16, 21],\n",
       " [2, 4],\n",
       " [2, 16],\n",
       " [2, 21],\n",
       " [2, 2],\n",
       " [21, 16],\n",
       " [21, 2],\n",
       " [21, 2],\n",
       " [21, 17]]"
      ]
     },
     "execution_count": 13,
     "metadata": {},
     "output_type": "execute_result"
    }
   ],
   "source": [
    "skip_grams"
   ]
  },
  {
   "cell_type": "code",
   "execution_count": 14,
   "id": "fc013bf7-999e-4f15-92b4-5f39cd575e74",
   "metadata": {},
   "outputs": [
    {
     "data": {
      "text/plain": [
       "120"
      ]
     },
     "execution_count": 14,
     "metadata": {},
     "output_type": "execute_result"
    }
   ],
   "source": [
    "len(skip_grams)"
   ]
  },
  {
   "cell_type": "code",
   "execution_count": 19,
   "id": "cde43dcf-bff8-4bd2-b527-f6aa305fb04d",
   "metadata": {},
   "outputs": [
    {
     "data": {
      "text/plain": [
       "([10, 1], [10, 17])"
      ]
     },
     "execution_count": 19,
     "metadata": {},
     "output_type": "execute_result"
    }
   ],
   "source": [
    "skip_grams[0], skip_grams[1]"
   ]
  },
  {
   "cell_type": "code",
   "execution_count": 22,
   "id": "1de347bd-b0a9-4043-b82f-5f5cc181ed61",
   "metadata": {},
   "outputs": [
    {
     "data": {
      "text/plain": [
       "array([[1., 0., 0.],\n",
       "       [0., 1., 0.],\n",
       "       [0., 0., 1.]])"
      ]
     },
     "execution_count": 22,
     "metadata": {},
     "output_type": "execute_result"
    }
   ],
   "source": [
    "np.eye(3)"
   ]
  },
  {
   "cell_type": "code",
   "execution_count": 75,
   "id": "f91fd8ef-72fc-470e-8777-e720b4384fbf",
   "metadata": {},
   "outputs": [],
   "source": [
    "def make_data(skip_grams):\n",
    "    input_data = []\n",
    "    output_data = []\n",
    "    for i in range(len(skip_grams)):\n",
    "        # 构建对角阵，有多少个词汇，对角阵就是多少行\n",
    "        input_data.append(np.eye(voc_size)[skip_grams[i][0]])\n",
    "        output_data.append(skip_grams[i][1])\n",
    "    return input_data, output_data"
   ]
  },
  {
   "cell_type": "code",
   "execution_count": 89,
   "id": "d221613a-bdc9-4c45-89c9-1414568e320e",
   "metadata": {
    "tags": []
   },
   "outputs": [],
   "source": [
    "input_data, output_data = make_data(skip_grams)\n",
    "#input_data, output_data"
   ]
  },
  {
   "cell_type": "code",
   "execution_count": 90,
   "id": "a9696832-e020-4dae-bd0a-71594793bf26",
   "metadata": {},
   "outputs": [],
   "source": [
    "input_data, output_data = torch.tensor(input_data, dtype = torch.float32), torch.LongTensor(output_data)"
   ]
  },
  {
   "cell_type": "code",
   "execution_count": 91,
   "id": "45ea3a1d-01e0-45ed-915d-581cd663cd84",
   "metadata": {},
   "outputs": [],
   "source": [
    "dataset = Data.TensorDataset(input_data, output_data)"
   ]
  },
  {
   "cell_type": "code",
   "execution_count": 92,
   "id": "b7c18b46-0571-4826-9b36-425e06d4fa81",
   "metadata": {},
   "outputs": [],
   "source": [
    "loader = Data.DataLoader(dataset, batch_size, True)"
   ]
  },
  {
   "cell_type": "markdown",
   "id": "d570d1f8-fd91-487d-9c7e-6680edb757aa",
   "metadata": {},
   "source": [
    "#### 构建模型"
   ]
  },
  {
   "cell_type": "code",
   "execution_count": 93,
   "id": "404bb07e-33b8-429d-8b9b-c07a74b5af9b",
   "metadata": {},
   "outputs": [],
   "source": [
    "class Word2Vec(nn.Module):\n",
    "    def __init__(self):\n",
    "        super(Word2Vec, self).__init__()\n",
    "        self.w = nn.Parameter(torch.randn(voc_size, embedding_size).type(dtype))\n",
    "        self.v = nn.Parameter(torch.randn(embedding_size, voc_size).type(dtype))\n",
    "    \n",
    "    def forward(self, x):\n",
    "        hidden_layer = torch.matmul(x, self.w)\n",
    "        output_layer = torch.matmul(hidden_layer, self.v)\n",
    "        return output_layer"
   ]
  },
  {
   "cell_type": "code",
   "execution_count": 94,
   "id": "23ce850a-88c8-4fd6-a272-48d533c9c462",
   "metadata": {},
   "outputs": [
    {
     "data": {
      "text/plain": [
       "Word2Vec()"
      ]
     },
     "execution_count": 94,
     "metadata": {},
     "output_type": "execute_result"
    }
   ],
   "source": [
    "model = Word2Vec().to(device)\n",
    "model"
   ]
  },
  {
   "cell_type": "code",
   "execution_count": 95,
   "id": "f30df4cd-bc1f-4d87-8b66-19e2a3d8249a",
   "metadata": {},
   "outputs": [
    {
     "data": {
      "text/plain": [
       "CrossEntropyLoss()"
      ]
     },
     "execution_count": 95,
     "metadata": {},
     "output_type": "execute_result"
    }
   ],
   "source": [
    "criterion = nn.CrossEntropyLoss().to(device)\n",
    "criterion"
   ]
  },
  {
   "cell_type": "code",
   "execution_count": 96,
   "id": "fa60e112-7bfe-4350-8d35-37ec1e3d7ae3",
   "metadata": {},
   "outputs": [
    {
     "data": {
      "text/plain": [
       "Adam (\n",
       "Parameter Group 0\n",
       "    amsgrad: False\n",
       "    betas: (0.9, 0.999)\n",
       "    eps: 1e-08\n",
       "    lr: 0.001\n",
       "    weight_decay: 0\n",
       ")"
      ]
     },
     "execution_count": 96,
     "metadata": {},
     "output_type": "execute_result"
    }
   ],
   "source": [
    "optimizer = optim.Adam(model.parameters(), lr = 1e-3)\n",
    "optimizer"
   ]
  },
  {
   "cell_type": "markdown",
   "id": "dec3a4f3-7c89-49fb-bdc5-da1d6f7feab5",
   "metadata": {},
   "source": [
    "#### 训练"
   ]
  },
  {
   "cell_type": "code",
   "execution_count": 97,
   "id": "240e2e9b-ceba-4df9-985d-5f235d6f5ef4",
   "metadata": {},
   "outputs": [],
   "source": [
    "import math"
   ]
  },
  {
   "cell_type": "code",
   "execution_count": 98,
   "id": "c9ee6dd6-19d2-4a98-8eab-5aec5052d7f2",
   "metadata": {},
   "outputs": [
    {
     "data": {
      "text/plain": [
       "120"
      ]
     },
     "execution_count": 98,
     "metadata": {},
     "output_type": "execute_result"
    }
   ],
   "source": [
    "len(input_data)"
   ]
  },
  {
   "cell_type": "code",
   "execution_count": 99,
   "id": "d4a60a47-73f7-451a-aeb2-8ea4b43f8424",
   "metadata": {
    "collapsed": true,
    "jupyter": {
     "outputs_hidden": true
    },
    "tags": []
   },
   "outputs": [
    {
     "name": "stdout",
     "output_type": "stream",
     "text": [
      "500 0 2.3090765476226807\n",
      "500 1 2.0188045501708984\n",
      "500 2 1.954380989074707\n",
      "500 3 2.211962938308716\n",
      "500 4 2.0766427516937256\n",
      "500 5 2.275336980819702\n",
      "500 6 2.416743516921997\n",
      "500 7 1.9096873998641968\n",
      "500 8 1.8954373598098755\n",
      "500 9 1.9421701431274414\n",
      "500 10 2.3931097984313965\n",
      "500 11 2.52700138092041\n",
      "500 12 2.400707721710205\n",
      "500 13 2.5670433044433594\n",
      "500 14 2.3080248832702637\n",
      "1000 0 2.1691524982452393\n",
      "1000 1 1.673717737197876\n",
      "1000 2 2.145174980163574\n",
      "1000 3 1.8062163591384888\n",
      "1000 4 2.269188404083252\n",
      "1000 5 2.2611212730407715\n",
      "1000 6 1.9780941009521484\n",
      "1000 7 2.2530269622802734\n",
      "1000 8 2.498270034790039\n",
      "1000 9 2.3311731815338135\n",
      "1000 10 1.897228479385376\n",
      "1000 11 2.1644790172576904\n",
      "1000 12 2.243744134902954\n",
      "1000 13 2.3976199626922607\n",
      "1000 14 1.7794663906097412\n",
      "1500 0 2.2095694541931152\n",
      "1500 1 2.1851613521575928\n",
      "1500 2 2.2074484825134277\n",
      "1500 3 2.1590588092803955\n",
      "1500 4 2.400043487548828\n",
      "1500 5 2.2095069885253906\n",
      "1500 6 1.6491806507110596\n",
      "1500 7 2.276275634765625\n",
      "1500 8 1.7518327236175537\n",
      "1500 9 1.6639955043792725\n",
      "1500 10 2.166753053665161\n",
      "1500 11 2.1649892330169678\n",
      "1500 12 1.915283203125\n",
      "1500 13 2.1054654121398926\n",
      "1500 14 2.5114505290985107\n",
      "2000 0 2.3718299865722656\n",
      "2000 1 1.9854931831359863\n",
      "2000 2 2.412550926208496\n",
      "2000 3 1.6229074001312256\n",
      "2000 4 2.0019593238830566\n",
      "2000 5 2.546092987060547\n",
      "2000 6 1.9849814176559448\n",
      "2000 7 1.8411750793457031\n",
      "2000 8 1.5567184686660767\n",
      "2000 9 2.1646180152893066\n",
      "2000 10 2.1555845737457275\n",
      "2000 11 2.3892619609832764\n",
      "2000 12 2.4038686752319336\n",
      "2000 13 2.1057353019714355\n",
      "2000 14 1.9005526304244995\n",
      "2500 0 2.17285418510437\n",
      "2500 1 1.9023523330688477\n",
      "2500 2 2.357940435409546\n",
      "2500 3 1.822609782218933\n",
      "2500 4 1.9731402397155762\n",
      "2500 5 1.7062236070632935\n",
      "2500 6 2.273399829864502\n",
      "2500 7 2.062263011932373\n",
      "2500 8 1.8138668537139893\n",
      "2500 9 2.1033482551574707\n",
      "2500 10 2.258110761642456\n",
      "2500 11 2.3773956298828125\n",
      "2500 12 2.637108564376831\n",
      "2500 13 2.3426594734191895\n",
      "2500 14 1.5617718696594238\n",
      "3000 0 2.359128713607788\n",
      "3000 1 2.3011221885681152\n",
      "3000 2 1.8450323343276978\n",
      "3000 3 2.0467817783355713\n",
      "3000 4 1.6311390399932861\n",
      "3000 5 2.268441677093506\n",
      "3000 6 1.6964435577392578\n",
      "3000 7 2.4793498516082764\n",
      "3000 8 2.090700387954712\n",
      "3000 9 1.8766416311264038\n",
      "3000 10 2.121770143508911\n",
      "3000 11 2.2573511600494385\n",
      "3000 12 2.504993438720703\n",
      "3000 13 1.7122291326522827\n",
      "3000 14 2.1098034381866455\n",
      "3500 0 2.1783788204193115\n",
      "3500 1 2.3268065452575684\n",
      "3500 2 2.506861686706543\n",
      "3500 3 1.593967318534851\n",
      "3500 4 2.4578049182891846\n",
      "3500 5 2.103830575942993\n",
      "3500 6 1.7316761016845703\n",
      "3500 7 1.6228621006011963\n",
      "3500 8 2.0917601585388184\n",
      "3500 9 2.2235498428344727\n",
      "3500 10 1.9447259902954102\n",
      "3500 11 2.0217533111572266\n",
      "3500 12 2.127509355545044\n",
      "3500 13 2.5077614784240723\n",
      "3500 14 1.8084709644317627\n"
     ]
    }
   ],
   "source": [
    "epoch_list = []\n",
    "loss_list = []\n",
    "for epoch in range(3500):\n",
    "    epoch_list.append(epoch)\n",
    "    train_loss = 0.0\n",
    "    for i, (batch_x, batch_y) in enumerate(loader):\n",
    "        batch_x = batch_x.to(device)\n",
    "        batch_y = batch_y.to(device)\n",
    "        pred = model(batch_x)\n",
    "        loss = criterion(pred, batch_y)\n",
    "        train_loss += loss.item()\n",
    "        if (epoch + 1) % 500 == 0:\n",
    "            print(epoch + 1, i, loss.item())\n",
    "        \n",
    "        optimizer.zero_grad()\n",
    "        loss.backward()\n",
    "        optimizer.step()\n",
    "    loss_list.append( train_loss / math.ceil(len(input_data) / batch_size))\n",
    "    #print('Loss :%.3f'%(train_loss / math.ceil(len(input_data) / batch_size)))"
   ]
  },
  {
   "cell_type": "code",
   "execution_count": 100,
   "id": "10b8ad1b-67d7-4ad4-ae5a-7d0b2abd5539",
   "metadata": {},
   "outputs": [
    {
     "data": {
      "text/plain": [
       "(3500, 3500)"
      ]
     },
     "execution_count": 100,
     "metadata": {},
     "output_type": "execute_result"
    }
   ],
   "source": [
    "len(epoch_list), len(loss_list)"
   ]
  },
  {
   "cell_type": "code",
   "execution_count": 101,
   "id": "424409f8-bf67-4ca6-a4b0-fa0894e842d7",
   "metadata": {},
   "outputs": [
    {
     "data": {
      "image/png": "[encoded data removed]",
      "text/plain": [
       "<Figure size 432x288 with 1 Axes>"
      ]
     },
     "metadata": {
      "needs_background": "light"
     },
     "output_type": "display_data"
    }
   ],
   "source": [
    "plt.plot(epoch_list, loss_list)\n",
    "plt.xlabel('Epoch')\n",
    "plt.ylabel('Loss', rotation = 0)\n",
    "plt.show()"
   ]
  },
  {
   "cell_type": "code",
   "execution_count": 102,
   "id": "b594b408-2780-46ed-8e25-508a27c9d090",
   "metadata": {},
   "outputs": [
    {
     "data": {
      "text/plain": [
       "<generator object Module.parameters at 0x00000243F8417F20>"
      ]
     },
     "execution_count": 102,
     "metadata": {},
     "output_type": "execute_result"
    }
   ],
   "source": [
    "model.parameters()"
   ]
  },
  {
   "cell_type": "code",
   "execution_count": 103,
   "id": "22e07677-5252-4a9e-8c2f-1ae9c469120c",
   "metadata": {},
   "outputs": [
    {
     "data": {
      "image/png": "[encoded data removed]",
      "text/plain": [
       "<Figure size 432x288 with 1 Axes>"
      ]
     },
     "metadata": {
      "needs_background": "light"
     },
     "output_type": "display_data"
    }
   ],
   "source": [
    "for i, label in enumerate(vocab):\n",
    "    W, WT = model.parameters()\n",
    "    x, y = float(W[i][0]), float(W[i][1])\n",
    "    plt.scatter(x, y)\n",
    "    plt.annotate(label, xy = (x, y), xytext = (10, 10), textcoords = 'offset points', ha = 'right', va = 'bottom')\n",
    "plt.show()"
   ]
  },
  {
   "cell_type": "code",
   "execution_count": null,
   "id": "7adfc724-c585-4667-aa21-78278c7fb580",
   "metadata": {},
   "outputs": [],
   "source": []
  }
 ],
 "metadata": {
  "kernelspec": {
   "display_name": "Python 3 (ipykernel)",
   "language": "python",
   "name": "python3"
  },
  "language_info": {
   "codemirror_mode": {
    "name": "ipython",
    "version": 3
   },
   "file_extension": ".py",
   "mimetype": "text/x-python",
   "name": "python",
   "nbconvert_exporter": "python",
   "pygments_lexer": "ipython3",
   "version": "3.8.8"
  }
 },
 "nbformat": 4,
 "nbformat_minor": 5
}
