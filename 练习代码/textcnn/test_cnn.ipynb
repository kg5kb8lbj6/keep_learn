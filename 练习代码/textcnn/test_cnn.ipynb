{
 "cells": [
  {
   "cell_type": "code",
   "execution_count": 1,
   "id": "96cd8d15-103b-41d1-9e3b-6744b13b76bf",
   "metadata": {},
   "outputs": [],
   "source": [
    "import torch\n",
    "import numpy as np\n",
    "import torch.nn as nn\n",
    "import torch.optim as optim\n",
    "import torch.utils.data as Data\n",
    "import torch.nn.functional as F"
   ]
  },
  {
   "cell_type": "code",
   "execution_count": 2,
   "id": "ca9564c5-dd6c-409f-ab70-8f0313b3be66",
   "metadata": {},
   "outputs": [
    {
     "data": {
      "text/plain": [
       "torch.FloatTensor"
      ]
     },
     "execution_count": 2,
     "metadata": {},
     "output_type": "execute_result"
    }
   ],
   "source": [
    "dtype = torch.FloatTensor\n",
    "dtype"
   ]
  },
  {
   "cell_type": "code",
   "execution_count": 3,
   "id": "cb3780aa-52a0-4778-bc11-52eebc4992e7",
   "metadata": {},
   "outputs": [
    {
     "data": {
      "text/plain": [
       "device(type='cpu')"
      ]
     },
     "execution_count": 3,
     "metadata": {},
     "output_type": "execute_result"
    }
   ],
   "source": [
    "device = torch.device('cuda' if torch.cuda.is_available() else 'cpu')\n",
    "device"
   ]
  },
  {
   "cell_type": "markdown",
   "id": "3473aad3-4740-49b8-b8f6-8ea7279f43f7",
   "metadata": {},
   "source": [
    "#### 定义数据，以及一些常规参数"
   ]
  },
  {
   "cell_type": "code",
   "execution_count": 11,
   "id": "8f0f41d2-2a90-48c4-9357-1834b1304d39",
   "metadata": {},
   "outputs": [],
   "source": [
    "sentences = [\"i love you\", \"he loves me\", \"she likes baseball\", \"i hate you\", \"sorry for that\", \"this is awful\"]"
   ]
  },
  {
   "cell_type": "code",
   "execution_count": 12,
   "id": "60c35f42-9cc9-4c43-b0d9-73e80b918f62",
   "metadata": {},
   "outputs": [
    {
     "data": {
      "text/plain": [
       "['i love you',\n",
       " 'he loves me',\n",
       " 'she likes baseball',\n",
       " 'i hate you',\n",
       " 'sorry for that',\n",
       " 'this is awful']"
      ]
     },
     "execution_count": 12,
     "metadata": {},
     "output_type": "execute_result"
    }
   ],
   "source": [
    "sentences"
   ]
  },
  {
   "cell_type": "code",
   "execution_count": 5,
   "id": "8ba976b1-9872-401f-a11c-18cfec53e600",
   "metadata": {},
   "outputs": [
    {
     "data": {
      "text/plain": [
       "[1, 1, 1, 0, 0, 0]"
      ]
     },
     "execution_count": 5,
     "metadata": {},
     "output_type": "execute_result"
    }
   ],
   "source": [
    "labels = [1, 1, 1, 0, 0, 0]  # 1 is good, 0 is not good.\n",
    "labels"
   ]
  },
  {
   "cell_type": "code",
   "execution_count": 6,
   "id": "43081200-9709-4a50-a3d7-36e16fa032ab",
   "metadata": {},
   "outputs": [
    {
     "data": {
      "text/plain": [
       "2"
      ]
     },
     "execution_count": 6,
     "metadata": {},
     "output_type": "execute_result"
    }
   ],
   "source": [
    "# TextCNN Parameter\n",
    "embedding_size = 2\n",
    "embedding_size"
   ]
  },
  {
   "cell_type": "code",
   "execution_count": 16,
   "id": "bde4ae01-1a4f-4233-8f5d-748decacf8ab",
   "metadata": {},
   "outputs": [
    {
     "data": {
      "text/plain": [
       "3"
      ]
     },
     "execution_count": 16,
     "metadata": {},
     "output_type": "execute_result"
    }
   ],
   "source": [
    "sequence_length = 3\n",
    "sequence_length"
   ]
  },
  {
   "cell_type": "code",
   "execution_count": 17,
   "id": "a939e8ec-48cc-4afa-a068-3eaf4c17bc24",
   "metadata": {},
   "outputs": [
    {
     "data": {
      "text/plain": [
       "2"
      ]
     },
     "execution_count": 17,
     "metadata": {},
     "output_type": "execute_result"
    }
   ],
   "source": [
    "num_classes = len(set(labels))\n",
    "num_classes"
   ]
  },
  {
   "cell_type": "code",
   "execution_count": 18,
   "id": "082992df-acef-4c34-a2b9-a6c01697660e",
   "metadata": {},
   "outputs": [],
   "source": [
    "batch_size = 3"
   ]
  },
  {
   "cell_type": "code",
   "execution_count": 19,
   "id": "c2274d60-1c1e-4a83-b4af-9085024cae0c",
   "metadata": {},
   "outputs": [
    {
     "data": {
      "text/plain": [
       "['i',\n",
       " 'love',\n",
       " 'you',\n",
       " 'he',\n",
       " 'loves',\n",
       " 'me',\n",
       " 'she',\n",
       " 'likes',\n",
       " 'baseball',\n",
       " 'i',\n",
       " 'hate',\n",
       " 'you',\n",
       " 'sorry',\n",
       " 'for',\n",
       " 'that',\n",
       " 'this',\n",
       " 'is',\n",
       " 'awful']"
      ]
     },
     "execution_count": 19,
     "metadata": {},
     "output_type": "execute_result"
    }
   ],
   "source": [
    "word_list = ' '.join(sentences).split()\n",
    "word_list"
   ]
  },
  {
   "cell_type": "code",
   "execution_count": 20,
   "id": "5492a6ae-6178-4a06-8df2-9eb61712c43a",
   "metadata": {},
   "outputs": [
    {
     "data": {
      "text/plain": [
       "['awful',\n",
       " 'sorry',\n",
       " 'love',\n",
       " 'loves',\n",
       " 'that',\n",
       " 'me',\n",
       " 'i',\n",
       " 'he',\n",
       " 'she',\n",
       " 'this',\n",
       " 'you',\n",
       " 'is',\n",
       " 'baseball',\n",
       " 'hate',\n",
       " 'for',\n",
       " 'likes']"
      ]
     },
     "execution_count": 20,
     "metadata": {},
     "output_type": "execute_result"
    }
   ],
   "source": [
    "vocab = list(set(word_list))\n",
    "vocab"
   ]
  },
  {
   "cell_type": "code",
   "execution_count": 21,
   "id": "11aa6dfd-24c3-457d-b0cd-89d8cd236a7e",
   "metadata": {},
   "outputs": [
    {
     "data": {
      "text/plain": [
       "{'awful': 0,\n",
       " 'sorry': 1,\n",
       " 'love': 2,\n",
       " 'loves': 3,\n",
       " 'that': 4,\n",
       " 'me': 5,\n",
       " 'i': 6,\n",
       " 'he': 7,\n",
       " 'she': 8,\n",
       " 'this': 9,\n",
       " 'you': 10,\n",
       " 'is': 11,\n",
       " 'baseball': 12,\n",
       " 'hate': 13,\n",
       " 'for': 14,\n",
       " 'likes': 15}"
      ]
     },
     "execution_count": 21,
     "metadata": {},
     "output_type": "execute_result"
    }
   ],
   "source": [
    "word2idx = {w:i for i, w in enumerate(vocab)}\n",
    "word2idx"
   ]
  },
  {
   "cell_type": "code",
   "execution_count": 22,
   "id": "3f4c8568-f92f-4757-b5a1-f05c1780cfee",
   "metadata": {},
   "outputs": [
    {
     "data": {
      "text/plain": [
       "16"
      ]
     },
     "execution_count": 22,
     "metadata": {},
     "output_type": "execute_result"
    }
   ],
   "source": [
    "vocab_size = len(vocab)\n",
    "vocab_size"
   ]
  },
  {
   "cell_type": "markdown",
   "id": "eaebaf09-c975-43b5-beca-328456a77258",
   "metadata": {},
   "source": [
    "#### 数据预处理"
   ]
  },
  {
   "cell_type": "code",
   "execution_count": 27,
   "id": "a2629872-2464-4f51-96fe-7cde687c9da6",
   "metadata": {},
   "outputs": [],
   "source": [
    "def make_data(sentences, labels):\n",
    "    inputs = []\n",
    "    for sen in sentences:\n",
    "        #print(sen)\n",
    "        inputs.append([word2idx[n] for n in sen.split()])\n",
    "    #print(inputs)\n",
    "    targets = []\n",
    "    for out in labels:\n",
    "        targets.append(out)\n",
    "    return inputs, targets\n",
    "input_batch, target_batch = make_data(sentences, labels)"
   ]
  },
  {
   "cell_type": "code",
   "execution_count": 28,
   "id": "dffc6e0c-6db5-4f1e-bdfd-a50b53f93a3c",
   "metadata": {},
   "outputs": [
    {
     "data": {
      "text/plain": [
       "[[6, 2, 10], [7, 3, 5], [8, 15, 12], [6, 13, 10], [1, 14, 4], [9, 11, 0]]"
      ]
     },
     "execution_count": 28,
     "metadata": {},
     "output_type": "execute_result"
    }
   ],
   "source": [
    "input_batch"
   ]
  },
  {
   "cell_type": "code",
   "execution_count": 29,
   "id": "54eea4a8-745a-4adb-836e-053f1c2523c8",
   "metadata": {},
   "outputs": [
    {
     "data": {
      "text/plain": [
       "[1, 1, 1, 0, 0, 0]"
      ]
     },
     "execution_count": 29,
     "metadata": {},
     "output_type": "execute_result"
    }
   ],
   "source": [
    "target_batch"
   ]
  },
  {
   "cell_type": "code",
   "execution_count": 30,
   "id": "257d9a4e-aba7-4a9c-864a-d9084d171a86",
   "metadata": {},
   "outputs": [],
   "source": [
    "input_batch, target_batch = torch.LongTensor(input_batch), torch.LongTensor(target_batch)"
   ]
  },
  {
   "cell_type": "code",
   "execution_count": 31,
   "id": "117628c7-6eaf-487d-a591-c934b18608d4",
   "metadata": {},
   "outputs": [
    {
     "data": {
      "text/plain": [
       "tensor([[ 6,  2, 10],\n",
       "        [ 7,  3,  5],\n",
       "        [ 8, 15, 12],\n",
       "        [ 6, 13, 10],\n",
       "        [ 1, 14,  4],\n",
       "        [ 9, 11,  0]])"
      ]
     },
     "execution_count": 31,
     "metadata": {},
     "output_type": "execute_result"
    }
   ],
   "source": [
    "input_batch"
   ]
  },
  {
   "cell_type": "code",
   "execution_count": 32,
   "id": "3f065f26-34ae-4815-936c-a9671ab07e32",
   "metadata": {},
   "outputs": [
    {
     "data": {
      "text/plain": [
       "tensor([1, 1, 1, 0, 0, 0])"
      ]
     },
     "execution_count": 32,
     "metadata": {},
     "output_type": "execute_result"
    }
   ],
   "source": [
    "target_batch"
   ]
  },
  {
   "cell_type": "code",
   "execution_count": 33,
   "id": "510a2fa1-02b4-4d22-a51f-79a588d574e3",
   "metadata": {},
   "outputs": [
    {
     "data": {
      "text/plain": [
       "<torch.utils.data.dataset.TensorDataset at 0x1f9a5b324f0>"
      ]
     },
     "execution_count": 33,
     "metadata": {},
     "output_type": "execute_result"
    }
   ],
   "source": [
    "dataset = Data.TensorDataset(input_batch, target_batch)\n",
    "dataset"
   ]
  },
  {
   "cell_type": "code",
   "execution_count": 34,
   "id": "d5fab8af-b0a0-441a-aeaa-6dd2a0fd0cc8",
   "metadata": {},
   "outputs": [
    {
     "data": {
      "text/plain": [
       "<torch.utils.data.dataloader.DataLoader at 0x1f9a5e09640>"
      ]
     },
     "execution_count": 34,
     "metadata": {},
     "output_type": "execute_result"
    }
   ],
   "source": [
    "loader = Data.DataLoader(dataset, batch_size, True)\n",
    "loader"
   ]
  },
  {
   "cell_type": "markdown",
   "id": "eb51d24d-39aa-4074-b0ab-9eef6fb9fe6e",
   "metadata": {},
   "source": [
    "#### 构建模型"
   ]
  },
  {
   "cell_type": "code",
   "execution_count": 35,
   "id": "0e95e90f-84ee-45a1-97f6-00d83a92b9ae",
   "metadata": {},
   "outputs": [],
   "source": [
    "class TextCNN(nn.Module):\n",
    "    def __init__(self):\n",
    "        super(TextCNN, self).__init__()\n",
    "        self.w = nn.Embedding(vocab_size, embedding_size)\n",
    "        output_channel = 3\n",
    "        self.conv = nn.Sequential(\n",
    "            # (2, embedding_size)为卷积核的大小，（filter_height, filter_width）\n",
    "            nn.Conv2d(1, 3, (2, embedding_size)),\n",
    "            nn.ReLU(),\n",
    "            # （filter_height, filter_width）\n",
    "            nn.MaxPool2d((2, 1)),\n",
    "        )\n",
    "        self.fc = nn.Linear(output_channel, num_classes)\n",
    "        \n",
    "    def forward(self, x):\n",
    "        batch_size = x.shape[0]\n",
    "        embedding_x = self.w(x) # [batch_size, sequence_length, embedding_size]\n",
    "        embedding_x = embedding_x.unsqueeze(1) # # add channel(=1) [batch, channel(=1), sequence_length, embedding_size]\n",
    "        conved = self.conv(embedding_x)\n",
    "        flatten = conved.view(batch_size, -1)\n",
    "        output = self.fc(flatten)\n",
    "        return output"
   ]
  },
  {
   "cell_type": "code",
   "execution_count": 36,
   "id": "bab6d26a-5cec-4be2-8eaf-376f4cad1882",
   "metadata": {},
   "outputs": [
    {
     "data": {
      "text/plain": [
       "TextCNN(\n",
       "  (w): Embedding(16, 2)\n",
       "  (conv): Sequential(\n",
       "    (0): Conv2d(1, 3, kernel_size=(2, 2), stride=(1, 1))\n",
       "    (1): ReLU()\n",
       "    (2): MaxPool2d(kernel_size=(2, 1), stride=(2, 1), padding=0, dilation=1, ceil_mode=False)\n",
       "  )\n",
       "  (fc): Linear(in_features=3, out_features=2, bias=True)\n",
       ")"
      ]
     },
     "execution_count": 36,
     "metadata": {},
     "output_type": "execute_result"
    }
   ],
   "source": [
    "model = TextCNN().to(device)\n",
    "model"
   ]
  },
  {
   "cell_type": "code",
   "execution_count": 37,
   "id": "3288a39c-a817-4689-8caf-79f5d06a2149",
   "metadata": {},
   "outputs": [
    {
     "data": {
      "text/plain": [
       "CrossEntropyLoss()"
      ]
     },
     "execution_count": 37,
     "metadata": {},
     "output_type": "execute_result"
    }
   ],
   "source": [
    "criterion = nn.CrossEntropyLoss().to(device)\n",
    "criterion"
   ]
  },
  {
   "cell_type": "code",
   "execution_count": 38,
   "id": "28f0272d-e195-47e1-aac8-ee530d3c9fb9",
   "metadata": {},
   "outputs": [
    {
     "data": {
      "text/plain": [
       "Adam (\n",
       "Parameter Group 0\n",
       "    amsgrad: False\n",
       "    betas: (0.9, 0.999)\n",
       "    eps: 1e-08\n",
       "    lr: 0.01\n",
       "    weight_decay: 0\n",
       ")"
      ]
     },
     "execution_count": 38,
     "metadata": {},
     "output_type": "execute_result"
    }
   ],
   "source": [
    "opitimizer = optim.Adam(model.parameters(), lr = 0.01)\n",
    "opitimizer"
   ]
  },
  {
   "cell_type": "code",
   "execution_count": 41,
   "id": "48b41c2f-2da2-44dd-8ac9-64e50fe1624e",
   "metadata": {},
   "outputs": [
    {
     "name": "stdout",
     "output_type": "stream",
     "text": [
      "Epcoh: 1000 loss =  0.000006\n",
      "Epcoh: 1000 loss =  0.000003\n",
      "Epcoh: 2000 loss =  0.000001\n",
      "Epcoh: 2000 loss =  0.000001\n",
      "Epcoh: 3000 loss =  0.000000\n",
      "Epcoh: 3000 loss =  0.000000\n",
      "Epcoh: 4000 loss =  0.000000\n",
      "Epcoh: 4000 loss =  0.000000\n",
      "Epcoh: 5000 loss =  0.000000\n",
      "Epcoh: 5000 loss =  0.000000\n"
     ]
    }
   ],
   "source": [
    "epoch_list = []\n",
    "loss_list = []\n",
    "for epoch in range(5000):\n",
    "    epoch_list.append(epoch)\n",
    "    for batch_x, batch_y in loader:\n",
    "        batch_x, batch_y = batch_x.to(device), batch_y.to(device)\n",
    "        pred = model(batch_x)\n",
    "        loss = criterion(pred, batch_y)\n",
    "        loss_list.append(loss)\n",
    "        if (epoch + 1) % 1000 == 0:\n",
    "            print('Epcoh:', '%4d'%(epoch + 1), 'loss = ','{:.6f}'.format(loss))\n",
    "        \n",
    "        opitimizer.zero_grad()\n",
    "        loss.backward()\n",
    "        opitimizer.step()"
   ]
  },
  {
   "cell_type": "code",
   "execution_count": 43,
   "id": "1c64565b-9b02-4860-b82d-31e254bc2911",
   "metadata": {},
   "outputs": [
    {
     "data": {
      "text/plain": [
       "5000"
      ]
     },
     "execution_count": 43,
     "metadata": {},
     "output_type": "execute_result"
    }
   ],
   "source": [
    "len(epoch_list)"
   ]
  },
  {
   "cell_type": "markdown",
   "id": "9b999731-33a2-4a15-96d7-3923d96f8b6c",
   "metadata": {},
   "source": [
    "#### 测试"
   ]
  },
  {
   "cell_type": "code",
   "execution_count": 54,
   "id": "2c0df4e9-4f70-40ca-b76c-e77c23325b3a",
   "metadata": {},
   "outputs": [],
   "source": [
    "test_text = 'i hate me'\n",
    "tests = [[word2idx[n] for n in test_text.split()]]\n",
    "test_batch = torch.LongTensor(tests).to(device)"
   ]
  },
  {
   "cell_type": "code",
   "execution_count": 55,
   "id": "4e2e8be8-e5a3-41b3-af4f-ac3f09f6ca91",
   "metadata": {},
   "outputs": [
    {
     "data": {
      "text/plain": [
       "[[6, 13, 5]]"
      ]
     },
     "execution_count": 55,
     "metadata": {},
     "output_type": "execute_result"
    }
   ],
   "source": [
    "tests"
   ]
  },
  {
   "cell_type": "code",
   "execution_count": 56,
   "id": "65a746d7-d6b7-4b78-b971-b4e675542d7c",
   "metadata": {},
   "outputs": [
    {
     "data": {
      "text/plain": [
       "tensor([[ 6, 13,  5]])"
      ]
     },
     "execution_count": 56,
     "metadata": {},
     "output_type": "execute_result"
    }
   ],
   "source": [
    "test_batch"
   ]
  },
  {
   "cell_type": "code",
   "execution_count": 57,
   "id": "c611b71d-985e-4283-883d-fcac29b9c6b8",
   "metadata": {},
   "outputs": [],
   "source": [
    "model = model.eval()"
   ]
  },
  {
   "cell_type": "code",
   "execution_count": 58,
   "id": "ac5b7613-94d2-4976-946f-69f446fded53",
   "metadata": {},
   "outputs": [
    {
     "data": {
      "text/plain": [
       "TextCNN(\n",
       "  (w): Embedding(16, 2)\n",
       "  (conv): Sequential(\n",
       "    (0): Conv2d(1, 3, kernel_size=(2, 2), stride=(1, 1))\n",
       "    (1): ReLU()\n",
       "    (2): MaxPool2d(kernel_size=(2, 1), stride=(2, 1), padding=0, dilation=1, ceil_mode=False)\n",
       "  )\n",
       "  (fc): Linear(in_features=3, out_features=2, bias=True)\n",
       ")"
      ]
     },
     "execution_count": 58,
     "metadata": {},
     "output_type": "execute_result"
    }
   ],
   "source": [
    "model"
   ]
  },
  {
   "cell_type": "code",
   "execution_count": 59,
   "id": "1fdbff26-f3dc-4b28-9512-82454810dc26",
   "metadata": {},
   "outputs": [
    {
     "name": "stdout",
     "output_type": "stream",
     "text": [
      "i hate me is a Bad mean\n"
     ]
    }
   ],
   "source": [
    "predict = model(test_batch).data.max(1, keepdim = True)[1]\n",
    "if predict[0][0] == 0:\n",
    "    print(test_text, 'is a Bad mean')\n",
    "else:\n",
    "    print(test_text, 'is a good mean')"
   ]
  },
  {
   "cell_type": "code",
   "execution_count": null,
   "id": "574a63f7-d198-4dd4-97df-6101294c7b4f",
   "metadata": {},
   "outputs": [],
   "source": []
  }
 ],
 "metadata": {
  "kernelspec": {
   "display_name": "Python 3 (ipykernel)",
   "language": "python",
   "name": "python3"
  },
  "language_info": {
   "codemirror_mode": {
    "name": "ipython",
    "version": 3
   },
   "file_extension": ".py",
   "mimetype": "text/x-python",
   "name": "python",
   "nbconvert_exporter": "python",
   "pygments_lexer": "ipython3",
   "version": "3.8.8"
  }
 },
 "nbformat": 4,
 "nbformat_minor": 5
}
