{
 "cells": [
  {
   "cell_type": "code",
   "execution_count": 14,
   "metadata": {},
   "outputs": [],
   "source": [
    "import pandas as pd\n",
    "import numpy as np\n",
    "import matplotlib.pyplot as plt\n",
    "%matplotlib inline"
   ]
  },
  {
   "cell_type": "code",
   "execution_count": 15,
   "metadata": {},
   "outputs": [],
   "source": [
    "# 用的数据是美国年度失业率\n",
    "unemployment = pd.read_csv('unemployment.csv')"
   ]
  },
  {
   "cell_type": "code",
   "execution_count": 16,
   "metadata": {},
   "outputs": [
    {
     "data": {
      "text/html": [
       "<div>\n",
       "<style scoped>\n",
       "    .dataframe tbody tr th:only-of-type {\n",
       "        vertical-align: middle;\n",
       "    }\n",
       "\n",
       "    .dataframe tbody tr th {\n",
       "        vertical-align: top;\n",
       "    }\n",
       "\n",
       "    .dataframe thead th {\n",
       "        text-align: right;\n",
       "    }\n",
       "</style>\n",
       "<table border=\"1\" class=\"dataframe\">\n",
       "  <thead>\n",
       "    <tr style=\"text-align: right;\">\n",
       "      <th></th>\n",
       "      <th>year</th>\n",
       "      <th>rate</th>\n",
       "    </tr>\n",
       "  </thead>\n",
       "  <tbody>\n",
       "    <tr>\n",
       "      <th>0</th>\n",
       "      <td>1955</td>\n",
       "      <td>4.383333</td>\n",
       "    </tr>\n",
       "    <tr>\n",
       "      <th>1</th>\n",
       "      <td>1956</td>\n",
       "      <td>4.141667</td>\n",
       "    </tr>\n",
       "    <tr>\n",
       "      <th>2</th>\n",
       "      <td>1957</td>\n",
       "      <td>4.258333</td>\n",
       "    </tr>\n",
       "    <tr>\n",
       "      <th>3</th>\n",
       "      <td>1958</td>\n",
       "      <td>6.800000</td>\n",
       "    </tr>\n",
       "    <tr>\n",
       "      <th>4</th>\n",
       "      <td>1959</td>\n",
       "      <td>5.475000</td>\n",
       "    </tr>\n",
       "  </tbody>\n",
       "</table>\n",
       "</div>"
      ],
      "text/plain": [
       "   year      rate\n",
       "0  1955  4.383333\n",
       "1  1956  4.141667\n",
       "2  1957  4.258333\n",
       "3  1958  6.800000\n",
       "4  1959  5.475000"
      ]
     },
     "execution_count": 16,
     "metadata": {},
     "output_type": "execute_result"
    }
   ],
   "source": [
    "unemployment.head()"
   ]
  },
  {
   "cell_type": "code",
   "execution_count": 17,
   "metadata": {},
   "outputs": [],
   "source": [
    "# 构建随机缺失值列\n",
    "unemployment['missing'] = unemployment['rate']\n",
    "# 随机的选择10%行手动填充缺失值\n",
    "# random_state 相当于一个随机种子\n",
    "mis_index = unemployment.sample(frac = 0.1, random_state = 99).index\n",
    "unemployment.loc[mis_index, 'missing'] = None"
   ]
  },
  {
   "cell_type": "code",
   "execution_count": 18,
   "metadata": {},
   "outputs": [
    {
     "data": {
      "text/html": [
       "<div>\n",
       "<style scoped>\n",
       "    .dataframe tbody tr th:only-of-type {\n",
       "        vertical-align: middle;\n",
       "    }\n",
       "\n",
       "    .dataframe tbody tr th {\n",
       "        vertical-align: top;\n",
       "    }\n",
       "\n",
       "    .dataframe thead th {\n",
       "        text-align: right;\n",
       "    }\n",
       "</style>\n",
       "<table border=\"1\" class=\"dataframe\">\n",
       "  <thead>\n",
       "    <tr style=\"text-align: right;\">\n",
       "      <th></th>\n",
       "      <th>year</th>\n",
       "      <th>rate</th>\n",
       "      <th>missing</th>\n",
       "    </tr>\n",
       "  </thead>\n",
       "  <tbody>\n",
       "    <tr>\n",
       "      <th>0</th>\n",
       "      <td>1955</td>\n",
       "      <td>4.383333</td>\n",
       "      <td>4.383333</td>\n",
       "    </tr>\n",
       "    <tr>\n",
       "      <th>1</th>\n",
       "      <td>1956</td>\n",
       "      <td>4.141667</td>\n",
       "      <td>4.141667</td>\n",
       "    </tr>\n",
       "    <tr>\n",
       "      <th>2</th>\n",
       "      <td>1957</td>\n",
       "      <td>4.258333</td>\n",
       "      <td>4.258333</td>\n",
       "    </tr>\n",
       "    <tr>\n",
       "      <th>3</th>\n",
       "      <td>1958</td>\n",
       "      <td>6.800000</td>\n",
       "      <td>6.800000</td>\n",
       "    </tr>\n",
       "    <tr>\n",
       "      <th>4</th>\n",
       "      <td>1959</td>\n",
       "      <td>5.475000</td>\n",
       "      <td>5.475000</td>\n",
       "    </tr>\n",
       "    <tr>\n",
       "      <th>...</th>\n",
       "      <td>...</td>\n",
       "      <td>...</td>\n",
       "      <td>...</td>\n",
       "    </tr>\n",
       "    <tr>\n",
       "      <th>61</th>\n",
       "      <td>2016</td>\n",
       "      <td>4.866667</td>\n",
       "      <td>4.866667</td>\n",
       "    </tr>\n",
       "    <tr>\n",
       "      <th>62</th>\n",
       "      <td>2017</td>\n",
       "      <td>4.350000</td>\n",
       "      <td>4.350000</td>\n",
       "    </tr>\n",
       "    <tr>\n",
       "      <th>63</th>\n",
       "      <td>2018</td>\n",
       "      <td>3.900000</td>\n",
       "      <td>3.900000</td>\n",
       "    </tr>\n",
       "    <tr>\n",
       "      <th>64</th>\n",
       "      <td>2019</td>\n",
       "      <td>3.666667</td>\n",
       "      <td>3.666667</td>\n",
       "    </tr>\n",
       "    <tr>\n",
       "      <th>65</th>\n",
       "      <td>2020</td>\n",
       "      <td>8.091666</td>\n",
       "      <td>8.091666</td>\n",
       "    </tr>\n",
       "  </tbody>\n",
       "</table>\n",
       "<p>66 rows × 3 columns</p>\n",
       "</div>"
      ],
      "text/plain": [
       "    year      rate   missing\n",
       "0   1955  4.383333  4.383333\n",
       "1   1956  4.141667  4.141667\n",
       "2   1957  4.258333  4.258333\n",
       "3   1958  6.800000  6.800000\n",
       "4   1959  5.475000  5.475000\n",
       "..   ...       ...       ...\n",
       "61  2016  4.866667  4.866667\n",
       "62  2017  4.350000  4.350000\n",
       "63  2018  3.900000  3.900000\n",
       "64  2019  3.666667  3.666667\n",
       "65  2020  8.091666  8.091666\n",
       "\n",
       "[66 rows x 3 columns]"
      ]
     },
     "execution_count": 18,
     "metadata": {},
     "output_type": "execute_result"
    }
   ],
   "source": [
    "unemployment"
   ]
  },
  {
   "cell_type": "code",
   "execution_count": 19,
   "metadata": {},
   "outputs": [
    {
     "data": {
      "text/html": [
       "<div>\n",
       "<style scoped>\n",
       "    .dataframe tbody tr th:only-of-type {\n",
       "        vertical-align: middle;\n",
       "    }\n",
       "\n",
       "    .dataframe tbody tr th {\n",
       "        vertical-align: top;\n",
       "    }\n",
       "\n",
       "    .dataframe thead th {\n",
       "        text-align: right;\n",
       "    }\n",
       "</style>\n",
       "<table border=\"1\" class=\"dataframe\">\n",
       "  <thead>\n",
       "    <tr style=\"text-align: right;\">\n",
       "      <th></th>\n",
       "      <th>year</th>\n",
       "      <th>rate</th>\n",
       "      <th>missing</th>\n",
       "      <th>f_fill</th>\n",
       "    </tr>\n",
       "  </thead>\n",
       "  <tbody>\n",
       "    <tr>\n",
       "      <th>0</th>\n",
       "      <td>1955</td>\n",
       "      <td>4.383333</td>\n",
       "      <td>4.383333</td>\n",
       "      <td>4.383333</td>\n",
       "    </tr>\n",
       "    <tr>\n",
       "      <th>1</th>\n",
       "      <td>1956</td>\n",
       "      <td>4.141667</td>\n",
       "      <td>4.141667</td>\n",
       "      <td>4.141667</td>\n",
       "    </tr>\n",
       "    <tr>\n",
       "      <th>2</th>\n",
       "      <td>1957</td>\n",
       "      <td>4.258333</td>\n",
       "      <td>4.258333</td>\n",
       "      <td>4.258333</td>\n",
       "    </tr>\n",
       "    <tr>\n",
       "      <th>3</th>\n",
       "      <td>1958</td>\n",
       "      <td>6.800000</td>\n",
       "      <td>6.800000</td>\n",
       "      <td>6.800000</td>\n",
       "    </tr>\n",
       "    <tr>\n",
       "      <th>4</th>\n",
       "      <td>1959</td>\n",
       "      <td>5.475000</td>\n",
       "      <td>5.475000</td>\n",
       "      <td>5.475000</td>\n",
       "    </tr>\n",
       "    <tr>\n",
       "      <th>...</th>\n",
       "      <td>...</td>\n",
       "      <td>...</td>\n",
       "      <td>...</td>\n",
       "      <td>...</td>\n",
       "    </tr>\n",
       "    <tr>\n",
       "      <th>61</th>\n",
       "      <td>2016</td>\n",
       "      <td>4.866667</td>\n",
       "      <td>4.866667</td>\n",
       "      <td>4.866667</td>\n",
       "    </tr>\n",
       "    <tr>\n",
       "      <th>62</th>\n",
       "      <td>2017</td>\n",
       "      <td>4.350000</td>\n",
       "      <td>4.350000</td>\n",
       "      <td>4.350000</td>\n",
       "    </tr>\n",
       "    <tr>\n",
       "      <th>63</th>\n",
       "      <td>2018</td>\n",
       "      <td>3.900000</td>\n",
       "      <td>3.900000</td>\n",
       "      <td>3.900000</td>\n",
       "    </tr>\n",
       "    <tr>\n",
       "      <th>64</th>\n",
       "      <td>2019</td>\n",
       "      <td>3.666667</td>\n",
       "      <td>3.666667</td>\n",
       "      <td>3.666667</td>\n",
       "    </tr>\n",
       "    <tr>\n",
       "      <th>65</th>\n",
       "      <td>2020</td>\n",
       "      <td>8.091666</td>\n",
       "      <td>8.091666</td>\n",
       "      <td>8.091666</td>\n",
       "    </tr>\n",
       "  </tbody>\n",
       "</table>\n",
       "<p>66 rows × 4 columns</p>\n",
       "</div>"
      ],
      "text/plain": [
       "    year      rate   missing    f_fill\n",
       "0   1955  4.383333  4.383333  4.383333\n",
       "1   1956  4.141667  4.141667  4.141667\n",
       "2   1957  4.258333  4.258333  4.258333\n",
       "3   1958  6.800000  6.800000  6.800000\n",
       "4   1959  5.475000  5.475000  5.475000\n",
       "..   ...       ...       ...       ...\n",
       "61  2016  4.866667  4.866667  4.866667\n",
       "62  2017  4.350000  4.350000  4.350000\n",
       "63  2018  3.900000  3.900000  3.900000\n",
       "64  2019  3.666667  3.666667  3.666667\n",
       "65  2020  8.091666  8.091666  8.091666\n",
       "\n",
       "[66 rows x 4 columns]"
      ]
     },
     "execution_count": 19,
     "metadata": {},
     "output_type": "execute_result"
    }
   ],
   "source": [
    "# 1.用forward fill填充\n",
    "unemployment['f_fill'] = unemployment['missing']\n",
    "# ffill为前向填充\n",
    "unemployment['f_fill'].ffill(inplace = True)\n",
    "unemployment"
   ]
  },
  {
   "cell_type": "code",
   "execution_count": 26,
   "metadata": {},
   "outputs": [
    {
     "data": {
      "text/plain": [
       "<matplotlib.legend.Legend at 0x1518fe9b460>"
      ]
     },
     "execution_count": 26,
     "metadata": {},
     "output_type": "execute_result"
    },
    {
     "data": {
      "image/png": "[encoded data removed]",
      "text/plain": [
       "<Figure size 432x288 with 1 Axes>"
      ]
     },
     "metadata": {
      "needs_background": "light"
     },
     "output_type": "display_data"
    }
   ],
   "source": [
    "plt.scatter(unemployment.year,unemployment.rate,s = 10)\n",
    "plt.plot(unemployment.year,unemployment.rate,label='real')\n",
    "plt.scatter(unemployment.year, unemployment.f_fill, s = 10, c = 'r')\n",
    "plt.plot(unemployment.year, unemployment.f_fill, label = 'foward_fill')\n",
    "plt.legend()"
   ]
  },
  {
   "cell_type": "code",
   "execution_count": 27,
   "metadata": {},
   "outputs": [
    {
     "data": {
      "text/plain": [
       "0     False\n",
       "1     False\n",
       "2     False\n",
       "3     False\n",
       "4     False\n",
       "      ...  \n",
       "61    False\n",
       "62    False\n",
       "63    False\n",
       "64    False\n",
       "65    False\n",
       "Name: missing, Length: 66, dtype: bool"
      ]
     },
     "execution_count": 27,
     "metadata": {},
     "output_type": "execute_result"
    }
   ],
   "source": [
    "# 2. Moving average\n",
    "unemployment['missing'].isnull()"
   ]
  },
  {
   "cell_type": "code",
   "execution_count": 28,
   "metadata": {},
   "outputs": [],
   "source": [
    "unemployment['movevg'] = np.where(unemployment['missing'].isnull(), unemployment['missing'].shift(1).rolling(3, min_periods = 1).mean(),\n",
    "                                unemployment['missing'])"
   ]
  },
  {
   "cell_type": "code",
   "execution_count": 29,
   "metadata": {},
   "outputs": [
    {
     "data": {
      "text/html": [
       "<div>\n",
       "<style scoped>\n",
       "    .dataframe tbody tr th:only-of-type {\n",
       "        vertical-align: middle;\n",
       "    }\n",
       "\n",
       "    .dataframe tbody tr th {\n",
       "        vertical-align: top;\n",
       "    }\n",
       "\n",
       "    .dataframe thead th {\n",
       "        text-align: right;\n",
       "    }\n",
       "</style>\n",
       "<table border=\"1\" class=\"dataframe\">\n",
       "  <thead>\n",
       "    <tr style=\"text-align: right;\">\n",
       "      <th></th>\n",
       "      <th>year</th>\n",
       "      <th>rate</th>\n",
       "      <th>missing</th>\n",
       "      <th>f_fill</th>\n",
       "      <th>movevg</th>\n",
       "    </tr>\n",
       "  </thead>\n",
       "  <tbody>\n",
       "    <tr>\n",
       "      <th>0</th>\n",
       "      <td>1955</td>\n",
       "      <td>4.383333</td>\n",
       "      <td>4.383333</td>\n",
       "      <td>4.383333</td>\n",
       "      <td>4.383333</td>\n",
       "    </tr>\n",
       "    <tr>\n",
       "      <th>1</th>\n",
       "      <td>1956</td>\n",
       "      <td>4.141667</td>\n",
       "      <td>4.141667</td>\n",
       "      <td>4.141667</td>\n",
       "      <td>4.141667</td>\n",
       "    </tr>\n",
       "    <tr>\n",
       "      <th>2</th>\n",
       "      <td>1957</td>\n",
       "      <td>4.258333</td>\n",
       "      <td>4.258333</td>\n",
       "      <td>4.258333</td>\n",
       "      <td>4.258333</td>\n",
       "    </tr>\n",
       "    <tr>\n",
       "      <th>3</th>\n",
       "      <td>1958</td>\n",
       "      <td>6.800000</td>\n",
       "      <td>6.800000</td>\n",
       "      <td>6.800000</td>\n",
       "      <td>6.800000</td>\n",
       "    </tr>\n",
       "    <tr>\n",
       "      <th>4</th>\n",
       "      <td>1959</td>\n",
       "      <td>5.475000</td>\n",
       "      <td>5.475000</td>\n",
       "      <td>5.475000</td>\n",
       "      <td>5.475000</td>\n",
       "    </tr>\n",
       "    <tr>\n",
       "      <th>...</th>\n",
       "      <td>...</td>\n",
       "      <td>...</td>\n",
       "      <td>...</td>\n",
       "      <td>...</td>\n",
       "      <td>...</td>\n",
       "    </tr>\n",
       "    <tr>\n",
       "      <th>61</th>\n",
       "      <td>2016</td>\n",
       "      <td>4.866667</td>\n",
       "      <td>4.866667</td>\n",
       "      <td>4.866667</td>\n",
       "      <td>4.866667</td>\n",
       "    </tr>\n",
       "    <tr>\n",
       "      <th>62</th>\n",
       "      <td>2017</td>\n",
       "      <td>4.350000</td>\n",
       "      <td>4.350000</td>\n",
       "      <td>4.350000</td>\n",
       "      <td>4.350000</td>\n",
       "    </tr>\n",
       "    <tr>\n",
       "      <th>63</th>\n",
       "      <td>2018</td>\n",
       "      <td>3.900000</td>\n",
       "      <td>3.900000</td>\n",
       "      <td>3.900000</td>\n",
       "      <td>3.900000</td>\n",
       "    </tr>\n",
       "    <tr>\n",
       "      <th>64</th>\n",
       "      <td>2019</td>\n",
       "      <td>3.666667</td>\n",
       "      <td>3.666667</td>\n",
       "      <td>3.666667</td>\n",
       "      <td>3.666667</td>\n",
       "    </tr>\n",
       "    <tr>\n",
       "      <th>65</th>\n",
       "      <td>2020</td>\n",
       "      <td>8.091666</td>\n",
       "      <td>8.091666</td>\n",
       "      <td>8.091666</td>\n",
       "      <td>8.091666</td>\n",
       "    </tr>\n",
       "  </tbody>\n",
       "</table>\n",
       "<p>66 rows × 5 columns</p>\n",
       "</div>"
      ],
      "text/plain": [
       "    year      rate   missing    f_fill    movevg\n",
       "0   1955  4.383333  4.383333  4.383333  4.383333\n",
       "1   1956  4.141667  4.141667  4.141667  4.141667\n",
       "2   1957  4.258333  4.258333  4.258333  4.258333\n",
       "3   1958  6.800000  6.800000  6.800000  6.800000\n",
       "4   1959  5.475000  5.475000  5.475000  5.475000\n",
       "..   ...       ...       ...       ...       ...\n",
       "61  2016  4.866667  4.866667  4.866667  4.866667\n",
       "62  2017  4.350000  4.350000  4.350000  4.350000\n",
       "63  2018  3.900000  3.900000  3.900000  3.900000\n",
       "64  2019  3.666667  3.666667  3.666667  3.666667\n",
       "65  2020  8.091666  8.091666  8.091666  8.091666\n",
       "\n",
       "[66 rows x 5 columns]"
      ]
     },
     "execution_count": 29,
     "metadata": {},
     "output_type": "execute_result"
    }
   ],
   "source": [
    "unemployment"
   ]
  },
  {
   "cell_type": "code",
   "execution_count": 41,
   "metadata": {},
   "outputs": [
    {
     "data": {
      "text/plain": [
       "<matplotlib.legend.Legend at 0x1518fed2fa0>"
      ]
     },
     "execution_count": 41,
     "metadata": {},
     "output_type": "execute_result"
    },
    {
     "data": {
      "image/png": "[encoded data removed]",
      "text/plain": [
       "<Figure size 432x288 with 1 Axes>"
      ]
     },
     "metadata": {
      "needs_background": "light"
     },
     "output_type": "display_data"
    }
   ],
   "source": [
    "plt.scatter(unemployment.year,unemployment.rate,s = 10)\n",
    "plt.plot(unemployment.year,unemployment.rate,label='real')\n",
    "\n",
    "#plt.scatter(unemployment.year, unemployment.f_fill, s = 10, c = 'r')\n",
    "#plt.plot(unemployment.year, unemployment.f_fill, label = 'foward_fill')\n",
    "plt.scatter(unemployment.year, unemployment.movevg, s = 10, c = 'g')\n",
    "plt.plot(unemployment.year, unemployment.movevg, label = 'Moving average', linestyle = '--')\n",
    "plt.legend()"
   ]
  },
  {
   "cell_type": "code",
   "execution_count": 35,
   "metadata": {},
   "outputs": [
    {
     "data": {
      "text/html": [
       "<div>\n",
       "<style scoped>\n",
       "    .dataframe tbody tr th:only-of-type {\n",
       "        vertical-align: middle;\n",
       "    }\n",
       "\n",
       "    .dataframe tbody tr th {\n",
       "        vertical-align: top;\n",
       "    }\n",
       "\n",
       "    .dataframe thead th {\n",
       "        text-align: right;\n",
       "    }\n",
       "</style>\n",
       "<table border=\"1\" class=\"dataframe\">\n",
       "  <thead>\n",
       "    <tr style=\"text-align: right;\">\n",
       "      <th></th>\n",
       "      <th>A</th>\n",
       "      <th>B</th>\n",
       "      <th>C</th>\n",
       "      <th>D</th>\n",
       "    </tr>\n",
       "  </thead>\n",
       "  <tbody>\n",
       "    <tr>\n",
       "      <th>2020-01-01</th>\n",
       "      <td>-0.703380</td>\n",
       "      <td>0.856629</td>\n",
       "      <td>0.354547</td>\n",
       "      <td>1.074601</td>\n",
       "    </tr>\n",
       "    <tr>\n",
       "      <th>2020-01-02</th>\n",
       "      <td>-0.586819</td>\n",
       "      <td>-1.231980</td>\n",
       "      <td>0.917543</td>\n",
       "      <td>1.965277</td>\n",
       "    </tr>\n",
       "    <tr>\n",
       "      <th>2020-01-03</th>\n",
       "      <td>-0.658068</td>\n",
       "      <td>-0.237568</td>\n",
       "      <td>-1.237230</td>\n",
       "      <td>1.088797</td>\n",
       "    </tr>\n",
       "    <tr>\n",
       "      <th>2020-01-04</th>\n",
       "      <td>-0.610575</td>\n",
       "      <td>0.642858</td>\n",
       "      <td>-0.527517</td>\n",
       "      <td>-0.865132</td>\n",
       "    </tr>\n",
       "    <tr>\n",
       "      <th>2020-01-05</th>\n",
       "      <td>-0.028274</td>\n",
       "      <td>-0.476931</td>\n",
       "      <td>0.745583</td>\n",
       "      <td>-1.093605</td>\n",
       "    </tr>\n",
       "    <tr>\n",
       "      <th>2020-01-06</th>\n",
       "      <td>-0.307915</td>\n",
       "      <td>0.961099</td>\n",
       "      <td>-0.617101</td>\n",
       "      <td>-0.987125</td>\n",
       "    </tr>\n",
       "    <tr>\n",
       "      <th>2020-01-07</th>\n",
       "      <td>-0.764673</td>\n",
       "      <td>0.011453</td>\n",
       "      <td>-0.706566</td>\n",
       "      <td>0.223511</td>\n",
       "    </tr>\n",
       "  </tbody>\n",
       "</table>\n",
       "</div>"
      ],
      "text/plain": [
       "                   A         B         C         D\n",
       "2020-01-01 -0.703380  0.856629  0.354547  1.074601\n",
       "2020-01-02 -0.586819 -1.231980  0.917543  1.965277\n",
       "2020-01-03 -0.658068 -0.237568 -1.237230  1.088797\n",
       "2020-01-04 -0.610575  0.642858 -0.527517 -0.865132\n",
       "2020-01-05 -0.028274 -0.476931  0.745583 -1.093605\n",
       "2020-01-06 -0.307915  0.961099 -0.617101 -0.987125\n",
       "2020-01-07 -0.764673  0.011453 -0.706566  0.223511"
      ]
     },
     "execution_count": 35,
     "metadata": {},
     "output_type": "execute_result"
    }
   ],
   "source": [
    "df = pd.DataFrame(np.random.randn(7, 4),\n",
    "                  index = pd.date_range('1/1/2020', periods=7),\n",
    "                  columns = ['A', 'B', 'C', 'D'])\n",
    "df"
   ]
  },
  {
   "cell_type": "code",
   "execution_count": 40,
   "metadata": {},
   "outputs": [
    {
     "data": {
      "text/plain": [
       "2020-01-01         NaN\n",
       "2020-01-02    1.074601\n",
       "2020-01-03    1.965277\n",
       "2020-01-04    1.088797\n",
       "2020-01-05   -0.865132\n",
       "2020-01-06   -1.093605\n",
       "2020-01-07   -0.987125\n",
       "Freq: D, Name: D, dtype: float64"
      ]
     },
     "execution_count": 40,
     "metadata": {},
     "output_type": "execute_result"
    }
   ],
   "source": [
    "df['D'].shift(1)"
   ]
  },
  {
   "cell_type": "code",
   "execution_count": 39,
   "metadata": {},
   "outputs": [
    {
     "data": {
      "text/plain": [
       "2020-01-01         NaN\n",
       "2020-01-02    1.074601\n",
       "2020-01-03    1.519939\n",
       "2020-01-04    1.376225\n",
       "2020-01-05    0.729647\n",
       "2020-01-06   -0.289980\n",
       "2020-01-07   -0.981954\n",
       "Freq: D, Name: D, dtype: float64"
      ]
     },
     "execution_count": 39,
     "metadata": {},
     "output_type": "execute_result"
    }
   ],
   "source": [
    "df['D'].shift(1).rolling(3, min_periods = 1).mean()"
   ]
  },
  {
   "cell_type": "code",
   "execution_count": 37,
   "metadata": {},
   "outputs": [
    {
     "data": {
      "text/html": [
       "<div>\n",
       "<style scoped>\n",
       "    .dataframe tbody tr th:only-of-type {\n",
       "        vertical-align: middle;\n",
       "    }\n",
       "\n",
       "    .dataframe tbody tr th {\n",
       "        vertical-align: top;\n",
       "    }\n",
       "\n",
       "    .dataframe thead th {\n",
       "        text-align: right;\n",
       "    }\n",
       "</style>\n",
       "<table border=\"1\" class=\"dataframe\">\n",
       "  <thead>\n",
       "    <tr style=\"text-align: right;\">\n",
       "      <th></th>\n",
       "      <th>A</th>\n",
       "      <th>B</th>\n",
       "      <th>C</th>\n",
       "      <th>D</th>\n",
       "    </tr>\n",
       "  </thead>\n",
       "  <tbody>\n",
       "    <tr>\n",
       "      <th>2020-01-01</th>\n",
       "      <td>-0.703380</td>\n",
       "      <td>0.856629</td>\n",
       "      <td>0.354547</td>\n",
       "      <td>1.074601</td>\n",
       "    </tr>\n",
       "    <tr>\n",
       "      <th>2020-01-02</th>\n",
       "      <td>-0.586819</td>\n",
       "      <td>-1.231980</td>\n",
       "      <td>0.917543</td>\n",
       "      <td>1.965277</td>\n",
       "    </tr>\n",
       "    <tr>\n",
       "      <th>2020-01-03</th>\n",
       "      <td>-0.658068</td>\n",
       "      <td>-0.237568</td>\n",
       "      <td>-1.237230</td>\n",
       "      <td>1.088797</td>\n",
       "    </tr>\n",
       "    <tr>\n",
       "      <th>2020-01-04</th>\n",
       "      <td>-0.610575</td>\n",
       "      <td>0.642858</td>\n",
       "      <td>-0.527517</td>\n",
       "      <td>-0.865132</td>\n",
       "    </tr>\n",
       "    <tr>\n",
       "      <th>2020-01-05</th>\n",
       "      <td>-0.028274</td>\n",
       "      <td>-0.476931</td>\n",
       "      <td>0.745583</td>\n",
       "      <td>-1.093605</td>\n",
       "    </tr>\n",
       "    <tr>\n",
       "      <th>2020-01-06</th>\n",
       "      <td>-0.307915</td>\n",
       "      <td>0.961099</td>\n",
       "      <td>-0.617101</td>\n",
       "      <td>-0.987125</td>\n",
       "    </tr>\n",
       "    <tr>\n",
       "      <th>2020-01-07</th>\n",
       "      <td>-0.764673</td>\n",
       "      <td>0.011453</td>\n",
       "      <td>-0.706566</td>\n",
       "      <td>0.223511</td>\n",
       "    </tr>\n",
       "  </tbody>\n",
       "</table>\n",
       "</div>"
      ],
      "text/plain": [
       "                   A         B         C         D\n",
       "2020-01-01 -0.703380  0.856629  0.354547  1.074601\n",
       "2020-01-02 -0.586819 -1.231980  0.917543  1.965277\n",
       "2020-01-03 -0.658068 -0.237568 -1.237230  1.088797\n",
       "2020-01-04 -0.610575  0.642858 -0.527517 -0.865132\n",
       "2020-01-05 -0.028274 -0.476931  0.745583 -1.093605\n",
       "2020-01-06 -0.307915  0.961099 -0.617101 -0.987125\n",
       "2020-01-07 -0.764673  0.011453 -0.706566  0.223511"
      ]
     },
     "execution_count": 37,
     "metadata": {},
     "output_type": "execute_result"
    }
   ],
   "source": [
    "df"
   ]
  },
  {
   "cell_type": "code",
   "execution_count": 42,
   "metadata": {},
   "outputs": [],
   "source": [
    "# 3. interpolation\n",
    "# 尝试线性插值和多项式插值\n",
    "unemployment['inter_line'] = unemployment['missing'].interpolate(method = 'linear')\n",
    "unemployment['inter_poly'] = unemployment['missing'].interpolate(method = 'polynomial', order = 3)"
   ]
  },
  {
   "cell_type": "code",
   "execution_count": 43,
   "metadata": {},
   "outputs": [
    {
     "data": {
      "text/html": [
       "<div>\n",
       "<style scoped>\n",
       "    .dataframe tbody tr th:only-of-type {\n",
       "        vertical-align: middle;\n",
       "    }\n",
       "\n",
       "    .dataframe tbody tr th {\n",
       "        vertical-align: top;\n",
       "    }\n",
       "\n",
       "    .dataframe thead th {\n",
       "        text-align: right;\n",
       "    }\n",
       "</style>\n",
       "<table border=\"1\" class=\"dataframe\">\n",
       "  <thead>\n",
       "    <tr style=\"text-align: right;\">\n",
       "      <th></th>\n",
       "      <th>year</th>\n",
       "      <th>rate</th>\n",
       "      <th>missing</th>\n",
       "      <th>f_fill</th>\n",
       "      <th>movevg</th>\n",
       "      <th>inter_line</th>\n",
       "      <th>inter_poly</th>\n",
       "    </tr>\n",
       "  </thead>\n",
       "  <tbody>\n",
       "    <tr>\n",
       "      <th>0</th>\n",
       "      <td>1955</td>\n",
       "      <td>4.383333</td>\n",
       "      <td>4.383333</td>\n",
       "      <td>4.383333</td>\n",
       "      <td>4.383333</td>\n",
       "      <td>4.383333</td>\n",
       "      <td>4.383333</td>\n",
       "    </tr>\n",
       "    <tr>\n",
       "      <th>1</th>\n",
       "      <td>1956</td>\n",
       "      <td>4.141667</td>\n",
       "      <td>4.141667</td>\n",
       "      <td>4.141667</td>\n",
       "      <td>4.141667</td>\n",
       "      <td>4.141667</td>\n",
       "      <td>4.141667</td>\n",
       "    </tr>\n",
       "    <tr>\n",
       "      <th>2</th>\n",
       "      <td>1957</td>\n",
       "      <td>4.258333</td>\n",
       "      <td>4.258333</td>\n",
       "      <td>4.258333</td>\n",
       "      <td>4.258333</td>\n",
       "      <td>4.258333</td>\n",
       "      <td>4.258333</td>\n",
       "    </tr>\n",
       "    <tr>\n",
       "      <th>3</th>\n",
       "      <td>1958</td>\n",
       "      <td>6.800000</td>\n",
       "      <td>6.800000</td>\n",
       "      <td>6.800000</td>\n",
       "      <td>6.800000</td>\n",
       "      <td>6.800000</td>\n",
       "      <td>6.800000</td>\n",
       "    </tr>\n",
       "    <tr>\n",
       "      <th>4</th>\n",
       "      <td>1959</td>\n",
       "      <td>5.475000</td>\n",
       "      <td>5.475000</td>\n",
       "      <td>5.475000</td>\n",
       "      <td>5.475000</td>\n",
       "      <td>5.475000</td>\n",
       "      <td>5.475000</td>\n",
       "    </tr>\n",
       "    <tr>\n",
       "      <th>...</th>\n",
       "      <td>...</td>\n",
       "      <td>...</td>\n",
       "      <td>...</td>\n",
       "      <td>...</td>\n",
       "      <td>...</td>\n",
       "      <td>...</td>\n",
       "      <td>...</td>\n",
       "    </tr>\n",
       "    <tr>\n",
       "      <th>61</th>\n",
       "      <td>2016</td>\n",
       "      <td>4.866667</td>\n",
       "      <td>4.866667</td>\n",
       "      <td>4.866667</td>\n",
       "      <td>4.866667</td>\n",
       "      <td>4.866667</td>\n",
       "      <td>4.866667</td>\n",
       "    </tr>\n",
       "    <tr>\n",
       "      <th>62</th>\n",
       "      <td>2017</td>\n",
       "      <td>4.350000</td>\n",
       "      <td>4.350000</td>\n",
       "      <td>4.350000</td>\n",
       "      <td>4.350000</td>\n",
       "      <td>4.350000</td>\n",
       "      <td>4.350000</td>\n",
       "    </tr>\n",
       "    <tr>\n",
       "      <th>63</th>\n",
       "      <td>2018</td>\n",
       "      <td>3.900000</td>\n",
       "      <td>3.900000</td>\n",
       "      <td>3.900000</td>\n",
       "      <td>3.900000</td>\n",
       "      <td>3.900000</td>\n",
       "      <td>3.900000</td>\n",
       "    </tr>\n",
       "    <tr>\n",
       "      <th>64</th>\n",
       "      <td>2019</td>\n",
       "      <td>3.666667</td>\n",
       "      <td>3.666667</td>\n",
       "      <td>3.666667</td>\n",
       "      <td>3.666667</td>\n",
       "      <td>3.666667</td>\n",
       "      <td>3.666667</td>\n",
       "    </tr>\n",
       "    <tr>\n",
       "      <th>65</th>\n",
       "      <td>2020</td>\n",
       "      <td>8.091666</td>\n",
       "      <td>8.091666</td>\n",
       "      <td>8.091666</td>\n",
       "      <td>8.091666</td>\n",
       "      <td>8.091666</td>\n",
       "      <td>8.091666</td>\n",
       "    </tr>\n",
       "  </tbody>\n",
       "</table>\n",
       "<p>66 rows × 7 columns</p>\n",
       "</div>"
      ],
      "text/plain": [
       "    year      rate   missing    f_fill    movevg  inter_line  inter_poly\n",
       "0   1955  4.383333  4.383333  4.383333  4.383333    4.383333    4.383333\n",
       "1   1956  4.141667  4.141667  4.141667  4.141667    4.141667    4.141667\n",
       "2   1957  4.258333  4.258333  4.258333  4.258333    4.258333    4.258333\n",
       "3   1958  6.800000  6.800000  6.800000  6.800000    6.800000    6.800000\n",
       "4   1959  5.475000  5.475000  5.475000  5.475000    5.475000    5.475000\n",
       "..   ...       ...       ...       ...       ...         ...         ...\n",
       "61  2016  4.866667  4.866667  4.866667  4.866667    4.866667    4.866667\n",
       "62  2017  4.350000  4.350000  4.350000  4.350000    4.350000    4.350000\n",
       "63  2018  3.900000  3.900000  3.900000  3.900000    3.900000    3.900000\n",
       "64  2019  3.666667  3.666667  3.666667  3.666667    3.666667    3.666667\n",
       "65  2020  8.091666  8.091666  8.091666  8.091666    8.091666    8.091666\n",
       "\n",
       "[66 rows x 7 columns]"
      ]
     },
     "execution_count": 43,
     "metadata": {},
     "output_type": "execute_result"
    }
   ],
   "source": [
    "unemployment"
   ]
  },
  {
   "cell_type": "code",
   "execution_count": 45,
   "metadata": {},
   "outputs": [
    {
     "data": {
      "text/plain": [
       "<matplotlib.legend.Legend at 0x15190735730>"
      ]
     },
     "execution_count": 45,
     "metadata": {},
     "output_type": "execute_result"
    },
    {
     "data": {
      "image/png": "[encoded data removed]",
      "text/plain": [
       "<Figure size 432x288 with 1 Axes>"
      ]
     },
     "metadata": {
      "needs_background": "light"
     },
     "output_type": "display_data"
    }
   ],
   "source": [
    "plt.scatter(unemployment.year,unemployment.rate,s = 10)\n",
    "plt.plot(unemployment.year,unemployment.rate,label='real')\n",
    "\n",
    "plt.scatter(unemployment.year, unemployment.inter_line, s = 10, c = 'r')\n",
    "plt.plot(unemployment.year, unemployment.inter_line, label = 'inter_line')\n",
    "\n",
    "#plt.scatter(unemployment.year, unemployment.inter_poly, s = 10, c = 'g')\n",
    "#plt.plot(unemployment.year, unemployment.inter_poly, label = 'inter_poly', linestyle = '--')\n",
    "plt.legend()"
   ]
  },
  {
   "cell_type": "code",
   "execution_count": 46,
   "metadata": {},
   "outputs": [
    {
     "data": {
      "text/plain": [
       "<matplotlib.legend.Legend at 0x151907d2850>"
      ]
     },
     "execution_count": 46,
     "metadata": {},
     "output_type": "execute_result"
    },
    {
     "data": {
      "image/png": "[encoded data removed]",
      "text/plain": [
       "<Figure size 432x288 with 1 Axes>"
      ]
     },
     "metadata": {
      "needs_background": "light"
     },
     "output_type": "display_data"
    }
   ],
   "source": [
    "plt.scatter(unemployment.year,unemployment.rate,s = 10)\n",
    "plt.plot(unemployment.year,unemployment.rate,label='real')\n",
    "plt.scatter(unemployment.year, unemployment.inter_poly, s = 10, c = 'g')\n",
    "plt.plot(unemployment.year, unemployment.inter_poly, label = 'inter_poly', linestyle = '--')\n",
    "plt.legend()"
   ]
  },
  {
   "cell_type": "code",
   "execution_count": 47,
   "metadata": {},
   "outputs": [],
   "source": [
    "# python实现指数平滑\n",
    "air = pd.read_csv('air.csv')"
   ]
  },
  {
   "cell_type": "code",
   "execution_count": 48,
   "metadata": {},
   "outputs": [
    {
     "data": {
      "text/html": [
       "<div>\n",
       "<style scoped>\n",
       "    .dataframe tbody tr th:only-of-type {\n",
       "        vertical-align: middle;\n",
       "    }\n",
       "\n",
       "    .dataframe tbody tr th {\n",
       "        vertical-align: top;\n",
       "    }\n",
       "\n",
       "    .dataframe thead th {\n",
       "        text-align: right;\n",
       "    }\n",
       "</style>\n",
       "<table border=\"1\" class=\"dataframe\">\n",
       "  <thead>\n",
       "    <tr style=\"text-align: right;\">\n",
       "      <th></th>\n",
       "      <th>Date</th>\n",
       "      <th>Passengers</th>\n",
       "    </tr>\n",
       "  </thead>\n",
       "  <tbody>\n",
       "    <tr>\n",
       "      <th>0</th>\n",
       "      <td>1949/1</td>\n",
       "      <td>112</td>\n",
       "    </tr>\n",
       "    <tr>\n",
       "      <th>1</th>\n",
       "      <td>1949/2</td>\n",
       "      <td>118</td>\n",
       "    </tr>\n",
       "    <tr>\n",
       "      <th>2</th>\n",
       "      <td>1949/3</td>\n",
       "      <td>132</td>\n",
       "    </tr>\n",
       "    <tr>\n",
       "      <th>3</th>\n",
       "      <td>1949/4</td>\n",
       "      <td>129</td>\n",
       "    </tr>\n",
       "    <tr>\n",
       "      <th>4</th>\n",
       "      <td>1949/5</td>\n",
       "      <td>121</td>\n",
       "    </tr>\n",
       "  </tbody>\n",
       "</table>\n",
       "</div>"
      ],
      "text/plain": [
       "     Date  Passengers\n",
       "0  1949/1         112\n",
       "1  1949/2         118\n",
       "2  1949/3         132\n",
       "3  1949/4         129\n",
       "4  1949/5         121"
      ]
     },
     "execution_count": 48,
     "metadata": {},
     "output_type": "execute_result"
    }
   ],
   "source": [
    "air.head()"
   ]
  },
  {
   "cell_type": "code",
   "execution_count": 49,
   "metadata": {},
   "outputs": [],
   "source": [
    "# 设置两种平滑系数\n",
    "air['smooth_0.5'] = air.Passengers.ewm(alpha = 0.5).mean()\n",
    "air['smooth_0.9'] = air.Passengers.ewm(alpha = 0.9).mean()"
   ]
  },
  {
   "cell_type": "code",
   "execution_count": 50,
   "metadata": {},
   "outputs": [
    {
     "data": {
      "text/html": [
       "<div>\n",
       "<style scoped>\n",
       "    .dataframe tbody tr th:only-of-type {\n",
       "        vertical-align: middle;\n",
       "    }\n",
       "\n",
       "    .dataframe tbody tr th {\n",
       "        vertical-align: top;\n",
       "    }\n",
       "\n",
       "    .dataframe thead th {\n",
       "        text-align: right;\n",
       "    }\n",
       "</style>\n",
       "<table border=\"1\" class=\"dataframe\">\n",
       "  <thead>\n",
       "    <tr style=\"text-align: right;\">\n",
       "      <th></th>\n",
       "      <th>Date</th>\n",
       "      <th>Passengers</th>\n",
       "      <th>smooth_0.5</th>\n",
       "      <th>smooth_0.9</th>\n",
       "    </tr>\n",
       "  </thead>\n",
       "  <tbody>\n",
       "    <tr>\n",
       "      <th>0</th>\n",
       "      <td>1949/1</td>\n",
       "      <td>112</td>\n",
       "      <td>112.000000</td>\n",
       "      <td>112.000000</td>\n",
       "    </tr>\n",
       "    <tr>\n",
       "      <th>1</th>\n",
       "      <td>1949/2</td>\n",
       "      <td>118</td>\n",
       "      <td>116.000000</td>\n",
       "      <td>117.454545</td>\n",
       "    </tr>\n",
       "    <tr>\n",
       "      <th>2</th>\n",
       "      <td>1949/3</td>\n",
       "      <td>132</td>\n",
       "      <td>125.142857</td>\n",
       "      <td>130.558559</td>\n",
       "    </tr>\n",
       "    <tr>\n",
       "      <th>3</th>\n",
       "      <td>1949/4</td>\n",
       "      <td>129</td>\n",
       "      <td>127.200000</td>\n",
       "      <td>129.155716</td>\n",
       "    </tr>\n",
       "    <tr>\n",
       "      <th>4</th>\n",
       "      <td>1949/5</td>\n",
       "      <td>121</td>\n",
       "      <td>124.000000</td>\n",
       "      <td>121.815498</td>\n",
       "    </tr>\n",
       "    <tr>\n",
       "      <th>5</th>\n",
       "      <td>1949/6</td>\n",
       "      <td>135</td>\n",
       "      <td>129.587302</td>\n",
       "      <td>133.681562</td>\n",
       "    </tr>\n",
       "    <tr>\n",
       "      <th>6</th>\n",
       "      <td>1949/7</td>\n",
       "      <td>148</td>\n",
       "      <td>138.866142</td>\n",
       "      <td>146.568157</td>\n",
       "    </tr>\n",
       "    <tr>\n",
       "      <th>7</th>\n",
       "      <td>1949/8</td>\n",
       "      <td>148</td>\n",
       "      <td>143.450980</td>\n",
       "      <td>147.856816</td>\n",
       "    </tr>\n",
       "    <tr>\n",
       "      <th>8</th>\n",
       "      <td>1949/9</td>\n",
       "      <td>136</td>\n",
       "      <td>139.718200</td>\n",
       "      <td>137.185682</td>\n",
       "    </tr>\n",
       "    <tr>\n",
       "      <th>9</th>\n",
       "      <td>1949/10</td>\n",
       "      <td>119</td>\n",
       "      <td>129.348974</td>\n",
       "      <td>120.818568</td>\n",
       "    </tr>\n",
       "    <tr>\n",
       "      <th>10</th>\n",
       "      <td>1949/11</td>\n",
       "      <td>104</td>\n",
       "      <td>116.668295</td>\n",
       "      <td>105.681857</td>\n",
       "    </tr>\n",
       "  </tbody>\n",
       "</table>\n",
       "</div>"
      ],
      "text/plain": [
       "       Date  Passengers  smooth_0.5  smooth_0.9\n",
       "0    1949/1         112  112.000000  112.000000\n",
       "1    1949/2         118  116.000000  117.454545\n",
       "2    1949/3         132  125.142857  130.558559\n",
       "3    1949/4         129  127.200000  129.155716\n",
       "4    1949/5         121  124.000000  121.815498\n",
       "5    1949/6         135  129.587302  133.681562\n",
       "6    1949/7         148  138.866142  146.568157\n",
       "7    1949/8         148  143.450980  147.856816\n",
       "8    1949/9         136  139.718200  137.185682\n",
       "9   1949/10         119  129.348974  120.818568\n",
       "10  1949/11         104  116.668295  105.681857"
      ]
     },
     "execution_count": 50,
     "metadata": {},
     "output_type": "execute_result"
    }
   ],
   "source": [
    "air"
   ]
  },
  {
   "cell_type": "code",
   "execution_count": 55,
   "metadata": {},
   "outputs": [
    {
     "data": {
      "text/plain": [
       "<matplotlib.legend.Legend at 0x15190a1a040>"
      ]
     },
     "execution_count": 55,
     "metadata": {},
     "output_type": "execute_result"
    },
    {
     "data": {
      "image/png": "[encoded data removed]",
      "text/plain": [
       "<Figure size 432x288 with 1 Axes>"
      ]
     },
     "metadata": {
      "needs_background": "light"
     },
     "output_type": "display_data"
    }
   ],
   "source": [
    "plt.plot(air.Date,air.Passengers,label = 'actual')\n",
    "plt.plot(air.Date,air['smooth_0.5'],label = 'alpha=0.5')\n",
    "plt.plot(air.Date,air['smooth_0.9'],label = 'alpha=0.9')\n",
    "plt.xticks(rotation = 45)\n",
    "plt.legend()"
   ]
  },
  {
   "cell_type": "code",
   "execution_count": null,
   "metadata": {},
   "outputs": [],
   "source": []
  }
 ],
 "metadata": {
  "interpreter": {
   "hash": "330432424e35d2408c1d0bddfb618b2c3d2fa1435abf072766b9837d32a07414"
  },
  "kernelspec": {
   "display_name": "Python 3.8.8 ('base')",
   "language": "python",
   "name": "python3"
  },
  "language_info": {
   "codemirror_mode": {
    "name": "ipython",
    "version": 3
   },
   "file_extension": ".py",
   "mimetype": "text/x-python",
   "name": "python",
   "nbconvert_exporter": "python",
   "pygments_lexer": "ipython3",
   "version": "3.8.8"
  },
  "orig_nbformat": 4
 },
 "nbformat": 4,
 "nbformat_minor": 2
}
