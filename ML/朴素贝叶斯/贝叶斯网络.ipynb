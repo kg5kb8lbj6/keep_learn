{
 "cells": [
  {
   "cell_type": "code",
   "execution_count": 4,
   "metadata": {},
   "outputs": [],
   "source": [
    "from pgmpy.factors.discrete import TabularCPD\n",
    "from pgmpy.models import BayesianNetwork"
   ]
  },
  {
   "cell_type": "code",
   "execution_count": 8,
   "metadata": {},
   "outputs": [],
   "source": [
    "letter_model = BayesianNetwork([('D','G'),\n",
    "                                ('I', 'G'), \n",
    "                                ('G', 'L'),\n",
    "                                ('I', 'S')])"
   ]
  },
  {
   "cell_type": "code",
   "execution_count": 9,
   "metadata": {},
   "outputs": [
    {
     "data": {
      "text/plain": [
       "<pgmpy.models.BayesianNetwork.BayesianNetwork at 0x21b90fe5c70>"
      ]
     },
     "execution_count": 9,
     "metadata": {},
     "output_type": "execute_result"
    }
   ],
   "source": [
    "letter_model"
   ]
  },
  {
   "cell_type": "code",
   "execution_count": 10,
   "metadata": {},
   "outputs": [],
   "source": [
    "# 学生成绩的条件概率分布\n",
    "gead_cpd = TabularCPD(  variable = 'G', # 成绩节点\n",
    "                        variable_card = 3, # 该节点取值个数\n",
    "                        values = [  [0.3, 0.05, 0.9, 0.5], \n",
    "                                    [0.4, 0.25, 0.08, 0.3],\n",
    "                                    [0.3, 0.7, 0.02, 0.2]], # 该节点的概率表\n",
    "                        evidence = ['I', 'D'], # 该节点的依赖节点、\n",
    "                        evidence_card = [2, 2] # 依赖该节点的取值个数\n",
    "                    )"
   ]
  },
  {
   "cell_type": "code",
   "execution_count": 11,
   "metadata": {},
   "outputs": [
    {
     "data": {
      "text/plain": [
       "<TabularCPD representing P(G:3 | I:2, D:2) at 0x21b91126ca0>"
      ]
     },
     "execution_count": 11,
     "metadata": {},
     "output_type": "execute_result"
    }
   ],
   "source": [
    "gead_cpd"
   ]
  },
  {
   "cell_type": "code",
   "execution_count": 12,
   "metadata": {},
   "outputs": [
    {
     "data": {
      "text/plain": [
       "<TabularCPD representing P(D:2) at 0x21b91126b50>"
      ]
     },
     "execution_count": 12,
     "metadata": {},
     "output_type": "execute_result"
    }
   ],
   "source": [
    "# 考试难度的条件概率分布\n",
    "difficulty_cpd = TabularCPD(variable = 'D', variable_card = 2, values = [[0.6], [0.4]])\n",
    "difficulty_cpd"
   ]
  },
  {
   "cell_type": "code",
   "execution_count": 13,
   "metadata": {},
   "outputs": [
    {
     "data": {
      "text/plain": [
       "<TabularCPD representing P(I:2) at 0x21b91126e50>"
      ]
     },
     "execution_count": 13,
     "metadata": {},
     "output_type": "execute_result"
    }
   ],
   "source": [
    "# 个人天赋的条件概率分布\n",
    "intel_cpd = TabularCPD(variable = 'I', variable_card = 2, values = [[0.7], [0.3]])\n",
    "intel_cpd"
   ]
  },
  {
   "cell_type": "code",
   "execution_count": 15,
   "metadata": {},
   "outputs": [
    {
     "data": {
      "text/plain": [
       "<TabularCPD representing P(L:2 | G:3) at 0x21b91126b20>"
      ]
     },
     "execution_count": 15,
     "metadata": {},
     "output_type": "execute_result"
    }
   ],
   "source": [
    "# 推荐信质量的条件概率分布\n",
    "letter_cpd = TabularCPD(variable = 'L', variable_card = 2, values = [[0.1, 0.4, 0.99], [0.9, 0.6, 0.01]],\n",
    "                        evidence = ['G'], evidence_card = [3])\n",
    "letter_cpd"
   ]
  },
  {
   "cell_type": "code",
   "execution_count": 16,
   "metadata": {},
   "outputs": [
    {
     "data": {
      "text/plain": [
       "<TabularCPD representing P(S:2 | I:2) at 0x21b9116d6d0>"
      ]
     },
     "execution_count": 16,
     "metadata": {},
     "output_type": "execute_result"
    }
   ],
   "source": [
    "# SAT考试分数的条件概率分布\n",
    "sat_cpd = TabularCPD(variable = 'S', variable_card = 2, values = [[0.95, 0.2], [0.05, 0.8]], evidence = ['I'], \n",
    "                        evidence_card = [2])\n",
    "sat_cpd"
   ]
  },
  {
   "cell_type": "code",
   "execution_count": 17,
   "metadata": {},
   "outputs": [],
   "source": [
    "# 将各个节点添加到模型中，构建贝叶斯网络\n",
    "letter_model.add_cpds(gead_cpd, difficulty_cpd, intel_cpd, letter_cpd, sat_cpd)"
   ]
  },
  {
   "cell_type": "code",
   "execution_count": 18,
   "metadata": {},
   "outputs": [
    {
     "data": {
      "text/plain": [
       "<pgmpy.models.BayesianNetwork.BayesianNetwork at 0x21b90fe5c70>"
      ]
     },
     "execution_count": 18,
     "metadata": {},
     "output_type": "execute_result"
    }
   ],
   "source": [
    "letter_model"
   ]
  },
  {
   "cell_type": "code",
   "execution_count": 19,
   "metadata": {},
   "outputs": [],
   "source": [
    "# 导入pgmpy贝叶斯网络推断模块\n",
    "from pgmpy.inference import VariableElimination"
   ]
  },
  {
   "cell_type": "code",
   "execution_count": 20,
   "metadata": {},
   "outputs": [],
   "source": [
    "letter_infer = VariableElimination(letter_model)"
   ]
  },
  {
   "cell_type": "code",
   "execution_count": 21,
   "metadata": {},
   "outputs": [
    {
     "data": {
      "text/plain": [
       "<pgmpy.inference.ExactInference.VariableElimination at 0x21b91f70e20>"
      ]
     },
     "execution_count": 21,
     "metadata": {},
     "output_type": "execute_result"
    }
   ],
   "source": [
    "letter_infer"
   ]
  },
  {
   "cell_type": "code",
   "execution_count": 22,
   "metadata": {},
   "outputs": [
    {
     "name": "stderr",
     "output_type": "stream",
     "text": [
      "Finding Elimination Order: : : 0it [00:00, ?it/s]\n",
      "0it [00:00, ?it/s]"
     ]
    },
    {
     "name": "stdout",
     "output_type": "stream",
     "text": [
      "+------+----------+\n",
      "| G    |   phi(G) |\n",
      "+======+==========+\n",
      "| G(0) |   0.9000 |\n",
      "+------+----------+\n",
      "| G(1) |   0.0800 |\n",
      "+------+----------+\n",
      "| G(2) |   0.0200 |\n",
      "+------+----------+\n"
     ]
    },
    {
     "name": "stderr",
     "output_type": "stream",
     "text": [
      "\n"
     ]
    }
   ],
   "source": [
    "# 天赋好且考试不难的情况下，推断该学生获得推荐信的质量\n",
    "prod__G = letter_infer.query(variables = ['G'], evidence = {'I' : 1, 'D' : 0})\n",
    "print(prod__G)"
   ]
  },
  {
   "cell_type": "code",
   "execution_count": null,
   "metadata": {},
   "outputs": [],
   "source": []
  }
 ],
 "metadata": {
  "interpreter": {
   "hash": "330432424e35d2408c1d0bddfb618b2c3d2fa1435abf072766b9837d32a07414"
  },
  "kernelspec": {
   "display_name": "Python 3.8.8 ('base')",
   "language": "python",
   "name": "python3"
  },
  "language_info": {
   "codemirror_mode": {
    "name": "ipython",
    "version": 3
   },
   "file_extension": ".py",
   "mimetype": "text/x-python",
   "name": "python",
   "nbconvert_exporter": "python",
   "pygments_lexer": "ipython3",
   "version": "3.8.8"
  },
  "orig_nbformat": 4
 },
 "nbformat": 4,
 "nbformat_minor": 2
}
