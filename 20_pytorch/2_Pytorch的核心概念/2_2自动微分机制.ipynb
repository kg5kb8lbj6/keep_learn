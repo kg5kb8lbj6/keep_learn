{
 "cells": [
  {
   "cell_type": "markdown",
   "id": "ceb653f6-9a13-46c9-8855-c576d64e1563",
   "metadata": {},
   "source": [
    "### 1. 利用backward方法求导数"
   ]
  },
  {
   "cell_type": "markdown",
   "id": "e4c3f453-ee34-4b33-b92c-eb817ad7ed4e",
   "metadata": {},
   "source": [
    "#### 1.1 标量的反向传播"
   ]
  },
  {
   "cell_type": "code",
   "execution_count": 1,
   "id": "0454894c-75af-4fb4-a87c-334eae6e0a22",
   "metadata": {},
   "outputs": [],
   "source": [
    "import numpy as np\n",
    "import torch"
   ]
  },
  {
   "cell_type": "code",
   "execution_count": 9,
   "id": "23ee62c6-7d46-4e9a-b72e-be19a944dee7",
   "metadata": {},
   "outputs": [
    {
     "name": "stdout",
     "output_type": "stream",
     "text": [
      "backward方法通常在一个标量上调用,该方法求得的梯度将存在对应自变量张量的grad属性下\n",
      "\n",
      "\n",
      "x的维度为: 0\n",
      "函数y的值为: tensor(1., grad_fn=<AddBackward0>)\n",
      "导数dy_dx的值为: tensor(-2.)\n"
     ]
    }
   ],
   "source": [
    "# f(x) = a * x**2 + b * x + c\n",
    "print('backward方法通常在一个标量上调用,该方法求得的梯度将存在对应自变量张量的grad属性下')\n",
    "print('\\n')\n",
    "x = torch.tensor(0.0, requires_grad = True) # x为0维\n",
    "print('x的维度为:', x.dim())\n",
    "a = torch.tensor(1.0)\n",
    "b = torch.tensor(-2.0)\n",
    "c = torch.tensor(1.0)\n",
    "\n",
    "y = a * torch.pow(x, 2) + b * x + c\n",
    "print('函数y的值为:', y)\n",
    "y.backward()\n",
    "dy_dx = x.grad\n",
    "print('导数dy_dx的值为:', dy_dx)"
   ]
  },
  {
   "cell_type": "markdown",
   "id": "90d972db-afd8-46e4-9a4d-6990876e00ed",
   "metadata": {},
   "source": [
    "#### 1.2 非标量的反向传播"
   ]
  },
  {
   "cell_type": "code",
   "execution_count": 10,
   "id": "b900cce4-26cf-4fd2-a693-2178eac0f31b",
   "metadata": {},
   "outputs": [],
   "source": [
    "import numpy as np\n",
    "import torch"
   ]
  },
  {
   "cell_type": "code",
   "execution_count": 20,
   "id": "07b42d7f-5e78-41c9-a51f-d6ae4274d8de",
   "metadata": {},
   "outputs": [
    {
     "name": "stdout",
     "output_type": "stream",
     "text": [
      "调用的是非标量，就需要传入一个和它同形状的gradient参数张量\n",
      "\n",
      "x的值为: tensor([[0., 0.],\n",
      "        [1., 2.]], requires_grad=True)\n",
      "x的维度为： 2\n",
      "函数y的值为\"： tensor([[1., 1.],\n",
      "        [0., 1.]], grad_fn=<AddBackward0>)\n",
      "导数为： tensor([[-2., -2.],\n",
      "        [ 0.,  2.]])\n"
     ]
    }
   ],
   "source": [
    "# f(x) = a * x**2 + b * x + c\n",
    "print('调用的是非标量，就需要传入一个和它同形状的gradient参数张量\\n')\n",
    "x = torch.tensor([[0.0, 0.0],[1.0, 2.0]], requires_grad = True)\n",
    "print('x的值为:',x)\n",
    "print('x的维度为：', x.dim())\n",
    "a = torch.tensor(1.0)\n",
    "b = torch.tensor(-2.0)\n",
    "c = torch.tensor(1.0)\n",
    "\n",
    "y = a * torch.pow(x, 2) + b * x + c\n",
    "print('函数y的值为\"：', y)\n",
    "gradient = torch.tensor([[1.0, 1.0], [1.0, 1.0]])\n",
    "y.backward(gradient = gradient)\n",
    "x_grad = x.grad\n",
    "print('导数为：', x_grad)"
   ]
  },
  {
   "cell_type": "markdown",
   "id": "34f13371-c280-47b6-9e9e-911f6766634d",
   "metadata": {},
   "source": [
    "#### 1.3 非标量的反向传播可以用标量的反向传播实现"
   ]
  },
  {
   "cell_type": "code",
   "execution_count": 21,
   "id": "d6b5a88b-667f-4aae-9c03-04b1283d2013",
   "metadata": {},
   "outputs": [],
   "source": [
    "import numpy as np\n",
    "import torch"
   ]
  },
  {
   "cell_type": "code",
   "execution_count": 24,
   "id": "2eb16eb2-e0c8-4e5f-a1c6-0132e7a82bb3",
   "metadata": {},
   "outputs": [
    {
     "name": "stdout",
     "output_type": "stream",
     "text": [
      "非标量的反向传播可以用标量的反向传播实现\n",
      "\n",
      "x的值为: tensor([[0., 0.],\n",
      "        [1., 2.]], requires_grad=True)\n",
      "x的维度为： 2\n",
      "函数y的值为\"： tensor([[1., 1.],\n",
      "        [0., 1.]], grad_fn=<AddBackward0>)\n",
      "z的值为: tensor(3., grad_fn=<SumBackward0>)\n",
      "导数为: tensor([[-2., -2.],\n",
      "        [ 0.,  2.]])\n"
     ]
    }
   ],
   "source": [
    "# f(x) = a * x**2 + b * x + c\n",
    "print('非标量的反向传播可以用标量的反向传播实现\\n')\n",
    "x = torch.tensor([[0.0, 0.0],[1.0, 2.0]], requires_grad = True)\n",
    "print('x的值为:',x)\n",
    "print('x的维度为：', x.dim())\n",
    "a = torch.tensor(1.0)\n",
    "b = torch.tensor(-2.0)\n",
    "c = torch.tensor(1.0)\n",
    "\n",
    "y = a * torch.pow(x, 2) + b * x + c\n",
    "print('函数y的值为\"：', y)\n",
    "gradient = torch.tensor([[1.0, 1.0], [1.0, 1.0]])\n",
    "z = torch.sum(y * gradient)\n",
    "print('z的值为:', z)\n",
    "z.backward()\n",
    "x_grad = x.grad\n",
    "print('导数为:', x_grad)"
   ]
  },
  {
   "cell_type": "markdown",
   "id": "a0c48f44-60d5-4535-af47-dbcf1ae608f3",
   "metadata": {},
   "source": [
    "### 2. 利用autograd.grad方法求导数"
   ]
  },
  {
   "cell_type": "code",
   "execution_count": 25,
   "id": "28a9eac3-38b1-428f-b04f-e76ce76290ff",
   "metadata": {},
   "outputs": [],
   "source": [
    "import numpy as np\n",
    "import torch"
   ]
  },
  {
   "cell_type": "code",
   "execution_count": 34,
   "id": "3ff6f069-786b-4d79-92f3-1aea71990ba5",
   "metadata": {},
   "outputs": [
    {
     "name": "stdout",
     "output_type": "stream",
     "text": [
      "利用autograd.grad自动求导，可以求高阶导数,这个是对单个变量求导\n",
      "\n",
      "\n",
      "x的维度为: 0\n",
      "函数y的值为: tensor(1., grad_fn=<AddBackward0>)\n",
      "一阶导数为: tensor(-2.)\n",
      "二阶导数为： tensor(2.)\n"
     ]
    }
   ],
   "source": [
    "# f(x) = a * x**2 + b * x + c\n",
    "print('利用autograd.grad自动求导，可以求高阶导数,这个是对单个变量求导')\n",
    "print('\\n')\n",
    "x = torch.tensor(0.0, requires_grad = True) # x为0维\n",
    "print('x的维度为:', x.dim())\n",
    "a = torch.tensor(1.0)\n",
    "b = torch.tensor(-2.0)\n",
    "c = torch.tensor(1.0)\n",
    "\n",
    "y = a * torch.pow(x, 2) + b * x + c\n",
    "print('函数y的值为:', y)\n",
    "\n",
    "# create_graph = True 将允许创建更高阶的导数\n",
    "\n",
    "dy_dx = torch.autograd.grad(y, x, create_graph = True)[0]\n",
    "print('一阶导数为:', dy_dx.data)\n",
    "\n",
    "# 求二阶导数\n",
    "dy2_dx2 = torch.autograd.grad(dy_dx, x)[0]\n",
    "print('二阶导数为：', dy2_dx2.data)"
   ]
  },
  {
   "cell_type": "code",
   "execution_count": 35,
   "id": "aa127e5b-f793-4dee-9144-27809689c2e0",
   "metadata": {},
   "outputs": [],
   "source": [
    "import numpy as np\n",
    "import torch"
   ]
  },
  {
   "cell_type": "code",
   "execution_count": 43,
   "id": "e77d74c3-d919-4b41-9829-ca57aa8b781f",
   "metadata": {},
   "outputs": [
    {
     "name": "stdout",
     "output_type": "stream",
     "text": [
      "接下来就是对多个变量求导\n",
      "\n",
      "\n",
      "x1的值为: tensor(1., requires_grad=True)\n",
      "x2的值为: tensor(2., requires_grad=True)\n",
      "y1的值为: tensor(2., grad_fn=<MulBackward0>)\n",
      "y2的值为: tensor(3., grad_fn=<AddBackward0>)\n",
      "\n",
      "\n",
      "求y1对x1和x2的分别求导结果\n",
      "y1对x1的求导的值为: tensor(2.)\n",
      "y1对x2的求导的值为: tensor(1.)\n",
      "\n",
      "\n",
      "求y2对x1和x2的分别求导结果\n",
      "y2对x1的求导的值为: tensor(1.)\n",
      "y2对x2的求导的值为: tensor(1.)\n",
      "\n",
      "\n",
      "如果有多个因变量，相当于把这多个因变量的梯度求和\n",
      "dy12_dx1: tensor(3.)\n",
      "dy12_dx2: tensor(2.)\n"
     ]
    }
   ],
   "source": [
    "print('接下来就是对多个变量求导')\n",
    "print('\\n')\n",
    "\n",
    "x1 = torch.tensor(1.0, requires_grad = True)\n",
    "x2 = torch.tensor(2.0, requires_grad = True)\n",
    "print('x1的值为:', x1);print('x2的值为:', x2)\n",
    "\n",
    "y1 = x1 * x2\n",
    "y2 = x1 + x2\n",
    "print('y1的值为:', y1);print('y2的值为:', y2)\n",
    "\n",
    "# 接下来就是对多个变量求导数\n",
    "print('\\n')\n",
    "print('求y1对x1和x2的分别求导结果')\n",
    "(dy1_dx1, dy1_dx2) = torch.autograd.grad(outputs = y1, inputs = [x1, x2], retain_graph = True)\n",
    "print('y1对x1的求导的值为:', dy1_dx1);print('y1对x2的求导的值为:', dy1_dx2)\n",
    "\n",
    "print('\\n')\n",
    "print('求y2对x1和x2的分别求导结果')\n",
    "(dy2_dx1, dy2_dx2) = torch.autograd.grad(outputs = y2, inputs = [x1, x2], retain_graph = True)\n",
    "print('y2对x1的求导的值为:', dy2_dx1);print('y2对x2的求导的值为:', dy2_dx2)\n",
    "\n",
    "print('\\n')\n",
    "print('如果有多个因变量，相当于把这多个因变量的梯度求和')\n",
    "(dy12_dx1, dy12_dx2) = torch.autograd.grad(outputs = [y1, y2], inputs = [x1, x2])\n",
    "print('dy12_dx1:', dy12_dx1)\n",
    "print('dy12_dx2:', dy12_dx2)"
   ]
  },
  {
   "cell_type": "markdown",
   "id": "eb4f5d78-c25c-4da6-9ee0-dd4f34211499",
   "metadata": {},
   "source": [
    "### 3. 利用自动微分和优化器求最小值"
   ]
  },
  {
   "cell_type": "code",
   "execution_count": 44,
   "id": "3e0cf965-31a2-4660-bb23-ac9ee2c17a05",
   "metadata": {},
   "outputs": [],
   "source": [
    "import numpy as np\n",
    "import torch"
   ]
  },
  {
   "cell_type": "code",
   "execution_count": 47,
   "id": "6cde6e4d-48a4-4a0a-883f-1e64e72f1ebd",
   "metadata": {},
   "outputs": [
    {
     "name": "stdout",
     "output_type": "stream",
     "text": [
      "optimizer： SGD (\n",
      "Parameter Group 0\n",
      "    dampening: 0\n",
      "    lr: 0.01\n",
      "    momentum: 0\n",
      "    nesterov: False\n",
      "    weight_decay: 0\n",
      ")\n",
      "y =  tensor(0., grad_fn=<AddBackward0>) ; x =  tensor(1.0000)\n"
     ]
    }
   ],
   "source": [
    "# f(x) = a * x**2 + b * x + c\n",
    "x = torch.tensor(0.0, requires_grad = True) # x为0维\n",
    "a = torch.tensor(1.0)\n",
    "b = torch.tensor(-2.0)\n",
    "c = torch.tensor(1.0)\n",
    "\n",
    "optimizer = torch.optim.SGD(params = [x], lr = 0.01)\n",
    "print('optimizer：', optimizer)\n",
    "\n",
    "def f(x):\n",
    "    result = a * torch.pow(x, 2) + b * x + c\n",
    "    return result\n",
    "\n",
    "for i in range(500):\n",
    "    optimizer.zero_grad() # 调用backward()函数之前都要将梯度清零，因为如果梯度不清零，pytorch中会将上次计算的梯度和本次计算的梯度累加\n",
    "    y = f(x)\n",
    "    y.backward()\n",
    "    optimizer.step() #optimizer.step()是优化器对x的值进行更新，以随机梯度下降SGD为例：学习率(learning rate, lr)来控制步幅，即：x = x - lr * x.grad \n",
    "print('y = ', f(x), \";\", 'x = ', x.data)"
   ]
  },
  {
   "cell_type": "code",
   "execution_count": null,
   "id": "3f02ec97-fa90-46ef-aade-2004c1e0258d",
   "metadata": {},
   "outputs": [],
   "source": []
  }
 ],
 "metadata": {
  "kernelspec": {
   "display_name": "Python 3 (ipykernel)",
   "language": "python",
   "name": "python3"
  },
  "language_info": {
   "codemirror_mode": {
    "name": "ipython",
    "version": 3
   },
   "file_extension": ".py",
   "mimetype": "text/x-python",
   "name": "python",
   "nbconvert_exporter": "python",
   "pygments_lexer": "ipython3",
   "version": "3.8.8"
  }
 },
 "nbformat": 4,
 "nbformat_minor": 5
}
