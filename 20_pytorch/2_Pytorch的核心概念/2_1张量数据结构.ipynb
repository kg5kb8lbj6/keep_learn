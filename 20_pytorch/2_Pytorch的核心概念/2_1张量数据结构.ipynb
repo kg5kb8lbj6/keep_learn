{
 "cells": [
  {
   "cell_type": "markdown",
   "id": "0d3b4256-cc42-4d96-89e9-527b2dcca720",
   "metadata": {},
   "source": [
    "#### 1.张量的数据类型"
   ]
  },
  {
   "cell_type": "code",
   "execution_count": 1,
   "id": "3fc9884c-d5e8-4810-ba10-ca2882887e77",
   "metadata": {},
   "outputs": [],
   "source": [
    "import numpy as np\n",
    "import torch"
   ]
  },
  {
   "cell_type": "code",
   "execution_count": 2,
   "id": "037c4528-c6b0-493f-9c9f-596d6cac5171",
   "metadata": {},
   "outputs": [
    {
     "name": "stdout",
     "output_type": "stream",
     "text": [
      "tensor(1) torch.int64\n"
     ]
    }
   ],
   "source": [
    "i = torch.tensor(1) # 默认为int64\n",
    "print(i, i.dtype)"
   ]
  },
  {
   "cell_type": "code",
   "execution_count": 4,
   "id": "8d4e0d15-b2f7-4263-ab7b-1de3b96d74e9",
   "metadata": {},
   "outputs": [
    {
     "name": "stdout",
     "output_type": "stream",
     "text": [
      "tensor(2.) torch.float32\n"
     ]
    }
   ],
   "source": [
    "x = torch.tensor(2.0) # 默认为float32\n",
    "print(x, x.dtype)"
   ]
  },
  {
   "cell_type": "code",
   "execution_count": 5,
   "id": "5e99a05f-3885-4273-80cb-1fbd2171ec5d",
   "metadata": {},
   "outputs": [
    {
     "name": "stdout",
     "output_type": "stream",
     "text": [
      "tensor(True) torch.bool\n"
     ]
    }
   ],
   "source": [
    "b = torch.tensor(True)\n",
    "print(b, b.dtype)"
   ]
  },
  {
   "cell_type": "code",
   "execution_count": 6,
   "id": "0733b764-c932-4526-8ee2-22e50f383bdd",
   "metadata": {},
   "outputs": [
    {
     "name": "stdout",
     "output_type": "stream",
     "text": [
      "tensor(1, dtype=torch.int32) torch.int32\n"
     ]
    }
   ],
   "source": [
    "i = torch.tensor(1, dtype = torch.int32) # 指定数据类型\n",
    "print(i, i.dtype)"
   ]
  },
  {
   "cell_type": "code",
   "execution_count": 8,
   "id": "00959016-cf0f-47d0-a4c4-38d2521b7e34",
   "metadata": {},
   "outputs": [
    {
     "name": "stdout",
     "output_type": "stream",
     "text": [
      "tensor(2., dtype=torch.float64) torch.float64\n"
     ]
    }
   ],
   "source": [
    "b = torch.tensor(2.0, dtype = torch.double)\n",
    "print(b, b.dtype)"
   ]
  },
  {
   "cell_type": "code",
   "execution_count": 16,
   "id": "4515564a-56d5-4fe3-a626-c512840f1157",
   "metadata": {},
   "outputs": [
    {
     "name": "stdout",
     "output_type": "stream",
     "text": [
      "tensor([0, 0, 0, 0, 0], dtype=torch.int32) torch.int32\n"
     ]
    }
   ],
   "source": [
    "# 使用指定类型构造函数\n",
    "# 但是随机构造的却是int32\n",
    "i = torch.IntTensor(5)\n",
    "print(i, i.dtype)"
   ]
  },
  {
   "cell_type": "code",
   "execution_count": 17,
   "id": "7acf6336-263c-4eca-85d0-59c6c1116a04",
   "metadata": {},
   "outputs": [
    {
     "name": "stdout",
     "output_type": "stream",
     "text": [
      "tensor(2., dtype=torch.float64) torch.float64\n"
     ]
    }
   ],
   "source": [
    "x = torch.tensor(np.array(2.0))\n",
    "print(x, x.dtype)"
   ]
  },
  {
   "cell_type": "code",
   "execution_count": 18,
   "id": "59e3ff95-259a-431d-8310-7d2b11b6997f",
   "metadata": {},
   "outputs": [
    {
     "data": {
      "text/plain": [
       "array([1, 0, 2, 0])"
      ]
     },
     "execution_count": 18,
     "metadata": {},
     "output_type": "execute_result"
    }
   ],
   "source": [
    "np.array([1, 0, 2, 0])"
   ]
  },
  {
   "cell_type": "code",
   "execution_count": 19,
   "id": "0a02f897-5cdc-4e99-bdb9-fe272caba506",
   "metadata": {},
   "outputs": [
    {
     "name": "stdout",
     "output_type": "stream",
     "text": [
      "tensor([ True, False,  True, False]) <built-in method type of Tensor object at 0x000001CA65C045E0>\n"
     ]
    }
   ],
   "source": [
    "b = torch.BoolTensor(np.array([1, 0, 2, 0]))\n",
    "print(b, b.type)"
   ]
  },
  {
   "cell_type": "code",
   "execution_count": 22,
   "id": "90ad5c92-8498-4c50-a9ca-461caa22a827",
   "metadata": {},
   "outputs": [
    {
     "name": "stdout",
     "output_type": "stream",
     "text": [
      "tensor(1) torch.int64\n"
     ]
    }
   ],
   "source": [
    "# 不同类型进行转换\n",
    "i = torch.tensor(1)\n",
    "print(i, i.dtype)"
   ]
  },
  {
   "cell_type": "code",
   "execution_count": 23,
   "id": "cf1744d3-c0cf-4aa4-b5bb-bc51ca51f51b",
   "metadata": {},
   "outputs": [
    {
     "name": "stdout",
     "output_type": "stream",
     "text": [
      "tensor(1.) torch.float32\n",
      "tensor(1.) torch.float32\n",
      "tensor(1.) torch.float32\n"
     ]
    }
   ],
   "source": [
    "x = i.float(); print(x, x.dtype)\n",
    "\n",
    "y = i.type(torch.float); print(y, y.dtype)\n",
    "\n",
    "z = i.type_as(x); print(z, z.dtype)"
   ]
  },
  {
   "cell_type": "markdown",
   "id": "8cada3d7-674e-4b50-9a64-93a378364231",
   "metadata": {},
   "source": [
    "#### 2. 张量的维度"
   ]
  },
  {
   "cell_type": "code",
   "execution_count": 24,
   "id": "b3d0623b-74fb-4af5-b790-2face706b51b",
   "metadata": {},
   "outputs": [],
   "source": [
    "import numpy as np\n",
    "import torch"
   ]
  },
  {
   "cell_type": "markdown",
   "id": "54e013cf-a30b-4f18-854a-204b00cdfb97",
   "metadata": {},
   "source": [
    "#### 标量是0维，向量是1维，矩阵是2维，有几层中括号，就是多少维张量"
   ]
  },
  {
   "cell_type": "code",
   "execution_count": 25,
   "id": "ff7271c5-7fd6-4c53-9b5b-026c5ac732d1",
   "metadata": {},
   "outputs": [
    {
     "data": {
      "text/plain": [
       "tensor(True)"
      ]
     },
     "execution_count": 25,
     "metadata": {},
     "output_type": "execute_result"
    }
   ],
   "source": [
    "scalar = torch.tensor(True)\n",
    "scalar"
   ]
  },
  {
   "cell_type": "code",
   "execution_count": 26,
   "id": "b9f37eb4-7176-4939-949c-7a5502965ba5",
   "metadata": {},
   "outputs": [
    {
     "data": {
      "text/plain": [
       "0"
      ]
     },
     "execution_count": 26,
     "metadata": {},
     "output_type": "execute_result"
    }
   ],
   "source": [
    "scalar.dim()"
   ]
  },
  {
   "cell_type": "code",
   "execution_count": 27,
   "id": "3911162c-3307-45ab-9778-eab26a6082d6",
   "metadata": {},
   "outputs": [
    {
     "name": "stdout",
     "output_type": "stream",
     "text": [
      "tensor([2., 3., 1.]) 1\n"
     ]
    }
   ],
   "source": [
    "v = torch.tensor([2.0, 3.0, 1.0])\n",
    "print(v, v.dim())"
   ]
  },
  {
   "cell_type": "code",
   "execution_count": 28,
   "id": "579adb79-ea99-4791-860b-1da205ef69bc",
   "metadata": {},
   "outputs": [
    {
     "name": "stdout",
     "output_type": "stream",
     "text": [
      "tensor([[1, 2],\n",
      "        [3, 4]]) 2\n"
     ]
    }
   ],
   "source": [
    "m = torch.tensor([[1, 2], [3, 4]])\n",
    "print(m, m.dim())"
   ]
  },
  {
   "cell_type": "code",
   "execution_count": 31,
   "id": "8137fb3c-2767-41d4-8d1a-497bf06567a0",
   "metadata": {},
   "outputs": [
    {
     "name": "stdout",
     "output_type": "stream",
     "text": [
      "tensor([[[1, 2],\n",
      "         [3, 4]],\n",
      "\n",
      "        [[5, 6],\n",
      "         [7, 8]]]) 3\n"
     ]
    }
   ],
   "source": [
    "t3 = torch.tensor([[[1, 2], [3, 4]], [[5, 6], [7, 8]]])\n",
    "print(t3, t3.dim())"
   ]
  },
  {
   "cell_type": "code",
   "execution_count": 30,
   "id": "1fdb9866-5eab-46f0-8649-ad1a01b0f01a",
   "metadata": {},
   "outputs": [
    {
     "name": "stdout",
     "output_type": "stream",
     "text": [
      "tensor([[[[1, 2],\n",
      "          [3, 4],\n",
      "          [5, 6]]]]) 4\n"
     ]
    }
   ],
   "source": [
    "t4 = torch.tensor([[[[1, 2], [3, 4], [5, 6]]]])\n",
    "print(t4, t4.dim())"
   ]
  },
  {
   "cell_type": "markdown",
   "id": "50980acc-56ea-4b79-925f-0b9ddeafc802",
   "metadata": {},
   "source": [
    "#### 3. 张量的尺度"
   ]
  },
  {
   "cell_type": "code",
   "execution_count": 1,
   "id": "315ba262-b12a-4630-8403-f37a93e8b331",
   "metadata": {},
   "outputs": [],
   "source": [
    "import numpy as np\n",
    "import torch"
   ]
  },
  {
   "cell_type": "code",
   "execution_count": 3,
   "id": "73604ac7-26a7-41e3-b62b-7c239e1cee2d",
   "metadata": {},
   "outputs": [
    {
     "name": "stdout",
     "output_type": "stream",
     "text": [
      "tensor(True) torch.Size([])\n"
     ]
    }
   ],
   "source": [
    "s = torch.tensor(True)\n",
    "print(s,s.size())"
   ]
  },
  {
   "cell_type": "code",
   "execution_count": 4,
   "id": "0827ab65-7ae3-46da-878d-854c7bb19011",
   "metadata": {},
   "outputs": [
    {
     "name": "stdout",
     "output_type": "stream",
     "text": [
      "tensor([1, 2, 3, 4]) torch.Size([4]) torch.Size([4])\n"
     ]
    }
   ],
   "source": [
    "v = torch.tensor([1, 2, 3, 4])\n",
    "print(v, v.shape, v.size())"
   ]
  },
  {
   "cell_type": "code",
   "execution_count": 5,
   "id": "c7c1484b-d377-4e11-a612-516bd5b7a254",
   "metadata": {},
   "outputs": [
    {
     "data": {
      "text/plain": [
       "tensor([ 0,  1,  2,  3,  4,  5,  6,  7,  8,  9, 10, 11])"
      ]
     },
     "execution_count": 5,
     "metadata": {},
     "output_type": "execute_result"
    }
   ],
   "source": [
    "# 使用view可以改变尺寸\n",
    "v = torch.tensor(range(12))\n",
    "v"
   ]
  },
  {
   "cell_type": "code",
   "execution_count": 6,
   "id": "b34c8a5a-5359-4abc-bf81-5d3f000c3cf2",
   "metadata": {},
   "outputs": [
    {
     "name": "stdout",
     "output_type": "stream",
     "text": [
      "torch.Size([12]) torch.Size([12])\n"
     ]
    }
   ],
   "source": [
    "print(v.size(), v.shape)"
   ]
  },
  {
   "cell_type": "code",
   "execution_count": 7,
   "id": "7ceccca4-541a-488f-bb82-ebb773d356b6",
   "metadata": {},
   "outputs": [
    {
     "name": "stdout",
     "output_type": "stream",
     "text": [
      "tensor([[ 0,  1,  2,  3],\n",
      "        [ 4,  5,  6,  7],\n",
      "        [ 8,  9, 10, 11]]) torch.Size([3, 4])\n"
     ]
    }
   ],
   "source": [
    "matrix34 = v.view(3, 4) # 3行4列\n",
    "print(matrix34, matrix34.size())"
   ]
  },
  {
   "cell_type": "code",
   "execution_count": 8,
   "id": "e4497566-4cbb-404e-9305-a24815729fd6",
   "metadata": {},
   "outputs": [
    {
     "name": "stdout",
     "output_type": "stream",
     "text": [
      "tensor([[ 0,  1,  2],\n",
      "        [ 3,  4,  5],\n",
      "        [ 6,  7,  8],\n",
      "        [ 9, 10, 11]]) torch.Size([4, 3])\n"
     ]
    }
   ],
   "source": [
    "matrix43 = v.view(4, -1) # 4行3列，-1表示该位置长度是由程序自动推断出来的\n",
    "print(matrix43, matrix43.shape)"
   ]
  },
  {
   "cell_type": "code",
   "execution_count": 9,
   "id": "247f39e7-b133-471f-827c-f9f4b5da12df",
   "metadata": {},
   "outputs": [],
   "source": [
    "# 有些操作会让张量存储结构扭曲，直接使用view会失败，可以使用reshape方法"
   ]
  },
  {
   "cell_type": "code",
   "execution_count": 10,
   "id": "6e4aed31-a079-43a2-ac95-6469fb810218",
   "metadata": {},
   "outputs": [
    {
     "data": {
      "text/plain": [
       "tensor([[ 0,  1,  2,  3,  4,  5],\n",
       "        [ 6,  7,  8,  9, 10, 11]])"
      ]
     },
     "execution_count": 10,
     "metadata": {},
     "output_type": "execute_result"
    }
   ],
   "source": [
    "matrix26 = torch.arange(0, 12).view(2, -1)\n",
    "matrix26"
   ]
  },
  {
   "cell_type": "code",
   "execution_count": 11,
   "id": "4579d7f5-8ad1-4af9-b2cd-5ca9769c1dd4",
   "metadata": {},
   "outputs": [
    {
     "data": {
      "text/plain": [
       "tensor([[ 0,  6],\n",
       "        [ 1,  7],\n",
       "        [ 2,  8],\n",
       "        [ 3,  9],\n",
       "        [ 4, 10],\n",
       "        [ 5, 11]])"
      ]
     },
     "execution_count": 11,
     "metadata": {},
     "output_type": "execute_result"
    }
   ],
   "source": [
    "# 转置操作会让张量存储结构扭曲\n",
    "matrix62 = matrix26.t()\n",
    "matrix62"
   ]
  },
  {
   "cell_type": "code",
   "execution_count": 12,
   "id": "d6fbaa87-20c4-401d-9c47-d6df941d67e4",
   "metadata": {},
   "outputs": [
    {
     "data": {
      "text/plain": [
       "False"
      ]
     },
     "execution_count": 12,
     "metadata": {},
     "output_type": "execute_result"
    }
   ],
   "source": [
    "matrix62.is_contiguous() # 判断tensor是否连续"
   ]
  },
  {
   "cell_type": "code",
   "execution_count": 15,
   "id": "6c0a85cd-dc55-40d9-98b9-7124c8e08737",
   "metadata": {},
   "outputs": [
    {
     "data": {
      "text/plain": [
       "tensor([[ 0,  6,  1,  7],\n",
       "        [ 2,  8,  3,  9],\n",
       "        [ 4, 10,  5, 11]])"
      ]
     },
     "execution_count": 15,
     "metadata": {},
     "output_type": "execute_result"
    }
   ],
   "source": [
    "#matrix34 = matrix62.view(3, 4) 不能用，会出错\n",
    "matrix34 = matrix62.reshape(3, -1)\n",
    "matrix34"
   ]
  },
  {
   "cell_type": "markdown",
   "id": "462c99e1-088f-40a9-8271-01253243153e",
   "metadata": {},
   "source": [
    "#### 4. 张量和Numpy数组"
   ]
  },
  {
   "cell_type": "code",
   "execution_count": 16,
   "id": "cac79b08-d420-40c6-896f-36ca59316bf6",
   "metadata": {},
   "outputs": [],
   "source": [
    "import numpy as np\n",
    "import torch"
   ]
  },
  {
   "cell_type": "code",
   "execution_count": 22,
   "id": "fb6f50e5-5110-4c14-bfd2-15e050d202bd",
   "metadata": {},
   "outputs": [
    {
     "name": "stdout",
     "output_type": "stream",
     "text": [
      "先建立numpy，然后将numpy类型转变为tensor\n",
      "[0. 0. 0.]\n",
      "tensor([0., 0., 0.], dtype=torch.float64)\n"
     ]
    }
   ],
   "source": [
    "# 先建立numpy，然后使用from_numpy建立tensor\n",
    "arr = np.zeros(3)\n",
    "tensor = torch.from_numpy(arr)\n",
    "print('先建立numpy，然后将numpy类型转变为tensor')\n",
    "print(arr)\n",
    "print(tensor)"
   ]
  },
  {
   "cell_type": "code",
   "execution_count": 23,
   "id": "8426e7b7-db84-44d3-9bf2-189ae9e9bcfd",
   "metadata": {},
   "outputs": [
    {
     "name": "stdout",
     "output_type": "stream",
     "text": [
      "给arr增加1，观看两者的变化\n",
      "[1. 1. 1.]\n",
      "tensor([1., 1., 1.], dtype=torch.float64)\n"
     ]
    }
   ],
   "source": [
    "print('给arr增加1，观看两者的变化')\n",
    "np.add(arr, 1, out = arr)\n",
    "print(arr)\n",
    "print(tensor) # 可以看到给arr增加1，tensor中的内容也是变化的，说明使用from_numpy，arr和tensor是共享数据内存的"
   ]
  },
  {
   "cell_type": "code",
   "execution_count": 24,
   "id": "ff335246-8a5c-439f-8b13-14158570c44e",
   "metadata": {},
   "outputs": [
    {
     "name": "stdout",
     "output_type": "stream",
     "text": [
      "从建立好的tensor中转变为numpy类型\n",
      "tensor: tensor([0., 0., 0.])\n",
      "numpy: [0. 0. 0.]\n"
     ]
    }
   ],
   "source": [
    "tensor = torch.zeros(3)\n",
    "arr = tensor.numpy()\n",
    "print('从建立好的tensor中转变为numpy类型')\n",
    "print('tensor:', tensor)\n",
    "print('numpy:', arr)"
   ]
  },
  {
   "cell_type": "code",
   "execution_count": 26,
   "id": "c72771f6-ebdc-4a19-897c-38113b390f80",
   "metadata": {},
   "outputs": [
    {
     "name": "stdout",
     "output_type": "stream",
     "text": [
      "给tensor增加1，然后再返回tensor，下划线代表将结果返回原来的变量\n",
      "tensor: tensor([1., 1., 1.])\n",
      "numpy: [1. 1. 1.]\n"
     ]
    }
   ],
   "source": [
    "print('给tensor增加1，然后再返回tensor，下划线代表将结果返回原来的变量')\n",
    "tensor.add_(1)\n",
    "print('tensor:', tensor)\n",
    "print('numpy:', arr) # 使用add_1也是共享数据内存的"
   ]
  },
  {
   "cell_type": "code",
   "execution_count": 28,
   "id": "d4d29d3c-3360-4aba-8048-59db5cb85c39",
   "metadata": {},
   "outputs": [
    {
     "name": "stdout",
     "output_type": "stream",
     "text": [
      "先建立tensor，然后转变为numpy类型\n",
      "tensor: tensor([0., 0., 0.])\n",
      "numpy: [0. 0. 0.]\n"
     ]
    }
   ],
   "source": [
    "# 可以使用clone()方法中段这种联系\n",
    "tensor = torch.zeros(3)\n",
    "arr = tensor.clone().numpy() # 也可以使用     arr = tensor.data.numpy()\n",
    "print('先建立tensor，然后转变为numpy类型')\n",
    "print('tensor:', tensor)\n",
    "print('numpy:', arr)"
   ]
  },
  {
   "cell_type": "code",
   "execution_count": 29,
   "id": "a7e3cacb-afea-44b8-910b-2ae0fe9a360c",
   "metadata": {},
   "outputs": [
    {
     "name": "stdout",
     "output_type": "stream",
     "text": [
      "tensor自身加1，利用clone()或者data可以中断联系\n",
      "tensor: tensor([1., 1., 1.])\n",
      "arr: [0. 0. 0.]\n"
     ]
    }
   ],
   "source": [
    "print('tensor自身加1，利用clone()或者data可以中断联系')\n",
    "tensor.add_(1)\n",
    "print('tensor:', tensor)\n",
    "print('arr:', arr)"
   ]
  },
  {
   "cell_type": "code",
   "execution_count": 33,
   "id": "f6a4498b-7789-461a-9354-a43fce00319a",
   "metadata": {},
   "outputs": [
    {
     "name": "stdout",
     "output_type": "stream",
     "text": [
      "tensor and type:\n",
      " tensor(1.) torch.float32\n",
      "使用item()方法可以将tensor转变为Python的数值:\n",
      "s_item and type: 1.0 <class 'float'>\n"
     ]
    }
   ],
   "source": [
    "s = torch.tensor(1.0)\n",
    "print('tensor and type:\\n', s, s.dtype)\n",
    "#print('\\n')\n",
    "print('使用item()方法可以将tensor转变为Python的数值:')\n",
    "s_item = s.item()\n",
    "print('s_item and type:', s_item, type(s_item))"
   ]
  },
  {
   "cell_type": "code",
   "execution_count": 35,
   "id": "3fadf2bc-1ee4-4dbd-a9e2-468d7537bc9b",
   "metadata": {},
   "outputs": [
    {
     "name": "stdout",
     "output_type": "stream",
     "text": [
      "tensor and type:\n",
      " tensor([[0.8489, 0.6734],\n",
      "        [0.2944, 0.1720]]) <class 'torch.Tensor'>\n",
      "使用tolist()方法可以将tensor转变为Python的数值列表\n",
      "t_list and type:\n",
      " [[0.8489311933517456, 0.6734045743942261], [0.2943814992904663, 0.17199105024337769]] <class 'list'>\n"
     ]
    }
   ],
   "source": [
    "t = torch.rand(2, 2)\n",
    "print('tensor and type:\\n', t, type(t))\n",
    "print('使用tolist()方法可以将tensor转变为Python的数值列表')\n",
    "t_list = t.tolist()\n",
    "print('t_list and type:\\n', t_list, type(t_list))"
   ]
  },
  {
   "cell_type": "code",
   "execution_count": null,
   "id": "327a4732-daec-4ab3-abd4-a7927fd003f0",
   "metadata": {},
   "outputs": [],
   "source": []
  }
 ],
 "metadata": {
  "kernelspec": {
   "display_name": "Python 3 (ipykernel)",
   "language": "python",
   "name": "python3"
  },
  "language_info": {
   "codemirror_mode": {
    "name": "ipython",
    "version": 3
   },
   "file_extension": ".py",
   "mimetype": "text/x-python",
   "name": "python",
   "nbconvert_exporter": "python",
   "pygments_lexer": "ipython3",
   "version": "3.8.8"
  }
 },
 "nbformat": 4,
 "nbformat_minor": 5
}
